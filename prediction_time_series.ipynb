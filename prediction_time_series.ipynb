{
 "cells": [
  {
   "cell_type": "markdown",
   "id": "3b417960",
   "metadata": {},
   "source": [
    "## Data cleaning"
   ]
  },
  {
   "cell_type": "markdown",
   "id": "dd26649a",
   "metadata": {},
   "source": [
    "### Set up"
   ]
  },
  {
   "cell_type": "markdown",
   "id": "3481befd",
   "metadata": {},
   "source": [
    "We first import the different libraries that we will be using for this project"
   ]
  },
  {
   "cell_type": "code",
   "execution_count": 1,
   "id": "41070f99",
   "metadata": {
    "ExecuteTime": {
     "end_time": "2024-11-22T12:32:00.283254Z",
     "start_time": "2024-11-22T12:32:00.265249Z"
    }
   },
   "outputs": [],
   "source": [
    "import pandas as pd\n",
    "from datetime import datetime \n"
   ]
  },
  {
   "cell_type": "markdown",
   "id": "fae4ad70",
   "metadata": {},
   "source": [
    "We import our dataset"
   ]
  },
  {
   "cell_type": "code",
   "execution_count": 2,
   "id": "3360016c",
   "metadata": {},
   "outputs": [
    {
     "data": {
      "text/html": [
       "<div>\n",
       "<style scoped>\n",
       "    .dataframe tbody tr th:only-of-type {\n",
       "        vertical-align: middle;\n",
       "    }\n",
       "\n",
       "    .dataframe tbody tr th {\n",
       "        vertical-align: top;\n",
       "    }\n",
       "\n",
       "    .dataframe thead th {\n",
       "        text-align: right;\n",
       "    }\n",
       "</style>\n",
       "<table border=\"1\" class=\"dataframe\">\n",
       "  <thead>\n",
       "    <tr style=\"text-align: right;\">\n",
       "      <th></th>\n",
       "      <th>superficie</th>\n",
       "      <th>fecha</th>\n",
       "      <th>lat</th>\n",
       "      <th>lng</th>\n",
       "      <th>idprovincia</th>\n",
       "      <th>idmunicipio</th>\n",
       "      <th>municipio</th>\n",
       "    </tr>\n",
       "  </thead>\n",
       "  <tbody>\n",
       "    <tr>\n",
       "      <th>0</th>\n",
       "      <td>20.0</td>\n",
       "      <td>1980-09-18</td>\n",
       "      <td>42.428281</td>\n",
       "      <td>-6.914337</td>\n",
       "      <td>32</td>\n",
       "      <td>9</td>\n",
       "      <td>BARCO DE VALDEORRAS, O</td>\n",
       "    </tr>\n",
       "    <tr>\n",
       "      <th>1</th>\n",
       "      <td>2.0</td>\n",
       "      <td>1983-01-16</td>\n",
       "      <td>42.542185</td>\n",
       "      <td>-8.449205</td>\n",
       "      <td>36</td>\n",
       "      <td>12</td>\n",
       "      <td>COTOBADE</td>\n",
       "    </tr>\n",
       "    <tr>\n",
       "      <th>2</th>\n",
       "      <td>6.0</td>\n",
       "      <td>1983-01-16</td>\n",
       "      <td>42.102572</td>\n",
       "      <td>-8.415920</td>\n",
       "      <td>36</td>\n",
       "      <td>34</td>\n",
       "      <td>NEVES, AS</td>\n",
       "    </tr>\n",
       "    <tr>\n",
       "      <th>3</th>\n",
       "      <td>3.0</td>\n",
       "      <td>1983-01-17</td>\n",
       "      <td>43.629834</td>\n",
       "      <td>-7.367642</td>\n",
       "      <td>27</td>\n",
       "      <td>19</td>\n",
       "      <td>FOZ</td>\n",
       "    </tr>\n",
       "    <tr>\n",
       "      <th>4</th>\n",
       "      <td>40.0</td>\n",
       "      <td>1983-01-18</td>\n",
       "      <td>43.018968</td>\n",
       "      <td>-7.408954</td>\n",
       "      <td>27</td>\n",
       "      <td>11</td>\n",
       "      <td>CASTROVERDE</td>\n",
       "    </tr>\n",
       "  </tbody>\n",
       "</table>\n",
       "</div>"
      ],
      "text/plain": [
       "   superficie       fecha        lat       lng  idprovincia  idmunicipio  \\\n",
       "0        20.0  1980-09-18  42.428281 -6.914337           32            9   \n",
       "1         2.0  1983-01-16  42.542185 -8.449205           36           12   \n",
       "2         6.0  1983-01-16  42.102572 -8.415920           36           34   \n",
       "3         3.0  1983-01-17  43.629834 -7.367642           27           19   \n",
       "4        40.0  1983-01-18  43.018968 -7.408954           27           11   \n",
       "\n",
       "                municipio  \n",
       "0  BARCO DE VALDEORRAS, O  \n",
       "1                COTOBADE  \n",
       "2               NEVES, AS  \n",
       "3                     FOZ  \n",
       "4             CASTROVERDE  "
      ]
     },
     "execution_count": 2,
     "metadata": {},
     "output_type": "execute_result"
    }
   ],
   "source": [
    "data_path=\"data/fires-time-series.xlsx\"\n",
    "try:\n",
    "    df=pd.read_excel(data_path)\n",
    "except Exception as error:\n",
    "    print(f\"Error while importing the excel file: {error}\")\n",
    "df.head()"
   ]
  },
  {
   "cell_type": "markdown",
   "id": "cb3db8c4",
   "metadata": {},
   "source": [
    "### Group by weeks"
   ]
  },
  {
   "cell_type": "markdown",
   "id": "e58f3111",
   "metadata": {},
   "source": [
    "Agrupamos los datos y obtenemos el número total de incendios y la superficie quemada por semana."
   ]
  },
  {
   "cell_type": "code",
   "execution_count": 3,
   "id": "56e11eec",
   "metadata": {},
   "outputs": [
    {
     "data": {
      "text/html": [
       "<div>\n",
       "<style scoped>\n",
       "    .dataframe tbody tr th:only-of-type {\n",
       "        vertical-align: middle;\n",
       "    }\n",
       "\n",
       "    .dataframe tbody tr th {\n",
       "        vertical-align: top;\n",
       "    }\n",
       "\n",
       "    .dataframe thead th {\n",
       "        text-align: right;\n",
       "    }\n",
       "</style>\n",
       "<table border=\"1\" class=\"dataframe\">\n",
       "  <thead>\n",
       "    <tr style=\"text-align: right;\">\n",
       "      <th></th>\n",
       "      <th>semana</th>\n",
       "      <th>numero_incendios</th>\n",
       "      <th>superficie_total</th>\n",
       "      <th>año</th>\n",
       "      <th>semana_año</th>\n",
       "    </tr>\n",
       "  </thead>\n",
       "  <tbody>\n",
       "    <tr>\n",
       "      <th>0</th>\n",
       "      <td>1983-01-03</td>\n",
       "      <td>0</td>\n",
       "      <td>0.0</td>\n",
       "      <td>1983</td>\n",
       "      <td>1</td>\n",
       "    </tr>\n",
       "    <tr>\n",
       "      <th>1</th>\n",
       "      <td>1983-01-10</td>\n",
       "      <td>2</td>\n",
       "      <td>8.0</td>\n",
       "      <td>1983</td>\n",
       "      <td>2</td>\n",
       "    </tr>\n",
       "    <tr>\n",
       "      <th>2</th>\n",
       "      <td>1983-01-17</td>\n",
       "      <td>61</td>\n",
       "      <td>937.0</td>\n",
       "      <td>1983</td>\n",
       "      <td>3</td>\n",
       "    </tr>\n",
       "    <tr>\n",
       "      <th>3</th>\n",
       "      <td>1983-01-24</td>\n",
       "      <td>75</td>\n",
       "      <td>1009.3</td>\n",
       "      <td>1983</td>\n",
       "      <td>4</td>\n",
       "    </tr>\n",
       "    <tr>\n",
       "      <th>4</th>\n",
       "      <td>1983-01-31</td>\n",
       "      <td>2</td>\n",
       "      <td>6.0</td>\n",
       "      <td>1983</td>\n",
       "      <td>5</td>\n",
       "    </tr>\n",
       "  </tbody>\n",
       "</table>\n",
       "</div>"
      ],
      "text/plain": [
       "      semana  numero_incendios  superficie_total   año  semana_año\n",
       "0 1983-01-03                 0               0.0  1983           1\n",
       "1 1983-01-10                 2               8.0  1983           2\n",
       "2 1983-01-17                61             937.0  1983           3\n",
       "3 1983-01-24                75            1009.3  1983           4\n",
       "4 1983-01-31                 2               6.0  1983           5"
      ]
     },
     "execution_count": 3,
     "metadata": {},
     "output_type": "execute_result"
    }
   ],
   "source": [
    "# Asegurarse de que la columna 'fecha' sea datetime\n",
    "df['fecha'] = pd.to_datetime(df['fecha'])\n",
    "\n",
    "# Agregar columna de semana (Año-Semana)\n",
    "df['semana'] = df['fecha'].dt.to_period('W').apply(lambda r: r.start_time)\n",
    "\n",
    "# Agrupar por semana\n",
    "df = df.groupby('semana').agg(\n",
    "    numero_incendios=('superficie', 'count'),  # Cuenta las filas\n",
    "    superficie_total=('superficie', 'sum')    # Suma la superficie\n",
    ").reset_index()\n",
    "\n",
    "# Crear rango completo de semanas desde el primer lunes de 1983 hasta la última fecha\n",
    "start_date = pd.Timestamp(\"1983-01-01\")\n",
    "end_date = df['semana'].max()\n",
    "\n",
    "# Generar rango de semanas completas\n",
    "full_weeks = pd.date_range(start=start_date, end=end_date, freq='W-MON')\n",
    "\n",
    "# Crear un DataFrame con las semanas completas\n",
    "weeks_df = pd.DataFrame({'semana': full_weeks})\n",
    "\n",
    "# Combinar con el DataFrame original (left join)\n",
    "df = weeks_df.merge(df, on='semana', how='left')\n",
    "\n",
    "# Rellenar valores NaN con 0 para las columnas numéricas\n",
    "df['numero_incendios'] = df['numero_incendios'].fillna(0).astype(int)\n",
    "df['superficie_total'] = df['superficie_total'].fillna(0)\n",
    "\n",
    "# Agregar columnas de año y número de semana\n",
    "df['año'] = df['semana'].dt.year\n",
    "df['semana_año'] = df['semana'].dt.isocalendar().week\n",
    "\n",
    "df.head()"
   ]
  },
  {
   "cell_type": "markdown",
   "id": "57e04996",
   "metadata": {},
   "source": [
    "### Split train and test data"
   ]
  },
  {
   "cell_type": "markdown",
   "id": "213593ee",
   "metadata": {},
   "source": [
    "Los datos para entrenamiento son el 80% inicial (1983-2011) y los de test el 20% restante (2012-2018)."
   ]
  },
  {
   "cell_type": "code",
   "execution_count": 4,
   "id": "dcb7131e",
   "metadata": {},
   "outputs": [
    {
     "name": "stdout",
     "output_type": "stream",
     "text": [
      "\n",
      "Tamaño total: 1879\n",
      "Train: 1513 filas (80.52%)\n",
      "Test: 366 filas (19.48%)\n",
      "Train:\n",
      "      semana  numero_incendios  superficie_total   año  semana_año\n",
      "0 1983-01-03                 0               0.0  1983           1\n",
      "1 1983-01-10                 2               8.0  1983           2\n",
      "2 1983-01-17                61             937.0  1983           3\n",
      "3 1983-01-24                75            1009.3  1983           4\n",
      "4 1983-01-31                 2               6.0  1983           5 \n",
      "--------------\n",
      "          semana  numero_incendios  superficie_total   año  semana_año\n",
      "1508 2011-11-28                 3             48.55  2011          48\n",
      "1509 2011-12-05                 0              0.00  2011          49\n",
      "1510 2011-12-12                 0              0.00  2011          50\n",
      "1511 2011-12-19                 0              0.00  2011          51\n",
      "1512 2011-12-26                 5             12.89  2011          52\n",
      "\n",
      "Test:\n",
      "      semana  numero_incendios  superficie_total   año  semana_año\n",
      "0 2012-01-02                 1              1.70  2012           1\n",
      "1 2012-01-09                 8             15.59  2012           2\n",
      "2 2012-01-16                 1              2.11  2012           3\n",
      "3 2012-01-23                16            144.27  2012           4\n",
      "4 2012-01-30                31            106.29  2012           5 \n",
      "--------------\n",
      "         semana  numero_incendios  superficie_total   año  semana_año\n",
      "361 2018-12-03                 1              3.09  2018          49\n",
      "362 2018-12-10                 0              0.00  2018          50\n",
      "363 2018-12-17                 0              0.00  2018          51\n",
      "364 2018-12-24                 1             36.04  2018          52\n",
      "365 2018-12-31                 1             34.91  2018           1\n"
     ]
    }
   ],
   "source": [
    "# Dividir los datos en train y test\n",
    "df_train = df[df['año'] <= 2011].reset_index(drop=True)\n",
    "df_test = df[df['año'] >= 2012].reset_index(drop=True)\n",
    "\n",
    "# Calcular tamaños de train y test\n",
    "train_size = len(df_train)\n",
    "test_size = len(df_test)\n",
    "total_size = len(df)\n",
    "\n",
    "# Calcular porcentajes\n",
    "train_percentage = (train_size / total_size) * 100\n",
    "test_percentage = (test_size / total_size) * 100\n",
    "\n",
    "# Mostrar resultados\n",
    "print(f\"\\nTamaño total: {total_size}\")\n",
    "print(f\"Train: {train_size} filas ({train_percentage:.2f}%)\")\n",
    "print(f\"Test: {test_size} filas ({test_percentage:.2f}%)\")\n",
    "\n",
    "# Verificar los resultados\n",
    "print(\"Train:\")\n",
    "print(df_train.head(), \"\\n--------------\\n\", df_train.tail())\n",
    "print(\"\\nTest:\")\n",
    "print(df_test.head(), \"\\n--------------\\n\", df_test.tail()) # No se usará hasta el final"
   ]
  },
  {
   "cell_type": "markdown",
   "id": "d9362f0c",
   "metadata": {},
   "source": [
    "## Train models"
   ]
  },
  {
   "cell_type": "markdown",
   "id": "a65ac8e1",
   "metadata": {},
   "source": [
    "### Analyze train data set"
   ]
  },
  {
   "cell_type": "code",
   "execution_count": 5,
   "id": "72aa6b51",
   "metadata": {},
   "outputs": [],
   "source": [
    "#TODO"
   ]
  },
  {
   "cell_type": "markdown",
   "id": "14a09937",
   "metadata": {},
   "source": [
    "### Time series"
   ]
  },
  {
   "cell_type": "markdown",
   "id": "a0b69e23",
   "metadata": {},
   "source": [
    "Tendremos que hacer 3 modelos con series temporales:\n",
    "- Predecir numero de incendios\n",
    "- Predecir hectareas quemadas\n",
    "- Predecir ambas cosas a la vez\n",
    "\n",
    "Después introducir también variables exógenas (meteorológicas)."
   ]
  },
  {
   "cell_type": "code",
   "execution_count": 6,
   "id": "82ee1d5c",
   "metadata": {},
   "outputs": [],
   "source": [
    "#TODO"
   ]
  },
  {
   "cell_type": "markdown",
   "id": "883c9640",
   "metadata": {},
   "source": [
    "## Performances"
   ]
  },
  {
   "cell_type": "code",
   "execution_count": 7,
   "id": "fb0f488a",
   "metadata": {},
   "outputs": [],
   "source": [
    "#TODO"
   ]
  },
  {
   "cell_type": "markdown",
   "id": "bb6dcd49",
   "metadata": {},
   "source": []
  },
  {
   "cell_type": "markdown",
   "id": "cc88c4df",
   "metadata": {},
   "source": [
    "## Test Model\n"
   ]
  },
  {
   "cell_type": "code",
   "execution_count": 8,
   "id": "1e0aa303",
   "metadata": {},
   "outputs": [],
   "source": [
    "#TODO"
   ]
  }
 ],
 "metadata": {
  "kernelspec": {
   "display_name": "env",
   "language": "python",
   "name": "python3"
  },
  "language_info": {
   "codemirror_mode": {
    "name": "ipython",
    "version": 3
   },
   "file_extension": ".py",
   "mimetype": "text/x-python",
   "name": "python",
   "nbconvert_exporter": "python",
   "pygments_lexer": "ipython3",
   "version": "3.9.9"
  }
 },
 "nbformat": 4,
 "nbformat_minor": 5
}
