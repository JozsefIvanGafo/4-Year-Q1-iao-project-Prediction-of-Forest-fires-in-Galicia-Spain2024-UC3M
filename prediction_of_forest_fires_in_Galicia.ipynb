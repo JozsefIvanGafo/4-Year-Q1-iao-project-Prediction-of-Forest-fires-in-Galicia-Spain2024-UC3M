{
 "cells": [
  {
   "cell_type": "markdown",
   "id": "3b417960",
   "metadata": {},
   "source": [
    "## Data cleaning"
   ]
  },
  {
   "cell_type": "markdown",
   "id": "dd26649a",
   "metadata": {},
   "source": [
    "### Set up"
   ]
  },
  {
   "cell_type": "markdown",
   "id": "3481befd",
   "metadata": {},
   "source": [
    "We first import the different libraries that we will be using for this project"
   ]
  },
  {
   "cell_type": "code",
   "execution_count": 9,
   "id": "41070f99",
   "metadata": {},
   "outputs": [],
   "source": [
    "import pandas as pd\n",
    "from datetime import datetime \n",
    "from meteostat import Stations, Daily"
   ]
  },
  {
   "cell_type": "markdown",
   "id": "fae4ad70",
   "metadata": {},
   "source": [
    "We import our dataset"
   ]
  },
  {
   "cell_type": "code",
   "execution_count": 13,
   "id": "e13d1dc7",
   "metadata": {},
   "outputs": [
    {
     "data": {
      "text/html": [
       "<div>\n",
       "<style scoped>\n",
       "    .dataframe tbody tr th:only-of-type {\n",
       "        vertical-align: middle;\n",
       "    }\n",
       "\n",
       "    .dataframe tbody tr th {\n",
       "        vertical-align: top;\n",
       "    }\n",
       "\n",
       "    .dataframe thead th {\n",
       "        text-align: right;\n",
       "    }\n",
       "</style>\n",
       "<table border=\"1\" class=\"dataframe\">\n",
       "  <thead>\n",
       "    <tr style=\"text-align: right;\">\n",
       "      <th></th>\n",
       "      <th>id</th>\n",
       "      <th>superficie</th>\n",
       "      <th>fecha</th>\n",
       "      <th>lat</th>\n",
       "      <th>lng</th>\n",
       "      <th>latlng_explicit</th>\n",
       "      <th>idcomunidad</th>\n",
       "      <th>idprovincia</th>\n",
       "      <th>idmunicipio</th>\n",
       "      <th>municipio</th>\n",
       "      <th>...</th>\n",
       "      <th>causa_supuesta</th>\n",
       "      <th>causa_desc</th>\n",
       "      <th>muertos</th>\n",
       "      <th>heridos</th>\n",
       "      <th>time_ctrl</th>\n",
       "      <th>time_ext</th>\n",
       "      <th>personal</th>\n",
       "      <th>medios</th>\n",
       "      <th>gastos</th>\n",
       "      <th>perdidas</th>\n",
       "    </tr>\n",
       "  </thead>\n",
       "  <tbody>\n",
       "    <tr>\n",
       "      <th>0</th>\n",
       "      <td>1968290001</td>\n",
       "      <td>14.0</td>\n",
       "      <td>1968-01-01</td>\n",
       "      <td>NaN</td>\n",
       "      <td>NaN</td>\n",
       "      <td>0</td>\n",
       "      <td>4</td>\n",
       "      <td>29</td>\n",
       "      <td>0</td>\n",
       "      <td>INDETERMINADO</td>\n",
       "      <td>...</td>\n",
       "      <td>1</td>\n",
       "      <td>40</td>\n",
       "      <td>0</td>\n",
       "      <td>0</td>\n",
       "      <td>0</td>\n",
       "      <td>360</td>\n",
       "      <td>0</td>\n",
       "      <td>0</td>\n",
       "      <td>0</td>\n",
       "      <td>0</td>\n",
       "    </tr>\n",
       "    <tr>\n",
       "      <th>1</th>\n",
       "      <td>1968430003</td>\n",
       "      <td>3.0</td>\n",
       "      <td>1968-01-03</td>\n",
       "      <td>NaN</td>\n",
       "      <td>NaN</td>\n",
       "      <td>0</td>\n",
       "      <td>2</td>\n",
       "      <td>43</td>\n",
       "      <td>0</td>\n",
       "      <td>INDETERMINADO</td>\n",
       "      <td>...</td>\n",
       "      <td>1</td>\n",
       "      <td>0</td>\n",
       "      <td>0</td>\n",
       "      <td>0</td>\n",
       "      <td>0</td>\n",
       "      <td>60</td>\n",
       "      <td>0</td>\n",
       "      <td>0</td>\n",
       "      <td>0</td>\n",
       "      <td>0</td>\n",
       "    </tr>\n",
       "    <tr>\n",
       "      <th>2</th>\n",
       "      <td>1968290006</td>\n",
       "      <td>2.0</td>\n",
       "      <td>1968-01-06</td>\n",
       "      <td>NaN</td>\n",
       "      <td>NaN</td>\n",
       "      <td>0</td>\n",
       "      <td>4</td>\n",
       "      <td>29</td>\n",
       "      <td>0</td>\n",
       "      <td>INDETERMINADO</td>\n",
       "      <td>...</td>\n",
       "      <td>1</td>\n",
       "      <td>0</td>\n",
       "      <td>0</td>\n",
       "      <td>0</td>\n",
       "      <td>0</td>\n",
       "      <td>120</td>\n",
       "      <td>0</td>\n",
       "      <td>0</td>\n",
       "      <td>0</td>\n",
       "      <td>0</td>\n",
       "    </tr>\n",
       "    <tr>\n",
       "      <th>3</th>\n",
       "      <td>1968430016</td>\n",
       "      <td>600.0</td>\n",
       "      <td>1968-01-07</td>\n",
       "      <td>NaN</td>\n",
       "      <td>NaN</td>\n",
       "      <td>0</td>\n",
       "      <td>2</td>\n",
       "      <td>43</td>\n",
       "      <td>0</td>\n",
       "      <td>INDETERMINADO</td>\n",
       "      <td>...</td>\n",
       "      <td>1</td>\n",
       "      <td>20</td>\n",
       "      <td>0</td>\n",
       "      <td>0</td>\n",
       "      <td>0</td>\n",
       "      <td>1440</td>\n",
       "      <td>35</td>\n",
       "      <td>1</td>\n",
       "      <td>0</td>\n",
       "      <td>0</td>\n",
       "    </tr>\n",
       "    <tr>\n",
       "      <th>4</th>\n",
       "      <td>1968120007</td>\n",
       "      <td>8.2</td>\n",
       "      <td>1968-01-07</td>\n",
       "      <td>NaN</td>\n",
       "      <td>NaN</td>\n",
       "      <td>0</td>\n",
       "      <td>9</td>\n",
       "      <td>12</td>\n",
       "      <td>0</td>\n",
       "      <td>INDETERMINADO</td>\n",
       "      <td>...</td>\n",
       "      <td>1</td>\n",
       "      <td>20</td>\n",
       "      <td>0</td>\n",
       "      <td>0</td>\n",
       "      <td>0</td>\n",
       "      <td>120</td>\n",
       "      <td>0</td>\n",
       "      <td>0</td>\n",
       "      <td>0</td>\n",
       "      <td>0</td>\n",
       "    </tr>\n",
       "  </tbody>\n",
       "</table>\n",
       "<p>5 rows × 21 columns</p>\n",
       "</div>"
      ],
      "text/plain": [
       "           id  superficie       fecha  lat  lng  latlng_explicit  idcomunidad  \\\n",
       "0  1968290001        14.0  1968-01-01  NaN  NaN                0            4   \n",
       "1  1968430003         3.0  1968-01-03  NaN  NaN                0            2   \n",
       "2  1968290006         2.0  1968-01-06  NaN  NaN                0            4   \n",
       "3  1968430016       600.0  1968-01-07  NaN  NaN                0            2   \n",
       "4  1968120007         8.2  1968-01-07  NaN  NaN                0            9   \n",
       "\n",
       "   idprovincia  idmunicipio      municipio  ...  causa_supuesta  causa_desc  \\\n",
       "0           29            0  INDETERMINADO  ...               1          40   \n",
       "1           43            0  INDETERMINADO  ...               1           0   \n",
       "2           29            0  INDETERMINADO  ...               1           0   \n",
       "3           43            0  INDETERMINADO  ...               1          20   \n",
       "4           12            0  INDETERMINADO  ...               1          20   \n",
       "\n",
       "   muertos  heridos  time_ctrl  time_ext  personal  medios  gastos  perdidas  \n",
       "0        0        0          0       360         0       0       0         0  \n",
       "1        0        0          0        60         0       0       0         0  \n",
       "2        0        0          0       120         0       0       0         0  \n",
       "3        0        0          0      1440        35       1       0         0  \n",
       "4        0        0          0       120         0       0       0         0  \n",
       "\n",
       "[5 rows x 21 columns]"
      ]
     },
     "execution_count": 13,
     "metadata": {},
     "output_type": "execute_result"
    }
   ],
   "source": [
    "data_path=\"data/fires-all.csv\"\n",
    "fires=pd.read_csv(data_path)\n",
    "fires.head()"
   ]
  },
  {
   "cell_type": "markdown",
   "id": "1719a509",
   "metadata": {},
   "source": [
    "We analyze the data and observe the type of data on each column and how many nulls values we have"
   ]
  },
  {
   "cell_type": "code",
   "execution_count": 15,
   "id": "d7eb79af",
   "metadata": {},
   "outputs": [
    {
     "name": "stdout",
     "output_type": "stream",
     "text": [
      "<class 'pandas.core.frame.DataFrame'>\n",
      "RangeIndex: 284589 entries, 0 to 284588\n",
      "Data columns (total 21 columns):\n",
      " #   Column           Non-Null Count   Dtype  \n",
      "---  ------           --------------   -----  \n",
      " 0   id               284589 non-null  int64  \n",
      " 1   superficie       284589 non-null  float64\n",
      " 2   fecha            284589 non-null  object \n",
      " 3   lat              230154 non-null  float64\n",
      " 4   lng              230154 non-null  float64\n",
      " 5   latlng_explicit  284589 non-null  int64  \n",
      " 6   idcomunidad      284589 non-null  int64  \n",
      " 7   idprovincia      284589 non-null  int64  \n",
      " 8   idmunicipio      284589 non-null  int64  \n",
      " 9   municipio        284576 non-null  object \n",
      " 10  causa            284589 non-null  int64  \n",
      " 11  causa_supuesta   284589 non-null  int64  \n",
      " 12  causa_desc       284589 non-null  int64  \n",
      " 13  muertos          284589 non-null  int64  \n",
      " 14  heridos          284589 non-null  int64  \n",
      " 15  time_ctrl        284589 non-null  int64  \n",
      " 16  time_ext         284589 non-null  int64  \n",
      " 17  personal         284589 non-null  int64  \n",
      " 18  medios           284589 non-null  int64  \n",
      " 19  gastos           284589 non-null  int64  \n",
      " 20  perdidas         284589 non-null  int64  \n",
      "dtypes: float64(3), int64(16), object(2)\n",
      "memory usage: 45.6+ MB\n"
     ]
    }
   ],
   "source": [
    "fires.info()"
   ]
  },
  {
   "cell_type": "markdown",
   "id": "b1ac7bfc",
   "metadata": {},
   "source": [
    "### Remove unnecesary rows"
   ]
  },
  {
   "cell_type": "code",
   "execution_count": null,
   "id": "322dc45d",
   "metadata": {},
   "outputs": [],
   "source": [
    "#TODO "
   ]
  },
  {
   "cell_type": "markdown",
   "id": "0dae4e65",
   "metadata": {},
   "source": [
    "### Remove unnecesary columns"
   ]
  },
  {
   "cell_type": "code",
   "execution_count": null,
   "id": "70d37d12",
   "metadata": {},
   "outputs": [],
   "source": [
    "#TODO "
   ]
  },
  {
   "cell_type": "markdown",
   "id": "175fe2aa",
   "metadata": {},
   "source": [
    "### Add weather data"
   ]
  },
  {
   "cell_type": "code",
   "execution_count": null,
   "id": "58c42990",
   "metadata": {},
   "outputs": [],
   "source": [
    "# Documentation (https://dev.meteostat.net/python/daily.html#example)\n",
    "#TODO"
   ]
  },
  {
   "cell_type": "markdown",
   "id": "cb3db8c4",
   "metadata": {},
   "source": [
    "### Group by weeks"
   ]
  },
  {
   "cell_type": "code",
   "execution_count": null,
   "id": "56e11eec",
   "metadata": {},
   "outputs": [],
   "source": [
    "#TODO "
   ]
  },
  {
   "cell_type": "markdown",
   "id": "57e04996",
   "metadata": {},
   "source": [
    "### Split train and test data"
   ]
  },
  {
   "cell_type": "code",
   "execution_count": null,
   "id": "dcb7131e",
   "metadata": {},
   "outputs": [],
   "source": [
    "#We split 80% of the data for training the model\n",
    "train_split=80\n"
   ]
  },
  {
   "cell_type": "markdown",
   "id": "ed5b2c85",
   "metadata": {},
   "source": [
    "## Analyze data"
   ]
  },
  {
   "cell_type": "code",
   "execution_count": null,
   "id": "4ea9276a",
   "metadata": {},
   "outputs": [],
   "source": [
    "#TODO"
   ]
  },
  {
   "cell_type": "markdown",
   "id": "744a99a9",
   "metadata": {},
   "source": []
  },
  {
   "cell_type": "markdown",
   "id": "d9362f0c",
   "metadata": {},
   "source": [
    "## Train models"
   ]
  },
  {
   "cell_type": "code",
   "execution_count": null,
   "id": "82ee1d5c",
   "metadata": {},
   "outputs": [],
   "source": [
    "#TODO"
   ]
  },
  {
   "cell_type": "markdown",
   "id": "3f7ecfa1",
   "metadata": {},
   "source": []
  },
  {
   "cell_type": "markdown",
   "id": "883c9640",
   "metadata": {},
   "source": [
    "## Performances"
   ]
  },
  {
   "cell_type": "code",
   "execution_count": null,
   "id": "fb0f488a",
   "metadata": {},
   "outputs": [],
   "source": [
    "#TODO"
   ]
  },
  {
   "cell_type": "markdown",
   "id": "bb6dcd49",
   "metadata": {},
   "source": []
  },
  {
   "cell_type": "markdown",
   "id": "cc88c4df",
   "metadata": {},
   "source": [
    "## Test Model\n"
   ]
  },
  {
   "cell_type": "code",
   "execution_count": null,
   "id": "1e0aa303",
   "metadata": {},
   "outputs": [],
   "source": [
    "#TODO"
   ]
  }
 ],
 "metadata": {
  "kernelspec": {
   "display_name": "env",
   "language": "python",
   "name": "python3"
  },
  "language_info": {
   "codemirror_mode": {
    "name": "ipython",
    "version": 3
   },
   "file_extension": ".py",
   "mimetype": "text/x-python",
   "name": "python",
   "nbconvert_exporter": "python",
   "pygments_lexer": "ipython3",
   "version": "3.11.9"
  }
 },
 "nbformat": 4,
 "nbformat_minor": 5
}
