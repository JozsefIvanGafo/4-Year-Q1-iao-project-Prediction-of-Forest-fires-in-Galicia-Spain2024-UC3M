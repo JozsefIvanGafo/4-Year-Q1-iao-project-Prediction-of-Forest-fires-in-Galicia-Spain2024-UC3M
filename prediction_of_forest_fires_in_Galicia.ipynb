{
 "cells": [
  {
   "cell_type": "markdown",
   "id": "3b417960",
   "metadata": {},
   "source": [
    "## Data cleaning"
   ]
  },
  {
   "cell_type": "markdown",
   "id": "dd26649a",
   "metadata": {},
   "source": [
    "### Set up"
   ]
  },
  {
   "cell_type": "markdown",
   "id": "3481befd",
   "metadata": {},
   "source": [
    "We first import the different libraries that we will be using for this project"
   ]
  },
  {
   "cell_type": "code",
   "execution_count": 231,
   "id": "41070f99",
   "metadata": {},
   "outputs": [],
   "source": [
    "import pandas as pd\n",
    "from datetime import datetime \n",
    "from meteostat import Point, Daily"
   ]
  },
  {
   "cell_type": "markdown",
   "id": "fae4ad70",
   "metadata": {},
   "source": [
    "We import our dataset"
   ]
  },
  {
   "cell_type": "code",
   "execution_count": 232,
   "id": "e13d1dc7",
   "metadata": {},
   "outputs": [
    {
     "data": {
      "text/html": [
       "<div>\n",
       "<style scoped>\n",
       "    .dataframe tbody tr th:only-of-type {\n",
       "        vertical-align: middle;\n",
       "    }\n",
       "\n",
       "    .dataframe tbody tr th {\n",
       "        vertical-align: top;\n",
       "    }\n",
       "\n",
       "    .dataframe thead th {\n",
       "        text-align: right;\n",
       "    }\n",
       "</style>\n",
       "<table border=\"1\" class=\"dataframe\">\n",
       "  <thead>\n",
       "    <tr style=\"text-align: right;\">\n",
       "      <th></th>\n",
       "      <th>id</th>\n",
       "      <th>superficie</th>\n",
       "      <th>fecha</th>\n",
       "      <th>lat</th>\n",
       "      <th>lng</th>\n",
       "      <th>latlng_explicit</th>\n",
       "      <th>idcomunidad</th>\n",
       "      <th>idprovincia</th>\n",
       "      <th>idmunicipio</th>\n",
       "      <th>municipio</th>\n",
       "      <th>...</th>\n",
       "      <th>causa_supuesta</th>\n",
       "      <th>causa_desc</th>\n",
       "      <th>muertos</th>\n",
       "      <th>heridos</th>\n",
       "      <th>time_ctrl</th>\n",
       "      <th>time_ext</th>\n",
       "      <th>personal</th>\n",
       "      <th>medios</th>\n",
       "      <th>gastos</th>\n",
       "      <th>perdidas</th>\n",
       "    </tr>\n",
       "  </thead>\n",
       "  <tbody>\n",
       "    <tr>\n",
       "      <th>0</th>\n",
       "      <td>1968290001</td>\n",
       "      <td>14.0</td>\n",
       "      <td>1968-01-01</td>\n",
       "      <td>NaN</td>\n",
       "      <td>NaN</td>\n",
       "      <td>0</td>\n",
       "      <td>4</td>\n",
       "      <td>29</td>\n",
       "      <td>0</td>\n",
       "      <td>INDETERMINADO</td>\n",
       "      <td>...</td>\n",
       "      <td>1</td>\n",
       "      <td>40</td>\n",
       "      <td>0</td>\n",
       "      <td>0</td>\n",
       "      <td>0</td>\n",
       "      <td>360</td>\n",
       "      <td>0</td>\n",
       "      <td>0</td>\n",
       "      <td>0</td>\n",
       "      <td>0</td>\n",
       "    </tr>\n",
       "    <tr>\n",
       "      <th>1</th>\n",
       "      <td>1968430003</td>\n",
       "      <td>3.0</td>\n",
       "      <td>1968-01-03</td>\n",
       "      <td>NaN</td>\n",
       "      <td>NaN</td>\n",
       "      <td>0</td>\n",
       "      <td>2</td>\n",
       "      <td>43</td>\n",
       "      <td>0</td>\n",
       "      <td>INDETERMINADO</td>\n",
       "      <td>...</td>\n",
       "      <td>1</td>\n",
       "      <td>0</td>\n",
       "      <td>0</td>\n",
       "      <td>0</td>\n",
       "      <td>0</td>\n",
       "      <td>60</td>\n",
       "      <td>0</td>\n",
       "      <td>0</td>\n",
       "      <td>0</td>\n",
       "      <td>0</td>\n",
       "    </tr>\n",
       "    <tr>\n",
       "      <th>2</th>\n",
       "      <td>1968290006</td>\n",
       "      <td>2.0</td>\n",
       "      <td>1968-01-06</td>\n",
       "      <td>NaN</td>\n",
       "      <td>NaN</td>\n",
       "      <td>0</td>\n",
       "      <td>4</td>\n",
       "      <td>29</td>\n",
       "      <td>0</td>\n",
       "      <td>INDETERMINADO</td>\n",
       "      <td>...</td>\n",
       "      <td>1</td>\n",
       "      <td>0</td>\n",
       "      <td>0</td>\n",
       "      <td>0</td>\n",
       "      <td>0</td>\n",
       "      <td>120</td>\n",
       "      <td>0</td>\n",
       "      <td>0</td>\n",
       "      <td>0</td>\n",
       "      <td>0</td>\n",
       "    </tr>\n",
       "    <tr>\n",
       "      <th>3</th>\n",
       "      <td>1968430016</td>\n",
       "      <td>600.0</td>\n",
       "      <td>1968-01-07</td>\n",
       "      <td>NaN</td>\n",
       "      <td>NaN</td>\n",
       "      <td>0</td>\n",
       "      <td>2</td>\n",
       "      <td>43</td>\n",
       "      <td>0</td>\n",
       "      <td>INDETERMINADO</td>\n",
       "      <td>...</td>\n",
       "      <td>1</td>\n",
       "      <td>20</td>\n",
       "      <td>0</td>\n",
       "      <td>0</td>\n",
       "      <td>0</td>\n",
       "      <td>1440</td>\n",
       "      <td>35</td>\n",
       "      <td>1</td>\n",
       "      <td>0</td>\n",
       "      <td>0</td>\n",
       "    </tr>\n",
       "    <tr>\n",
       "      <th>4</th>\n",
       "      <td>1968120007</td>\n",
       "      <td>8.2</td>\n",
       "      <td>1968-01-07</td>\n",
       "      <td>NaN</td>\n",
       "      <td>NaN</td>\n",
       "      <td>0</td>\n",
       "      <td>9</td>\n",
       "      <td>12</td>\n",
       "      <td>0</td>\n",
       "      <td>INDETERMINADO</td>\n",
       "      <td>...</td>\n",
       "      <td>1</td>\n",
       "      <td>20</td>\n",
       "      <td>0</td>\n",
       "      <td>0</td>\n",
       "      <td>0</td>\n",
       "      <td>120</td>\n",
       "      <td>0</td>\n",
       "      <td>0</td>\n",
       "      <td>0</td>\n",
       "      <td>0</td>\n",
       "    </tr>\n",
       "  </tbody>\n",
       "</table>\n",
       "<p>5 rows × 21 columns</p>\n",
       "</div>"
      ],
      "text/plain": [
       "           id  superficie       fecha  lat  lng  latlng_explicit  idcomunidad  \\\n",
       "0  1968290001        14.0  1968-01-01  NaN  NaN                0            4   \n",
       "1  1968430003         3.0  1968-01-03  NaN  NaN                0            2   \n",
       "2  1968290006         2.0  1968-01-06  NaN  NaN                0            4   \n",
       "3  1968430016       600.0  1968-01-07  NaN  NaN                0            2   \n",
       "4  1968120007         8.2  1968-01-07  NaN  NaN                0            9   \n",
       "\n",
       "   idprovincia  idmunicipio      municipio  ...  causa_supuesta  causa_desc  \\\n",
       "0           29            0  INDETERMINADO  ...               1          40   \n",
       "1           43            0  INDETERMINADO  ...               1           0   \n",
       "2           29            0  INDETERMINADO  ...               1           0   \n",
       "3           43            0  INDETERMINADO  ...               1          20   \n",
       "4           12            0  INDETERMINADO  ...               1          20   \n",
       "\n",
       "   muertos  heridos  time_ctrl  time_ext  personal  medios  gastos  perdidas  \n",
       "0        0        0          0       360         0       0       0         0  \n",
       "1        0        0          0        60         0       0       0         0  \n",
       "2        0        0          0       120         0       0       0         0  \n",
       "3        0        0          0      1440        35       1       0         0  \n",
       "4        0        0          0       120         0       0       0         0  \n",
       "\n",
       "[5 rows x 21 columns]"
      ]
     },
     "execution_count": 232,
     "metadata": {},
     "output_type": "execute_result"
    }
   ],
   "source": [
    "data_path=\"data/fires-all.csv\"\n",
    "fires=pd.read_csv(data_path)\n",
    "fires.head()"
   ]
  },
  {
   "cell_type": "markdown",
   "id": "1719a509",
   "metadata": {},
   "source": [
    "We analyze the data and observe the type of data on each column and how many nulls values we have"
   ]
  },
  {
   "cell_type": "code",
   "execution_count": 233,
   "id": "d7eb79af",
   "metadata": {},
   "outputs": [
    {
     "name": "stdout",
     "output_type": "stream",
     "text": [
      "<class 'pandas.core.frame.DataFrame'>\n",
      "RangeIndex: 284589 entries, 0 to 284588\n",
      "Data columns (total 21 columns):\n",
      " #   Column           Non-Null Count   Dtype  \n",
      "---  ------           --------------   -----  \n",
      " 0   id               284589 non-null  int64  \n",
      " 1   superficie       284589 non-null  float64\n",
      " 2   fecha            284589 non-null  object \n",
      " 3   lat              230154 non-null  float64\n",
      " 4   lng              230154 non-null  float64\n",
      " 5   latlng_explicit  284589 non-null  int64  \n",
      " 6   idcomunidad      284589 non-null  int64  \n",
      " 7   idprovincia      284589 non-null  int64  \n",
      " 8   idmunicipio      284589 non-null  int64  \n",
      " 9   municipio        284576 non-null  object \n",
      " 10  causa            284589 non-null  int64  \n",
      " 11  causa_supuesta   284589 non-null  int64  \n",
      " 12  causa_desc       284589 non-null  int64  \n",
      " 13  muertos          284589 non-null  int64  \n",
      " 14  heridos          284589 non-null  int64  \n",
      " 15  time_ctrl        284589 non-null  int64  \n",
      " 16  time_ext         284589 non-null  int64  \n",
      " 17  personal         284589 non-null  int64  \n",
      " 18  medios           284589 non-null  int64  \n",
      " 19  gastos           284589 non-null  int64  \n",
      " 20  perdidas         284589 non-null  int64  \n",
      "dtypes: float64(3), int64(16), object(2)\n",
      "memory usage: 45.6+ MB\n"
     ]
    }
   ],
   "source": [
    "fires.info()"
   ]
  },
  {
   "cell_type": "markdown",
   "id": "0dae4e65",
   "metadata": {},
   "source": [
    "### Remove unnecesary columns"
   ]
  },
  {
   "cell_type": "code",
   "execution_count": 234,
   "id": "70d37d12",
   "metadata": {},
   "outputs": [
    {
     "data": {
      "text/html": [
       "<div>\n",
       "<style scoped>\n",
       "    .dataframe tbody tr th:only-of-type {\n",
       "        vertical-align: middle;\n",
       "    }\n",
       "\n",
       "    .dataframe tbody tr th {\n",
       "        vertical-align: top;\n",
       "    }\n",
       "\n",
       "    .dataframe thead th {\n",
       "        text-align: right;\n",
       "    }\n",
       "</style>\n",
       "<table border=\"1\" class=\"dataframe\">\n",
       "  <thead>\n",
       "    <tr style=\"text-align: right;\">\n",
       "      <th></th>\n",
       "      <th>superficie</th>\n",
       "      <th>fecha</th>\n",
       "      <th>lat</th>\n",
       "      <th>lng</th>\n",
       "      <th>idcomunidad</th>\n",
       "      <th>idprovincia</th>\n",
       "      <th>idmunicipio</th>\n",
       "      <th>municipio</th>\n",
       "    </tr>\n",
       "  </thead>\n",
       "  <tbody>\n",
       "    <tr>\n",
       "      <th>0</th>\n",
       "      <td>14.0</td>\n",
       "      <td>1968-01-01</td>\n",
       "      <td>NaN</td>\n",
       "      <td>NaN</td>\n",
       "      <td>4</td>\n",
       "      <td>29</td>\n",
       "      <td>0</td>\n",
       "      <td>INDETERMINADO</td>\n",
       "    </tr>\n",
       "    <tr>\n",
       "      <th>1</th>\n",
       "      <td>3.0</td>\n",
       "      <td>1968-01-03</td>\n",
       "      <td>NaN</td>\n",
       "      <td>NaN</td>\n",
       "      <td>2</td>\n",
       "      <td>43</td>\n",
       "      <td>0</td>\n",
       "      <td>INDETERMINADO</td>\n",
       "    </tr>\n",
       "    <tr>\n",
       "      <th>2</th>\n",
       "      <td>2.0</td>\n",
       "      <td>1968-01-06</td>\n",
       "      <td>NaN</td>\n",
       "      <td>NaN</td>\n",
       "      <td>4</td>\n",
       "      <td>29</td>\n",
       "      <td>0</td>\n",
       "      <td>INDETERMINADO</td>\n",
       "    </tr>\n",
       "    <tr>\n",
       "      <th>3</th>\n",
       "      <td>600.0</td>\n",
       "      <td>1968-01-07</td>\n",
       "      <td>NaN</td>\n",
       "      <td>NaN</td>\n",
       "      <td>2</td>\n",
       "      <td>43</td>\n",
       "      <td>0</td>\n",
       "      <td>INDETERMINADO</td>\n",
       "    </tr>\n",
       "    <tr>\n",
       "      <th>4</th>\n",
       "      <td>8.2</td>\n",
       "      <td>1968-01-07</td>\n",
       "      <td>NaN</td>\n",
       "      <td>NaN</td>\n",
       "      <td>9</td>\n",
       "      <td>12</td>\n",
       "      <td>0</td>\n",
       "      <td>INDETERMINADO</td>\n",
       "    </tr>\n",
       "  </tbody>\n",
       "</table>\n",
       "</div>"
      ],
      "text/plain": [
       "   superficie       fecha  lat  lng  idcomunidad  idprovincia  idmunicipio  \\\n",
       "0        14.0  1968-01-01  NaN  NaN            4           29            0   \n",
       "1         3.0  1968-01-03  NaN  NaN            2           43            0   \n",
       "2         2.0  1968-01-06  NaN  NaN            4           29            0   \n",
       "3       600.0  1968-01-07  NaN  NaN            2           43            0   \n",
       "4         8.2  1968-01-07  NaN  NaN            9           12            0   \n",
       "\n",
       "       municipio  \n",
       "0  INDETERMINADO  \n",
       "1  INDETERMINADO  \n",
       "2  INDETERMINADO  \n",
       "3  INDETERMINADO  \n",
       "4  INDETERMINADO  "
      ]
     },
     "execution_count": 234,
     "metadata": {},
     "output_type": "execute_result"
    }
   ],
   "source": [
    "#drop\n",
    "try:\n",
    "    fires.drop([\"id\",\"causa\",\"causa_supuesta\",\"causa_desc\",\n",
    "                \"muertos\",\"heridos\",\"time_ctrl\",\"time_ext\",\n",
    "                \"personal\",\"medios\",\"gastos\",\"perdidas\",\n",
    "                \"latlng_explicit\"],axis=1, inplace=True)\n",
    "except Exception as error:\n",
    "    print(f\"ERROR while droping the columns {error}\")\n",
    "fires.head()"
   ]
  },
  {
   "cell_type": "markdown",
   "id": "b1ac7bfc",
   "metadata": {},
   "source": [
    "### Remove unnecesary rows"
   ]
  },
  {
   "cell_type": "code",
   "execution_count": 235,
   "id": "322dc45d",
   "metadata": {},
   "outputs": [
    {
     "data": {
      "text/plain": [
       "(superficie     0\n",
       " fecha          0\n",
       " lat            0\n",
       " lng            0\n",
       " idprovincia    0\n",
       " idmunicipio    0\n",
       " municipio      5\n",
       " dtype: int64,)"
      ]
     },
     "execution_count": 235,
     "metadata": {},
     "output_type": "execute_result"
    }
   ],
   "source": [
    "#We only want the fires of the comunidad 3 (Galicia)\n",
    "fires=fires[fires[\"idcomunidad\"]==3]\n",
    "#We drop null values on lat and lng, beacsue we cannot find where the fire happend,\n",
    "#  and it is older data from  1968\n",
    "fires=fires.dropna(subset=[\"lat\",\"lng\"])\n",
    "#We remove the column idcomunidad as it is no longer need it\n",
    "fires.drop([\"idcomunidad\"],axis=1,inplace=True)\n",
    "#print how many null values are for each column\n",
    "fires.isna().sum(),\n",
    "#TODO: from the coordinates lat and lng obtain the blanks municipio"
   ]
  },
  {
   "cell_type": "code",
   "execution_count": 236,
   "id": "68a9e910",
   "metadata": {},
   "outputs": [
    {
     "data": {
      "text/html": [
       "<div>\n",
       "<style scoped>\n",
       "    .dataframe tbody tr th:only-of-type {\n",
       "        vertical-align: middle;\n",
       "    }\n",
       "\n",
       "    .dataframe tbody tr th {\n",
       "        vertical-align: top;\n",
       "    }\n",
       "\n",
       "    .dataframe thead th {\n",
       "        text-align: right;\n",
       "    }\n",
       "</style>\n",
       "<table border=\"1\" class=\"dataframe\">\n",
       "  <thead>\n",
       "    <tr style=\"text-align: right;\">\n",
       "      <th></th>\n",
       "      <th>superficie</th>\n",
       "      <th>fecha</th>\n",
       "      <th>lat</th>\n",
       "      <th>lng</th>\n",
       "      <th>idprovincia</th>\n",
       "      <th>idmunicipio</th>\n",
       "      <th>municipio</th>\n",
       "    </tr>\n",
       "  </thead>\n",
       "  <tbody>\n",
       "    <tr>\n",
       "      <th>39703</th>\n",
       "      <td>20.0</td>\n",
       "      <td>1980-09-18</td>\n",
       "      <td>42.428281</td>\n",
       "      <td>-6.914337</td>\n",
       "      <td>32</td>\n",
       "      <td>9</td>\n",
       "      <td>BARCO DE VALDEORRAS, O</td>\n",
       "    </tr>\n",
       "    <tr>\n",
       "      <th>54407</th>\n",
       "      <td>2.0</td>\n",
       "      <td>1983-01-16</td>\n",
       "      <td>42.542185</td>\n",
       "      <td>-8.449205</td>\n",
       "      <td>36</td>\n",
       "      <td>12</td>\n",
       "      <td>COTOBADE</td>\n",
       "    </tr>\n",
       "    <tr>\n",
       "      <th>54410</th>\n",
       "      <td>6.0</td>\n",
       "      <td>1983-01-16</td>\n",
       "      <td>42.102572</td>\n",
       "      <td>-8.415920</td>\n",
       "      <td>36</td>\n",
       "      <td>34</td>\n",
       "      <td>NEVES, AS</td>\n",
       "    </tr>\n",
       "    <tr>\n",
       "      <th>54415</th>\n",
       "      <td>3.0</td>\n",
       "      <td>1983-01-17</td>\n",
       "      <td>43.629834</td>\n",
       "      <td>-7.367642</td>\n",
       "      <td>27</td>\n",
       "      <td>19</td>\n",
       "      <td>FOZ</td>\n",
       "    </tr>\n",
       "    <tr>\n",
       "      <th>54417</th>\n",
       "      <td>40.0</td>\n",
       "      <td>1983-01-18</td>\n",
       "      <td>43.018968</td>\n",
       "      <td>-7.408954</td>\n",
       "      <td>27</td>\n",
       "      <td>11</td>\n",
       "      <td>CASTROVERDE</td>\n",
       "    </tr>\n",
       "  </tbody>\n",
       "</table>\n",
       "</div>"
      ],
      "text/plain": [
       "       superficie       fecha        lat       lng  idprovincia  idmunicipio  \\\n",
       "39703        20.0  1980-09-18  42.428281 -6.914337           32            9   \n",
       "54407         2.0  1983-01-16  42.542185 -8.449205           36           12   \n",
       "54410         6.0  1983-01-16  42.102572 -8.415920           36           34   \n",
       "54415         3.0  1983-01-17  43.629834 -7.367642           27           19   \n",
       "54417        40.0  1983-01-18  43.018968 -7.408954           27           11   \n",
       "\n",
       "                    municipio  \n",
       "39703  BARCO DE VALDEORRAS, O  \n",
       "54407                COTOBADE  \n",
       "54410               NEVES, AS  \n",
       "54415                     FOZ  \n",
       "54417             CASTROVERDE  "
      ]
     },
     "execution_count": 236,
     "metadata": {},
     "output_type": "execute_result"
    }
   ],
   "source": [
    "fires.head()"
   ]
  },
  {
   "cell_type": "markdown",
   "id": "175fe2aa",
   "metadata": {},
   "source": [
    "### Add weather data"
   ]
  },
  {
   "cell_type": "code",
   "execution_count": 237,
   "id": "58c42990",
   "metadata": {},
   "outputs": [],
   "source": [
    "# Documentation (https://dev.meteostat.net/python/daily.html#example)\n",
    "# We initialize the columns for the data\n",
    "fires['wind_speed'] = None\n",
    "fires['wind_gust'] = None\n",
    "fires['wind_direction'] = None\n",
    "fires['temperature'] = None\n",
    "fires['pressure'] = None\n",
    "fires['precipitation'] = None\n",
    "#We convert the date fecha into datetime, to avoid warnings from pandas\n",
    "fires['fecha'] = pd.to_datetime(fires['fecha'], errors='coerce')"
   ]
  },
  {
   "cell_type": "code",
   "execution_count": 239,
   "id": "382874a8",
   "metadata": {},
   "outputs": [
    {
     "name": "stderr",
     "output_type": "stream",
     "text": [
      "Fetching weather data:   0%|          | 17/81082 [00:00<1:05:44, 20.55row/s]\n"
     ]
    },
    {
     "ename": "KeyboardInterrupt",
     "evalue": "",
     "output_type": "error",
     "traceback": [
      "\u001b[1;31m---------------------------------------------------------------------------\u001b[0m",
      "\u001b[1;31mKeyboardInterrupt\u001b[0m                         Traceback (most recent call last)",
      "Cell \u001b[1;32mIn[239], line 10\u001b[0m\n\u001b[0;32m      7\u001b[0m date \u001b[38;5;241m=\u001b[39m row[\u001b[38;5;124m'\u001b[39m\u001b[38;5;124mfecha\u001b[39m\u001b[38;5;124m'\u001b[39m] \n\u001b[0;32m      9\u001b[0m \u001b[38;5;66;03m# Get daily weather data for the specific date and location\u001b[39;00m\n\u001b[1;32m---> 10\u001b[0m weather_data \u001b[38;5;241m=\u001b[39m \u001b[43mDaily\u001b[49m\u001b[43m(\u001b[49m\u001b[43mlocation\u001b[49m\u001b[43m,\u001b[49m\u001b[43m \u001b[49m\u001b[43mdate\u001b[49m\u001b[43m,\u001b[49m\u001b[43m \u001b[49m\u001b[43mdate\u001b[49m\u001b[43m)\u001b[49m\n\u001b[0;32m     11\u001b[0m weather_data \u001b[38;5;241m=\u001b[39m weather_data\u001b[38;5;241m.\u001b[39mfetch()\n\u001b[0;32m     13\u001b[0m \u001b[38;5;66;03m# Check if weather data is available for the date and location\u001b[39;00m\n",
      "File \u001b[1;32mc:\\Users\\joziv\\Documents\\University\\2024-2025\\First semester\\AI\\project\\proyecto\\iao-project-2024\\env\\Lib\\site-packages\\meteostat\\interface\\daily.py:98\u001b[0m, in \u001b[0;36mDaily.__init__\u001b[1;34m(self, loc, start, end, model, flags)\u001b[0m\n\u001b[0;32m     88\u001b[0m \u001b[38;5;28;01mdef\u001b[39;00m \u001b[38;5;21m__init__\u001b[39m(\n\u001b[0;32m     89\u001b[0m     \u001b[38;5;28mself\u001b[39m,\n\u001b[0;32m     90\u001b[0m     loc: Union[pd\u001b[38;5;241m.\u001b[39mDataFrame, Point, \u001b[38;5;28mlist\u001b[39m, \u001b[38;5;28mstr\u001b[39m],  \u001b[38;5;66;03m# Station(s) or geo point\u001b[39;00m\n\u001b[1;32m   (...)\u001b[0m\n\u001b[0;32m     96\u001b[0m \n\u001b[0;32m     97\u001b[0m     \u001b[38;5;66;03m# Initialize time series\u001b[39;00m\n\u001b[1;32m---> 98\u001b[0m     \u001b[38;5;28;43mself\u001b[39;49m\u001b[38;5;241;43m.\u001b[39;49m\u001b[43m_init_time_series\u001b[49m\u001b[43m(\u001b[49m\u001b[43mloc\u001b[49m\u001b[43m,\u001b[49m\u001b[43m \u001b[49m\u001b[43mstart\u001b[49m\u001b[43m,\u001b[49m\u001b[43m \u001b[49m\u001b[43mend\u001b[49m\u001b[43m,\u001b[49m\u001b[43m \u001b[49m\u001b[43mmodel\u001b[49m\u001b[43m,\u001b[49m\u001b[43m \u001b[49m\u001b[43mflags\u001b[49m\u001b[43m)\u001b[49m\n",
      "File \u001b[1;32mc:\\Users\\joziv\\Documents\\University\\2024-2025\\First semester\\AI\\project\\proyecto\\iao-project-2024\\env\\Lib\\site-packages\\meteostat\\interface\\timeseries.py:156\u001b[0m, in \u001b[0;36mTimeSeries._init_time_series\u001b[1;34m(self, loc, start, end, model, flags)\u001b[0m\n\u001b[0;32m    154\u001b[0m     \u001b[38;5;28mself\u001b[39m\u001b[38;5;241m.\u001b[39m_stations \u001b[38;5;241m=\u001b[39m loc\u001b[38;5;241m.\u001b[39mindex\n\u001b[0;32m    155\u001b[0m \u001b[38;5;28;01melif\u001b[39;00m \u001b[38;5;28misinstance\u001b[39m(loc, Point):\n\u001b[1;32m--> 156\u001b[0m     stations \u001b[38;5;241m=\u001b[39m \u001b[43mloc\u001b[49m\u001b[38;5;241;43m.\u001b[39;49m\u001b[43mget_stations\u001b[49m\u001b[43m(\u001b[49m\u001b[38;5;124;43m\"\u001b[39;49m\u001b[38;5;124;43mdaily\u001b[39;49m\u001b[38;5;124;43m\"\u001b[39;49m\u001b[43m,\u001b[49m\u001b[43m \u001b[49m\u001b[43mstart\u001b[49m\u001b[43m,\u001b[49m\u001b[43m \u001b[49m\u001b[43mend\u001b[49m\u001b[43m,\u001b[49m\u001b[43m \u001b[49m\u001b[43mmodel\u001b[49m\u001b[43m)\u001b[49m\n\u001b[0;32m    157\u001b[0m     \u001b[38;5;28mself\u001b[39m\u001b[38;5;241m.\u001b[39m_stations \u001b[38;5;241m=\u001b[39m stations\u001b[38;5;241m.\u001b[39mindex\n\u001b[0;32m    158\u001b[0m \u001b[38;5;28;01melse\u001b[39;00m:\n",
      "File \u001b[1;32mc:\\Users\\joziv\\Documents\\University\\2024-2025\\First semester\\AI\\project\\proyecto\\iao-project-2024\\env\\Lib\\site-packages\\meteostat\\interface\\point.py:76\u001b[0m, in \u001b[0;36mPoint.get_stations\u001b[1;34m(self, freq, start, end, model)\u001b[0m\n\u001b[0;32m     71\u001b[0m \u001b[38;5;250m\u001b[39m\u001b[38;5;124;03m\"\"\"\u001b[39;00m\n\u001b[0;32m     72\u001b[0m \u001b[38;5;124;03mGet list of nearby weather stations\u001b[39;00m\n\u001b[0;32m     73\u001b[0m \u001b[38;5;124;03m\"\"\"\u001b[39;00m\n\u001b[0;32m     75\u001b[0m \u001b[38;5;66;03m# Get nearby weather stations\u001b[39;00m\n\u001b[1;32m---> 76\u001b[0m stations \u001b[38;5;241m=\u001b[39m \u001b[43mStations\u001b[49m\u001b[43m(\u001b[49m\u001b[43m)\u001b[49m\n\u001b[0;32m     77\u001b[0m stations \u001b[38;5;241m=\u001b[39m stations\u001b[38;5;241m.\u001b[39mnearby(\u001b[38;5;28mself\u001b[39m\u001b[38;5;241m.\u001b[39m_lat, \u001b[38;5;28mself\u001b[39m\u001b[38;5;241m.\u001b[39m_lon, \u001b[38;5;28mself\u001b[39m\u001b[38;5;241m.\u001b[39mradius)\n\u001b[0;32m     79\u001b[0m \u001b[38;5;66;03m# Guess altitude if not set\u001b[39;00m\n",
      "File \u001b[1;32mc:\\Users\\joziv\\Documents\\University\\2024-2025\\First semester\\AI\\project\\proyecto\\iao-project-2024\\env\\Lib\\site-packages\\meteostat\\interface\\stations.py:107\u001b[0m, in \u001b[0;36mStations.__init__\u001b[1;34m(self)\u001b[0m\n\u001b[0;32m    104\u001b[0m \u001b[38;5;28;01mdef\u001b[39;00m \u001b[38;5;21m__init__\u001b[39m(\u001b[38;5;28mself\u001b[39m) \u001b[38;5;241m-\u001b[39m\u001b[38;5;241m>\u001b[39m \u001b[38;5;28;01mNone\u001b[39;00m:\n\u001b[0;32m    105\u001b[0m \n\u001b[0;32m    106\u001b[0m     \u001b[38;5;66;03m# Get all weather stations\u001b[39;00m\n\u001b[1;32m--> 107\u001b[0m     \u001b[38;5;28;43mself\u001b[39;49m\u001b[38;5;241;43m.\u001b[39;49m\u001b[43m_load\u001b[49m\u001b[43m(\u001b[49m\u001b[43m)\u001b[49m\n",
      "File \u001b[1;32mc:\\Users\\joziv\\Documents\\University\\2024-2025\\First semester\\AI\\project\\proyecto\\iao-project-2024\\env\\Lib\\site-packages\\meteostat\\interface\\stations.py:85\u001b[0m, in \u001b[0;36mStations._load\u001b[1;34m(self)\u001b[0m\n\u001b[0;32m     81\u001b[0m \u001b[38;5;66;03m# Check if file in cache\u001b[39;00m\n\u001b[0;32m     82\u001b[0m \u001b[38;5;28;01mif\u001b[39;00m \u001b[38;5;28mself\u001b[39m\u001b[38;5;241m.\u001b[39mmax_age \u001b[38;5;241m>\u001b[39m \u001b[38;5;241m0\u001b[39m \u001b[38;5;129;01mand\u001b[39;00m file_in_cache(path, \u001b[38;5;28mself\u001b[39m\u001b[38;5;241m.\u001b[39mmax_age):\n\u001b[0;32m     83\u001b[0m \n\u001b[0;32m     84\u001b[0m     \u001b[38;5;66;03m# Read cached data\u001b[39;00m\n\u001b[1;32m---> 85\u001b[0m     df \u001b[38;5;241m=\u001b[39m \u001b[43mpd\u001b[49m\u001b[38;5;241;43m.\u001b[39;49m\u001b[43mread_pickle\u001b[49m\u001b[43m(\u001b[49m\u001b[43mpath\u001b[49m\u001b[43m)\u001b[49m\n\u001b[0;32m     87\u001b[0m \u001b[38;5;28;01melse\u001b[39;00m:\n\u001b[0;32m     88\u001b[0m \n\u001b[0;32m     89\u001b[0m     \u001b[38;5;66;03m# Get data from Meteostat\u001b[39;00m\n\u001b[0;32m     90\u001b[0m     df \u001b[38;5;241m=\u001b[39m load_handler(\n\u001b[0;32m     91\u001b[0m         \u001b[38;5;28mself\u001b[39m\u001b[38;5;241m.\u001b[39mendpoint, file, \u001b[38;5;28mself\u001b[39m\u001b[38;5;241m.\u001b[39m_columns, \u001b[38;5;28mself\u001b[39m\u001b[38;5;241m.\u001b[39m_types, \u001b[38;5;28mself\u001b[39m\u001b[38;5;241m.\u001b[39m_parse_dates, \u001b[38;5;28;01mTrue\u001b[39;00m\n\u001b[0;32m     92\u001b[0m     )\n",
      "File \u001b[1;32mc:\\Users\\joziv\\Documents\\University\\2024-2025\\First semester\\AI\\project\\proyecto\\iao-project-2024\\env\\Lib\\site-packages\\pandas\\io\\pickle.py:202\u001b[0m, in \u001b[0;36mread_pickle\u001b[1;34m(filepath_or_buffer, compression, storage_options)\u001b[0m\n\u001b[0;32m    199\u001b[0m     \u001b[38;5;28;01mwith\u001b[39;00m warnings\u001b[38;5;241m.\u001b[39mcatch_warnings(record\u001b[38;5;241m=\u001b[39m\u001b[38;5;28;01mTrue\u001b[39;00m):\n\u001b[0;32m    200\u001b[0m         \u001b[38;5;66;03m# We want to silence any warnings about, e.g. moved modules.\u001b[39;00m\n\u001b[0;32m    201\u001b[0m         warnings\u001b[38;5;241m.\u001b[39msimplefilter(\u001b[38;5;124m\"\u001b[39m\u001b[38;5;124mignore\u001b[39m\u001b[38;5;124m\"\u001b[39m, \u001b[38;5;167;01mWarning\u001b[39;00m)\n\u001b[1;32m--> 202\u001b[0m         \u001b[38;5;28;01mreturn\u001b[39;00m \u001b[43mpickle\u001b[49m\u001b[38;5;241;43m.\u001b[39;49m\u001b[43mload\u001b[49m\u001b[43m(\u001b[49m\u001b[43mhandles\u001b[49m\u001b[38;5;241;43m.\u001b[39;49m\u001b[43mhandle\u001b[49m\u001b[43m)\u001b[49m\n\u001b[0;32m    203\u001b[0m \u001b[38;5;28;01mexcept\u001b[39;00m excs_to_catch:\n\u001b[0;32m    204\u001b[0m     \u001b[38;5;66;03m# e.g.\u001b[39;00m\n\u001b[0;32m    205\u001b[0m     \u001b[38;5;66;03m#  \"No module named 'pandas.core.sparse.series'\"\u001b[39;00m\n\u001b[0;32m    206\u001b[0m     \u001b[38;5;66;03m#  \"Can't get attribute '__nat_unpickle' on <module 'pandas._libs.tslib\"\u001b[39;00m\n\u001b[0;32m    207\u001b[0m     \u001b[38;5;28;01mreturn\u001b[39;00m pc\u001b[38;5;241m.\u001b[39mload(handles\u001b[38;5;241m.\u001b[39mhandle, encoding\u001b[38;5;241m=\u001b[39m\u001b[38;5;28;01mNone\u001b[39;00m)\n",
      "File \u001b[1;32mc:\\Users\\joziv\\Documents\\University\\2024-2025\\First semester\\AI\\project\\proyecto\\iao-project-2024\\env\\Lib\\site-packages\\pandas\\core\\indexes\\base.py:292\u001b[0m, in \u001b[0;36m_new_Index\u001b[1;34m(cls, d)\u001b[0m\n\u001b[0;32m    287\u001b[0m         \u001b[38;5;28;01mreturn\u001b[39;00m join_index, lidx, ridx\n\u001b[0;32m    289\u001b[0m     \u001b[38;5;28;01mreturn\u001b[39;00m cast(F, join)\n\u001b[1;32m--> 292\u001b[0m \u001b[38;5;28;01mdef\u001b[39;00m \u001b[38;5;21m_new_Index\u001b[39m(\u001b[38;5;28mcls\u001b[39m, d):\n\u001b[0;32m    293\u001b[0m \u001b[38;5;250m    \u001b[39m\u001b[38;5;124;03m\"\"\"\u001b[39;00m\n\u001b[0;32m    294\u001b[0m \u001b[38;5;124;03m    This is called upon unpickling, rather than the default which doesn't\u001b[39;00m\n\u001b[0;32m    295\u001b[0m \u001b[38;5;124;03m    have arguments and breaks __new__.\u001b[39;00m\n\u001b[0;32m    296\u001b[0m \u001b[38;5;124;03m    \"\"\"\u001b[39;00m\n\u001b[0;32m    297\u001b[0m     \u001b[38;5;66;03m# required for backward compat, because PI can't be instantiated with\u001b[39;00m\n\u001b[0;32m    298\u001b[0m     \u001b[38;5;66;03m# ordinals through __new__ GH #13277\u001b[39;00m\n",
      "\u001b[1;31mKeyboardInterrupt\u001b[0m: "
     ]
    }
   ],
   "source": [
    "from tqdm import tqdm\n",
    "#It iterates each row, but it also adds a progress bar to know in what percentage we are\n",
    "for i, row in tqdm(fires.iterrows(), total=fires.shape[0], desc=\"Fetching weather data\", unit=\"row\"):\n",
    "#for i, row in fires.iterrows():\n",
    "    # Set up the location (lat, lng) and date based on each row's data\n",
    "    location = Point(row['lat'], row['lng'])\n",
    "    date = row['fecha'] \n",
    "    \n",
    "    # Get daily weather data for the specific date and location\n",
    "    weather_data = Daily(location, date, date)\n",
    "    weather_data = weather_data.fetch()\n",
    "    \n",
    "    # Check if weather data is available for the date and location\n",
    "    if not weather_data.empty:\n",
    "        # Populate the row with weather data (using iloc[0] to get the first row of the result)\n",
    "        fires.at[i, 'wind_speed'] = weather_data['wspd'].iloc[0]\n",
    "        fires.at[i, 'wind_gust'] = weather_data['wpgt'].iloc[0] if 'wpgt' in weather_data else None\n",
    "        fires.at[i, 'wind_direction'] = weather_data['wdir'].iloc[0]\n",
    "        fires.at[i, 'temperature'] = weather_data['tavg'].iloc[0]\n",
    "        fires.at[i, 'pressure'] = weather_data['pres'].iloc[0]\n",
    "        fires.at[i, 'precipitation'] = weather_data['prcp'].iloc[0]\n",
    "\n",
    "# Display the DataFrame with added weather columns\n",
    "fires.head()\n",
    "#TODO: Save it on an excel file, so we don't have to do this fetching again and again"
   ]
  },
  {
   "cell_type": "code",
   "execution_count": null,
   "id": "b5232535",
   "metadata": {},
   "outputs": [],
   "source": [
    "fires.isna().sum()"
   ]
  },
  {
   "cell_type": "code",
   "execution_count": null,
   "id": "b599bf58",
   "metadata": {},
   "outputs": [
    {
     "name": "stdout",
     "output_type": "stream",
     "text": [
      "<class 'pandas.core.frame.DataFrame'>\n",
      "Index: 81082 entries, 39703 to 281994\n",
      "Data columns (total 13 columns):\n",
      " #   Column          Non-Null Count  Dtype         \n",
      "---  ------          --------------  -----         \n",
      " 0   superficie      81082 non-null  float64       \n",
      " 1   fecha           81082 non-null  datetime64[ns]\n",
      " 2   lat             81082 non-null  float64       \n",
      " 3   lng             81082 non-null  float64       \n",
      " 4   idprovincia     81082 non-null  int64         \n",
      " 5   idmunicipio     81082 non-null  int64         \n",
      " 6   municipio       81077 non-null  object        \n",
      " 7   wind_speed      1265 non-null   object        \n",
      " 8   wind_gust       0 non-null      object        \n",
      " 9   wind_direction  426 non-null    object        \n",
      " 10  temperature     8239 non-null   object        \n",
      " 11  pressure        0 non-null      object        \n",
      " 12  precipitation   8386 non-null   object        \n",
      "dtypes: datetime64[ns](1), float64(3), int64(2), object(7)\n",
      "memory usage: 10.7+ MB\n"
     ]
    }
   ],
   "source": [
    "fires.info()"
   ]
  },
  {
   "cell_type": "markdown",
   "id": "cb3db8c4",
   "metadata": {},
   "source": [
    "### Group by weeks"
   ]
  },
  {
   "cell_type": "code",
   "execution_count": null,
   "id": "56e11eec",
   "metadata": {},
   "outputs": [],
   "source": [
    "#TODO "
   ]
  },
  {
   "cell_type": "markdown",
   "id": "57e04996",
   "metadata": {},
   "source": [
    "### Split train and test data"
   ]
  },
  {
   "cell_type": "code",
   "execution_count": null,
   "id": "dcb7131e",
   "metadata": {},
   "outputs": [],
   "source": [
    "#We split 80% of the data for training the model\n",
    "train_split=80\n"
   ]
  },
  {
   "cell_type": "markdown",
   "id": "ed5b2c85",
   "metadata": {},
   "source": [
    "## Analyze data"
   ]
  },
  {
   "cell_type": "code",
   "execution_count": null,
   "id": "4ea9276a",
   "metadata": {},
   "outputs": [],
   "source": [
    "#TODO"
   ]
  },
  {
   "cell_type": "markdown",
   "id": "744a99a9",
   "metadata": {},
   "source": []
  },
  {
   "cell_type": "markdown",
   "id": "d9362f0c",
   "metadata": {},
   "source": [
    "## Train models"
   ]
  },
  {
   "cell_type": "code",
   "execution_count": null,
   "id": "82ee1d5c",
   "metadata": {},
   "outputs": [],
   "source": [
    "#TODO"
   ]
  },
  {
   "cell_type": "markdown",
   "id": "3f7ecfa1",
   "metadata": {},
   "source": []
  },
  {
   "cell_type": "markdown",
   "id": "883c9640",
   "metadata": {},
   "source": [
    "## Performances"
   ]
  },
  {
   "cell_type": "code",
   "execution_count": null,
   "id": "fb0f488a",
   "metadata": {},
   "outputs": [],
   "source": [
    "#TODO"
   ]
  },
  {
   "cell_type": "markdown",
   "id": "bb6dcd49",
   "metadata": {},
   "source": []
  },
  {
   "cell_type": "markdown",
   "id": "cc88c4df",
   "metadata": {},
   "source": [
    "## Test Model\n"
   ]
  },
  {
   "cell_type": "code",
   "execution_count": null,
   "id": "1e0aa303",
   "metadata": {},
   "outputs": [],
   "source": [
    "#TODO"
   ]
  }
 ],
 "metadata": {
  "kernelspec": {
   "display_name": "env",
   "language": "python",
   "name": "python3"
  },
  "language_info": {
   "codemirror_mode": {
    "name": "ipython",
    "version": 3
   },
   "file_extension": ".py",
   "mimetype": "text/x-python",
   "name": "python",
   "nbconvert_exporter": "python",
   "pygments_lexer": "ipython3",
   "version": "3.11.9"
  }
 },
 "nbformat": 4,
 "nbformat_minor": 5
}
