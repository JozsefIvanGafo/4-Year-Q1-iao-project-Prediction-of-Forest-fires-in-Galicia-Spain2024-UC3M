{
 "cells": [
  {
   "cell_type": "markdown",
   "id": "3b417960",
   "metadata": {},
   "source": [
    "## Data cleaning"
   ]
  },
  {
   "cell_type": "markdown",
   "id": "dd26649a",
   "metadata": {},
   "source": [
    "### Set up"
   ]
  },
  {
   "cell_type": "markdown",
   "id": "3481befd",
   "metadata": {},
   "source": [
    "We first import the different libraries that we will be using for this project"
   ]
  },
  {
   "cell_type": "code",
   "execution_count": 15,
   "id": "41070f99",
   "metadata": {},
   "outputs": [],
   "source": [
    "import pandas as pd\n",
    "from datetime import datetime \n",
    "from unidecode import unidecode\n"
   ]
  },
  {
   "cell_type": "markdown",
   "id": "fae4ad70",
   "metadata": {},
   "source": [
    "We import our dataset"
   ]
  },
  {
   "cell_type": "code",
   "execution_count": 2,
   "id": "e13d1dc7",
   "metadata": {},
   "outputs": [
    {
     "data": {
      "text/html": [
       "<div>\n",
       "<style scoped>\n",
       "    .dataframe tbody tr th:only-of-type {\n",
       "        vertical-align: middle;\n",
       "    }\n",
       "\n",
       "    .dataframe tbody tr th {\n",
       "        vertical-align: top;\n",
       "    }\n",
       "\n",
       "    .dataframe thead th {\n",
       "        text-align: right;\n",
       "    }\n",
       "</style>\n",
       "<table border=\"1\" class=\"dataframe\">\n",
       "  <thead>\n",
       "    <tr style=\"text-align: right;\">\n",
       "      <th></th>\n",
       "      <th>id</th>\n",
       "      <th>superficie</th>\n",
       "      <th>fecha</th>\n",
       "      <th>lat</th>\n",
       "      <th>lng</th>\n",
       "      <th>latlng_explicit</th>\n",
       "      <th>idcomunidad</th>\n",
       "      <th>idprovincia</th>\n",
       "      <th>idmunicipio</th>\n",
       "      <th>municipio</th>\n",
       "      <th>...</th>\n",
       "      <th>causa_supuesta</th>\n",
       "      <th>causa_desc</th>\n",
       "      <th>muertos</th>\n",
       "      <th>heridos</th>\n",
       "      <th>time_ctrl</th>\n",
       "      <th>time_ext</th>\n",
       "      <th>personal</th>\n",
       "      <th>medios</th>\n",
       "      <th>gastos</th>\n",
       "      <th>perdidas</th>\n",
       "    </tr>\n",
       "  </thead>\n",
       "  <tbody>\n",
       "    <tr>\n",
       "      <th>0</th>\n",
       "      <td>1968290001</td>\n",
       "      <td>14.0</td>\n",
       "      <td>1968-01-01</td>\n",
       "      <td>NaN</td>\n",
       "      <td>NaN</td>\n",
       "      <td>0</td>\n",
       "      <td>4</td>\n",
       "      <td>29</td>\n",
       "      <td>0</td>\n",
       "      <td>INDETERMINADO</td>\n",
       "      <td>...</td>\n",
       "      <td>1</td>\n",
       "      <td>40</td>\n",
       "      <td>0</td>\n",
       "      <td>0</td>\n",
       "      <td>0</td>\n",
       "      <td>360</td>\n",
       "      <td>0</td>\n",
       "      <td>0</td>\n",
       "      <td>0</td>\n",
       "      <td>0</td>\n",
       "    </tr>\n",
       "    <tr>\n",
       "      <th>1</th>\n",
       "      <td>1968430003</td>\n",
       "      <td>3.0</td>\n",
       "      <td>1968-01-03</td>\n",
       "      <td>NaN</td>\n",
       "      <td>NaN</td>\n",
       "      <td>0</td>\n",
       "      <td>2</td>\n",
       "      <td>43</td>\n",
       "      <td>0</td>\n",
       "      <td>INDETERMINADO</td>\n",
       "      <td>...</td>\n",
       "      <td>1</td>\n",
       "      <td>0</td>\n",
       "      <td>0</td>\n",
       "      <td>0</td>\n",
       "      <td>0</td>\n",
       "      <td>60</td>\n",
       "      <td>0</td>\n",
       "      <td>0</td>\n",
       "      <td>0</td>\n",
       "      <td>0</td>\n",
       "    </tr>\n",
       "    <tr>\n",
       "      <th>2</th>\n",
       "      <td>1968290006</td>\n",
       "      <td>2.0</td>\n",
       "      <td>1968-01-06</td>\n",
       "      <td>NaN</td>\n",
       "      <td>NaN</td>\n",
       "      <td>0</td>\n",
       "      <td>4</td>\n",
       "      <td>29</td>\n",
       "      <td>0</td>\n",
       "      <td>INDETERMINADO</td>\n",
       "      <td>...</td>\n",
       "      <td>1</td>\n",
       "      <td>0</td>\n",
       "      <td>0</td>\n",
       "      <td>0</td>\n",
       "      <td>0</td>\n",
       "      <td>120</td>\n",
       "      <td>0</td>\n",
       "      <td>0</td>\n",
       "      <td>0</td>\n",
       "      <td>0</td>\n",
       "    </tr>\n",
       "    <tr>\n",
       "      <th>3</th>\n",
       "      <td>1968430016</td>\n",
       "      <td>600.0</td>\n",
       "      <td>1968-01-07</td>\n",
       "      <td>NaN</td>\n",
       "      <td>NaN</td>\n",
       "      <td>0</td>\n",
       "      <td>2</td>\n",
       "      <td>43</td>\n",
       "      <td>0</td>\n",
       "      <td>INDETERMINADO</td>\n",
       "      <td>...</td>\n",
       "      <td>1</td>\n",
       "      <td>20</td>\n",
       "      <td>0</td>\n",
       "      <td>0</td>\n",
       "      <td>0</td>\n",
       "      <td>1440</td>\n",
       "      <td>35</td>\n",
       "      <td>1</td>\n",
       "      <td>0</td>\n",
       "      <td>0</td>\n",
       "    </tr>\n",
       "    <tr>\n",
       "      <th>4</th>\n",
       "      <td>1968120007</td>\n",
       "      <td>8.2</td>\n",
       "      <td>1968-01-07</td>\n",
       "      <td>NaN</td>\n",
       "      <td>NaN</td>\n",
       "      <td>0</td>\n",
       "      <td>9</td>\n",
       "      <td>12</td>\n",
       "      <td>0</td>\n",
       "      <td>INDETERMINADO</td>\n",
       "      <td>...</td>\n",
       "      <td>1</td>\n",
       "      <td>20</td>\n",
       "      <td>0</td>\n",
       "      <td>0</td>\n",
       "      <td>0</td>\n",
       "      <td>120</td>\n",
       "      <td>0</td>\n",
       "      <td>0</td>\n",
       "      <td>0</td>\n",
       "      <td>0</td>\n",
       "    </tr>\n",
       "  </tbody>\n",
       "</table>\n",
       "<p>5 rows × 21 columns</p>\n",
       "</div>"
      ],
      "text/plain": [
       "           id  superficie       fecha  lat  lng  latlng_explicit  idcomunidad  \\\n",
       "0  1968290001        14.0  1968-01-01  NaN  NaN                0            4   \n",
       "1  1968430003         3.0  1968-01-03  NaN  NaN                0            2   \n",
       "2  1968290006         2.0  1968-01-06  NaN  NaN                0            4   \n",
       "3  1968430016       600.0  1968-01-07  NaN  NaN                0            2   \n",
       "4  1968120007         8.2  1968-01-07  NaN  NaN                0            9   \n",
       "\n",
       "   idprovincia  idmunicipio      municipio  ...  causa_supuesta  causa_desc  \\\n",
       "0           29            0  INDETERMINADO  ...               1          40   \n",
       "1           43            0  INDETERMINADO  ...               1           0   \n",
       "2           29            0  INDETERMINADO  ...               1           0   \n",
       "3           43            0  INDETERMINADO  ...               1          20   \n",
       "4           12            0  INDETERMINADO  ...               1          20   \n",
       "\n",
       "   muertos  heridos  time_ctrl  time_ext  personal  medios  gastos  perdidas  \n",
       "0        0        0          0       360         0       0       0         0  \n",
       "1        0        0          0        60         0       0       0         0  \n",
       "2        0        0          0       120         0       0       0         0  \n",
       "3        0        0          0      1440        35       1       0         0  \n",
       "4        0        0          0       120         0       0       0         0  \n",
       "\n",
       "[5 rows x 21 columns]"
      ]
     },
     "execution_count": 2,
     "metadata": {},
     "output_type": "execute_result"
    }
   ],
   "source": [
    "data_path=\"data/fires-all.csv\"\n",
    "try:\n",
    "    fires=pd.read_csv(data_path)\n",
    "except Exception as error:\n",
    "    print(f\"Error while importing the excel file: {error}\")\n",
    "fires.head()"
   ]
  },
  {
   "cell_type": "markdown",
   "id": "1719a509",
   "metadata": {},
   "source": [
    "We analyze the data and observe the type of data on each column and how many nulls values we have"
   ]
  },
  {
   "cell_type": "code",
   "execution_count": 3,
   "id": "d7eb79af",
   "metadata": {},
   "outputs": [
    {
     "name": "stdout",
     "output_type": "stream",
     "text": [
      "<class 'pandas.core.frame.DataFrame'>\n",
      "RangeIndex: 284589 entries, 0 to 284588\n",
      "Data columns (total 21 columns):\n",
      " #   Column           Non-Null Count   Dtype  \n",
      "---  ------           --------------   -----  \n",
      " 0   id               284589 non-null  int64  \n",
      " 1   superficie       284589 non-null  float64\n",
      " 2   fecha            284589 non-null  object \n",
      " 3   lat              230154 non-null  float64\n",
      " 4   lng              230154 non-null  float64\n",
      " 5   latlng_explicit  284589 non-null  int64  \n",
      " 6   idcomunidad      284589 non-null  int64  \n",
      " 7   idprovincia      284589 non-null  int64  \n",
      " 8   idmunicipio      284589 non-null  int64  \n",
      " 9   municipio        284576 non-null  object \n",
      " 10  causa            284589 non-null  int64  \n",
      " 11  causa_supuesta   284589 non-null  int64  \n",
      " 12  causa_desc       284589 non-null  int64  \n",
      " 13  muertos          284589 non-null  int64  \n",
      " 14  heridos          284589 non-null  int64  \n",
      " 15  time_ctrl        284589 non-null  int64  \n",
      " 16  time_ext         284589 non-null  int64  \n",
      " 17  personal         284589 non-null  int64  \n",
      " 18  medios           284589 non-null  int64  \n",
      " 19  gastos           284589 non-null  int64  \n",
      " 20  perdidas         284589 non-null  int64  \n",
      "dtypes: float64(3), int64(16), object(2)\n",
      "memory usage: 45.6+ MB\n"
     ]
    }
   ],
   "source": [
    "fires.info()"
   ]
  },
  {
   "cell_type": "markdown",
   "id": "0dae4e65",
   "metadata": {},
   "source": [
    "### Remove unnecesary columns"
   ]
  },
  {
   "cell_type": "code",
   "execution_count": 4,
   "id": "70d37d12",
   "metadata": {},
   "outputs": [
    {
     "data": {
      "text/html": [
       "<div>\n",
       "<style scoped>\n",
       "    .dataframe tbody tr th:only-of-type {\n",
       "        vertical-align: middle;\n",
       "    }\n",
       "\n",
       "    .dataframe tbody tr th {\n",
       "        vertical-align: top;\n",
       "    }\n",
       "\n",
       "    .dataframe thead th {\n",
       "        text-align: right;\n",
       "    }\n",
       "</style>\n",
       "<table border=\"1\" class=\"dataframe\">\n",
       "  <thead>\n",
       "    <tr style=\"text-align: right;\">\n",
       "      <th></th>\n",
       "      <th>superficie</th>\n",
       "      <th>fecha</th>\n",
       "      <th>lat</th>\n",
       "      <th>lng</th>\n",
       "      <th>idcomunidad</th>\n",
       "      <th>idprovincia</th>\n",
       "      <th>idmunicipio</th>\n",
       "      <th>municipio</th>\n",
       "    </tr>\n",
       "  </thead>\n",
       "  <tbody>\n",
       "    <tr>\n",
       "      <th>0</th>\n",
       "      <td>14.0</td>\n",
       "      <td>1968-01-01</td>\n",
       "      <td>NaN</td>\n",
       "      <td>NaN</td>\n",
       "      <td>4</td>\n",
       "      <td>29</td>\n",
       "      <td>0</td>\n",
       "      <td>INDETERMINADO</td>\n",
       "    </tr>\n",
       "    <tr>\n",
       "      <th>1</th>\n",
       "      <td>3.0</td>\n",
       "      <td>1968-01-03</td>\n",
       "      <td>NaN</td>\n",
       "      <td>NaN</td>\n",
       "      <td>2</td>\n",
       "      <td>43</td>\n",
       "      <td>0</td>\n",
       "      <td>INDETERMINADO</td>\n",
       "    </tr>\n",
       "    <tr>\n",
       "      <th>2</th>\n",
       "      <td>2.0</td>\n",
       "      <td>1968-01-06</td>\n",
       "      <td>NaN</td>\n",
       "      <td>NaN</td>\n",
       "      <td>4</td>\n",
       "      <td>29</td>\n",
       "      <td>0</td>\n",
       "      <td>INDETERMINADO</td>\n",
       "    </tr>\n",
       "    <tr>\n",
       "      <th>3</th>\n",
       "      <td>600.0</td>\n",
       "      <td>1968-01-07</td>\n",
       "      <td>NaN</td>\n",
       "      <td>NaN</td>\n",
       "      <td>2</td>\n",
       "      <td>43</td>\n",
       "      <td>0</td>\n",
       "      <td>INDETERMINADO</td>\n",
       "    </tr>\n",
       "    <tr>\n",
       "      <th>4</th>\n",
       "      <td>8.2</td>\n",
       "      <td>1968-01-07</td>\n",
       "      <td>NaN</td>\n",
       "      <td>NaN</td>\n",
       "      <td>9</td>\n",
       "      <td>12</td>\n",
       "      <td>0</td>\n",
       "      <td>INDETERMINADO</td>\n",
       "    </tr>\n",
       "  </tbody>\n",
       "</table>\n",
       "</div>"
      ],
      "text/plain": [
       "   superficie       fecha  lat  lng  idcomunidad  idprovincia  idmunicipio  \\\n",
       "0        14.0  1968-01-01  NaN  NaN            4           29            0   \n",
       "1         3.0  1968-01-03  NaN  NaN            2           43            0   \n",
       "2         2.0  1968-01-06  NaN  NaN            4           29            0   \n",
       "3       600.0  1968-01-07  NaN  NaN            2           43            0   \n",
       "4         8.2  1968-01-07  NaN  NaN            9           12            0   \n",
       "\n",
       "       municipio  \n",
       "0  INDETERMINADO  \n",
       "1  INDETERMINADO  \n",
       "2  INDETERMINADO  \n",
       "3  INDETERMINADO  \n",
       "4  INDETERMINADO  "
      ]
     },
     "execution_count": 4,
     "metadata": {},
     "output_type": "execute_result"
    }
   ],
   "source": [
    "#drop\n",
    "try:\n",
    "    fires.drop([\"id\",\"causa\",\"causa_supuesta\",\"causa_desc\",\n",
    "                \"muertos\",\"heridos\",\"time_ctrl\",\"time_ext\",\n",
    "                \"personal\",\"medios\",\"gastos\",\"perdidas\",\n",
    "                \"latlng_explicit\"],axis=1, inplace=True)\n",
    "except Exception as error:\n",
    "    print(f\"ERROR while droping the columns {error}\")\n",
    "fires.head()"
   ]
  },
  {
   "cell_type": "markdown",
   "id": "b1ac7bfc",
   "metadata": {},
   "source": [
    "### Remove unnecesary rows"
   ]
  },
  {
   "cell_type": "code",
   "execution_count": 5,
   "id": "322dc45d",
   "metadata": {},
   "outputs": [
    {
     "data": {
      "text/plain": [
       "(superficie     0\n",
       " fecha          0\n",
       " lat            0\n",
       " lng            0\n",
       " idprovincia    0\n",
       " idmunicipio    0\n",
       " municipio      5\n",
       " dtype: int64,)"
      ]
     },
     "execution_count": 5,
     "metadata": {},
     "output_type": "execute_result"
    }
   ],
   "source": [
    "#We only want the fires of the comunidad 3 (Galicia)\n",
    "fires=fires[fires[\"idcomunidad\"]==3]\n",
    "#We drop null values on lat and lng, beacsue we cannot find where the fire happend,\n",
    "#  and it is older data from  1968\n",
    "fires=fires.dropna(subset=[\"lat\",\"lng\"])\n",
    "#We remove the column idcomunidad as it is no longer need it\n",
    "fires.drop([\"idcomunidad\"],axis=1,inplace=True)\n",
    "#print how many null values are for each column\n",
    "fires.isna().sum(),\n",
    "#TODO: from the coordinates lat and lng obtain the blanks municipio"
   ]
  },
  {
   "cell_type": "code",
   "execution_count": 6,
   "id": "68a9e910",
   "metadata": {},
   "outputs": [
    {
     "data": {
      "text/html": [
       "<div>\n",
       "<style scoped>\n",
       "    .dataframe tbody tr th:only-of-type {\n",
       "        vertical-align: middle;\n",
       "    }\n",
       "\n",
       "    .dataframe tbody tr th {\n",
       "        vertical-align: top;\n",
       "    }\n",
       "\n",
       "    .dataframe thead th {\n",
       "        text-align: right;\n",
       "    }\n",
       "</style>\n",
       "<table border=\"1\" class=\"dataframe\">\n",
       "  <thead>\n",
       "    <tr style=\"text-align: right;\">\n",
       "      <th></th>\n",
       "      <th>superficie</th>\n",
       "      <th>fecha</th>\n",
       "      <th>lat</th>\n",
       "      <th>lng</th>\n",
       "      <th>idprovincia</th>\n",
       "      <th>idmunicipio</th>\n",
       "      <th>municipio</th>\n",
       "    </tr>\n",
       "  </thead>\n",
       "  <tbody>\n",
       "    <tr>\n",
       "      <th>39703</th>\n",
       "      <td>20.0</td>\n",
       "      <td>1980-09-18</td>\n",
       "      <td>42.428281</td>\n",
       "      <td>-6.914337</td>\n",
       "      <td>32</td>\n",
       "      <td>9</td>\n",
       "      <td>BARCO DE VALDEORRAS, O</td>\n",
       "    </tr>\n",
       "    <tr>\n",
       "      <th>54407</th>\n",
       "      <td>2.0</td>\n",
       "      <td>1983-01-16</td>\n",
       "      <td>42.542185</td>\n",
       "      <td>-8.449205</td>\n",
       "      <td>36</td>\n",
       "      <td>12</td>\n",
       "      <td>COTOBADE</td>\n",
       "    </tr>\n",
       "    <tr>\n",
       "      <th>54410</th>\n",
       "      <td>6.0</td>\n",
       "      <td>1983-01-16</td>\n",
       "      <td>42.102572</td>\n",
       "      <td>-8.415920</td>\n",
       "      <td>36</td>\n",
       "      <td>34</td>\n",
       "      <td>NEVES, AS</td>\n",
       "    </tr>\n",
       "    <tr>\n",
       "      <th>54415</th>\n",
       "      <td>3.0</td>\n",
       "      <td>1983-01-17</td>\n",
       "      <td>43.629834</td>\n",
       "      <td>-7.367642</td>\n",
       "      <td>27</td>\n",
       "      <td>19</td>\n",
       "      <td>FOZ</td>\n",
       "    </tr>\n",
       "    <tr>\n",
       "      <th>54417</th>\n",
       "      <td>40.0</td>\n",
       "      <td>1983-01-18</td>\n",
       "      <td>43.018968</td>\n",
       "      <td>-7.408954</td>\n",
       "      <td>27</td>\n",
       "      <td>11</td>\n",
       "      <td>CASTROVERDE</td>\n",
       "    </tr>\n",
       "  </tbody>\n",
       "</table>\n",
       "</div>"
      ],
      "text/plain": [
       "       superficie       fecha        lat       lng  idprovincia  idmunicipio  \\\n",
       "39703        20.0  1980-09-18  42.428281 -6.914337           32            9   \n",
       "54407         2.0  1983-01-16  42.542185 -8.449205           36           12   \n",
       "54410         6.0  1983-01-16  42.102572 -8.415920           36           34   \n",
       "54415         3.0  1983-01-17  43.629834 -7.367642           27           19   \n",
       "54417        40.0  1983-01-18  43.018968 -7.408954           27           11   \n",
       "\n",
       "                    municipio  \n",
       "39703  BARCO DE VALDEORRAS, O  \n",
       "54407                COTOBADE  \n",
       "54410               NEVES, AS  \n",
       "54415                     FOZ  \n",
       "54417             CASTROVERDE  "
      ]
     },
     "execution_count": 6,
     "metadata": {},
     "output_type": "execute_result"
    }
   ],
   "source": [
    "fires.head()"
   ]
  },
  {
   "cell_type": "code",
   "execution_count": 7,
   "id": "5d571811",
   "metadata": {},
   "outputs": [
    {
     "name": "stdout",
     "output_type": "stream",
     "text": [
      "Error while exporting the data to the excel file: No module named 'openpyxl'\n"
     ]
    }
   ],
   "source": [
    "#We save the data for the time series prediction\n",
    "data_path=\"data/fires-time-series.xlsx\"\n",
    "try:\n",
    "    fires.to_excel(data_path,index=False)\n",
    "except Exception as error:\n",
    "    print(f\"Error while exporting the data to the excel file: {error}\")"
   ]
  },
  {
   "cell_type": "code",
   "execution_count": 8,
   "id": "3360016c",
   "metadata": {},
   "outputs": [
    {
     "name": "stdout",
     "output_type": "stream",
     "text": [
      "Error while importing the excel file: Missing optional dependency 'openpyxl'.  Use pip or conda to install openpyxl.\n"
     ]
    },
    {
     "data": {
      "text/html": [
       "<div>\n",
       "<style scoped>\n",
       "    .dataframe tbody tr th:only-of-type {\n",
       "        vertical-align: middle;\n",
       "    }\n",
       "\n",
       "    .dataframe tbody tr th {\n",
       "        vertical-align: top;\n",
       "    }\n",
       "\n",
       "    .dataframe thead th {\n",
       "        text-align: right;\n",
       "    }\n",
       "</style>\n",
       "<table border=\"1\" class=\"dataframe\">\n",
       "  <thead>\n",
       "    <tr style=\"text-align: right;\">\n",
       "      <th></th>\n",
       "      <th>superficie</th>\n",
       "      <th>fecha</th>\n",
       "      <th>lat</th>\n",
       "      <th>lng</th>\n",
       "      <th>idprovincia</th>\n",
       "      <th>idmunicipio</th>\n",
       "      <th>municipio</th>\n",
       "    </tr>\n",
       "  </thead>\n",
       "  <tbody>\n",
       "    <tr>\n",
       "      <th>39703</th>\n",
       "      <td>20.0</td>\n",
       "      <td>1980-09-18</td>\n",
       "      <td>42.428281</td>\n",
       "      <td>-6.914337</td>\n",
       "      <td>32</td>\n",
       "      <td>9</td>\n",
       "      <td>BARCO DE VALDEORRAS, O</td>\n",
       "    </tr>\n",
       "    <tr>\n",
       "      <th>54407</th>\n",
       "      <td>2.0</td>\n",
       "      <td>1983-01-16</td>\n",
       "      <td>42.542185</td>\n",
       "      <td>-8.449205</td>\n",
       "      <td>36</td>\n",
       "      <td>12</td>\n",
       "      <td>COTOBADE</td>\n",
       "    </tr>\n",
       "    <tr>\n",
       "      <th>54410</th>\n",
       "      <td>6.0</td>\n",
       "      <td>1983-01-16</td>\n",
       "      <td>42.102572</td>\n",
       "      <td>-8.415920</td>\n",
       "      <td>36</td>\n",
       "      <td>34</td>\n",
       "      <td>NEVES, AS</td>\n",
       "    </tr>\n",
       "    <tr>\n",
       "      <th>54415</th>\n",
       "      <td>3.0</td>\n",
       "      <td>1983-01-17</td>\n",
       "      <td>43.629834</td>\n",
       "      <td>-7.367642</td>\n",
       "      <td>27</td>\n",
       "      <td>19</td>\n",
       "      <td>FOZ</td>\n",
       "    </tr>\n",
       "    <tr>\n",
       "      <th>54417</th>\n",
       "      <td>40.0</td>\n",
       "      <td>1983-01-18</td>\n",
       "      <td>43.018968</td>\n",
       "      <td>-7.408954</td>\n",
       "      <td>27</td>\n",
       "      <td>11</td>\n",
       "      <td>CASTROVERDE</td>\n",
       "    </tr>\n",
       "  </tbody>\n",
       "</table>\n",
       "</div>"
      ],
      "text/plain": [
       "       superficie       fecha        lat       lng  idprovincia  idmunicipio  \\\n",
       "39703        20.0  1980-09-18  42.428281 -6.914337           32            9   \n",
       "54407         2.0  1983-01-16  42.542185 -8.449205           36           12   \n",
       "54410         6.0  1983-01-16  42.102572 -8.415920           36           34   \n",
       "54415         3.0  1983-01-17  43.629834 -7.367642           27           19   \n",
       "54417        40.0  1983-01-18  43.018968 -7.408954           27           11   \n",
       "\n",
       "                    municipio  \n",
       "39703  BARCO DE VALDEORRAS, O  \n",
       "54407                COTOBADE  \n",
       "54410               NEVES, AS  \n",
       "54415                     FOZ  \n",
       "54417             CASTROVERDE  "
      ]
     },
     "execution_count": 8,
     "metadata": {},
     "output_type": "execute_result"
    }
   ],
   "source": [
    "data_path=\"data/fires-time-series.xlsx\"\n",
    "try:\n",
    "    fires_time_series=pd.read_excel(data_path)\n",
    "except Exception as error:\n",
    "    print(f\"Error while importing the excel file: {error}\")\n",
    "fires.head()"
   ]
  },
  {
   "cell_type": "markdown",
   "id": "175fe2aa",
   "metadata": {},
   "source": [
    "### Añadir el tiempo para la prediccion con variables exogenas"
   ]
  },
  {
   "cell_type": "markdown",
   "id": "dd33b986",
   "metadata": {},
   "source": [
    "#### Filtramos las fechas que sean mas antiguas del 2005"
   ]
  },
  {
   "cell_type": "code",
   "execution_count": 9,
   "id": "58c42990",
   "metadata": {},
   "outputs": [
    {
     "data": {
      "text/html": [
       "<div>\n",
       "<style scoped>\n",
       "    .dataframe tbody tr th:only-of-type {\n",
       "        vertical-align: middle;\n",
       "    }\n",
       "\n",
       "    .dataframe tbody tr th {\n",
       "        vertical-align: top;\n",
       "    }\n",
       "\n",
       "    .dataframe thead th {\n",
       "        text-align: right;\n",
       "    }\n",
       "</style>\n",
       "<table border=\"1\" class=\"dataframe\">\n",
       "  <thead>\n",
       "    <tr style=\"text-align: right;\">\n",
       "      <th></th>\n",
       "      <th>superficie</th>\n",
       "      <th>fecha</th>\n",
       "      <th>lat</th>\n",
       "      <th>lng</th>\n",
       "      <th>idprovincia</th>\n",
       "      <th>idmunicipio</th>\n",
       "      <th>municipio</th>\n",
       "    </tr>\n",
       "  </thead>\n",
       "  <tbody>\n",
       "    <tr>\n",
       "      <th>221698</th>\n",
       "      <td>5.0</td>\n",
       "      <td>2005-01-06</td>\n",
       "      <td>42.011805</td>\n",
       "      <td>-8.026783</td>\n",
       "      <td>32</td>\n",
       "      <td>41</td>\n",
       "      <td>LOBEIRA</td>\n",
       "    </tr>\n",
       "    <tr>\n",
       "      <th>221705</th>\n",
       "      <td>1.0</td>\n",
       "      <td>2005-01-06</td>\n",
       "      <td>42.525157</td>\n",
       "      <td>-8.123135</td>\n",
       "      <td>32</td>\n",
       "      <td>35</td>\n",
       "      <td>IRIXO, O</td>\n",
       "    </tr>\n",
       "    <tr>\n",
       "      <th>221709</th>\n",
       "      <td>1.0</td>\n",
       "      <td>2005-01-06</td>\n",
       "      <td>42.338530</td>\n",
       "      <td>-6.787814</td>\n",
       "      <td>32</td>\n",
       "      <td>17</td>\n",
       "      <td>CARBALLEDA DE VALDEORRAS</td>\n",
       "    </tr>\n",
       "    <tr>\n",
       "      <th>221713</th>\n",
       "      <td>1.2</td>\n",
       "      <td>2005-01-07</td>\n",
       "      <td>42.113543</td>\n",
       "      <td>-8.180216</td>\n",
       "      <td>32</td>\n",
       "      <td>56</td>\n",
       "      <td>PADRENDA</td>\n",
       "    </tr>\n",
       "    <tr>\n",
       "      <th>221718</th>\n",
       "      <td>1.5</td>\n",
       "      <td>2005-01-07</td>\n",
       "      <td>42.304143</td>\n",
       "      <td>-8.241844</td>\n",
       "      <td>32</td>\n",
       "      <td>46</td>\n",
       "      <td>MELÓN</td>\n",
       "    </tr>\n",
       "  </tbody>\n",
       "</table>\n",
       "</div>"
      ],
      "text/plain": [
       "        superficie      fecha        lat       lng  idprovincia  idmunicipio  \\\n",
       "221698         5.0 2005-01-06  42.011805 -8.026783           32           41   \n",
       "221705         1.0 2005-01-06  42.525157 -8.123135           32           35   \n",
       "221709         1.0 2005-01-06  42.338530 -6.787814           32           17   \n",
       "221713         1.2 2005-01-07  42.113543 -8.180216           32           56   \n",
       "221718         1.5 2005-01-07  42.304143 -8.241844           32           46   \n",
       "\n",
       "                       municipio  \n",
       "221698                   LOBEIRA  \n",
       "221705                  IRIXO, O  \n",
       "221709  CARBALLEDA DE VALDEORRAS  \n",
       "221713                  PADRENDA  \n",
       "221718                     MELÓN  "
      ]
     },
     "execution_count": 9,
     "metadata": {},
     "output_type": "execute_result"
    }
   ],
   "source": [
    "#Solo tenemos informacion a  partir del 2005 de meteorologia\n",
    "#convertimos las fechas a tipo datetime (para una mejor compatibilidad)\n",
    "fires['fecha'] = pd.to_datetime(fires['fecha'], errors='coerce')\n",
    "#filtrar fechas que empiezen a partir del 2005 hasta el 2018\n",
    "fires = fires.loc[fires['fecha'] >= '2005-01-01']\n",
    "fires.head()"
   ]
  },
  {
   "cell_type": "code",
   "execution_count": 54,
   "id": "a80c2d39",
   "metadata": {},
   "outputs": [],
   "source": [
    "def normalize_header(header):\n",
    "    replacements = {\n",
    "        'á': 'a', 'é': 'e', 'í': 'i', 'ó': 'o', 'ú': 'u',\n",
    "        'ü': 'u', 'ñ': 'n', 'Á': 'A', 'É': 'E', 'Í': 'I',\n",
    "        'Ó': 'O', 'Ú': 'U', 'Ü': 'U', 'Ñ': 'N'\n",
    "    }\n",
    "    for spanish_char, english_char in replacements.items():\n",
    "        header = header.replace(spanish_char, english_char)\n",
    "    return header"
   ]
  },
  {
   "cell_type": "markdown",
   "id": "72911a7f",
   "metadata": {},
   "source": [
    "#### Juntamos todos los datos en un unico csv por estacion meteo\n"
   ]
  },
  {
   "cell_type": "code",
   "execution_count": null,
   "id": "006cccdc",
   "metadata": {},
   "outputs": [
    {
     "name": "stdout",
     "output_type": "stream",
     "text": [
      "General error occurred while reading the file: \"['Temp Media (ºC)', 'Temp Max (ºC)', 'Temp Mínima (ºC)', 'DirViento (º)', 'Radiación (MJ/m2)', 'Precipitación (mm)'] not in index\"\n",
      "Datos cargados para del año 2009\n",
      "General error occurred while reading the file: \"['Temp Media (ºC)', 'Temp Max (ºC)', 'Temp Mínima (ºC)', 'DirViento (º)', 'Radiación (MJ/m2)', 'Precipitación (mm)'] not in index\"\n",
      "Datos cargados para del año 2010\n",
      "General error occurred while reading the file: \"['Temp Media (ºC)', 'Temp Max (ºC)', 'Temp Mínima (ºC)', 'DirViento (º)', 'Radiación (MJ/m2)', 'Precipitación (mm)'] not in index\"\n",
      "Datos cargados para del año 2011\n",
      "General error occurred while reading the file: \"['Temp Media (ºC)', 'Temp Max (ºC)', 'Temp Mínima (ºC)', 'DirViento (º)', 'Radiación (MJ/m2)', 'Precipitación (mm)'] not in index\"\n",
      "Datos cargados para del año 2012\n",
      "General error occurred while reading the file: \"['Temp Media (ºC)', 'Temp Max (ºC)', 'Temp Mínima (ºC)', 'DirViento (º)', 'Radiación (MJ/m2)', 'Precipitación (mm)'] not in index\"\n",
      "Datos cargados para del año 2013\n",
      "General error occurred while reading the file: \"['Temp Media (ºC)', 'Temp Max (ºC)', 'Temp Mínima (ºC)', 'DirViento (º)', 'Radiación (MJ/m2)', 'Precipitación (mm)'] not in index\"\n",
      "Datos cargados para del año 2014\n",
      "General error occurred while reading the file: \"['Temp Media (ºC)', 'Temp Max (ºC)', 'Temp Mínima (ºC)', 'DirViento (º)', 'Radiación (MJ/m2)', 'Precipitación (mm)'] not in index\"\n",
      "Datos cargados para del año 2015\n",
      "General error occurred while reading the file: \"['Temp Media (ºC)', 'Temp Max (ºC)', 'Temp Mínima (ºC)', 'DirViento (º)', 'Radiación (MJ/m2)', 'Precipitación (mm)'] not in index\"\n",
      "Datos cargados para del año 2016\n",
      "General error occurred while reading the file: \"['Temp Media (ºC)', 'Temp Max (ºC)', 'Temp Mínima (ºC)', 'DirViento (º)', 'Radiación (MJ/m2)', 'Precipitación (mm)'] not in index\"\n",
      "Datos cargados para del año 2017\n",
      "General error occurred while reading the file: \"['Temp Media (ºC)', 'Temp Max (ºC)', 'Temp Mínima (ºC)', 'DirViento (º)', 'Radiación (MJ/m2)', 'Precipitación (mm)'] not in index\"\n",
      "Datos cargados para del año 2018\n"
     ]
    }
   ],
   "source": [
    "#Definimos las estaciones de meteorologia\n",
    "# stations=[\"C01_A Capela_\",\"C02_Boimorto_\",\"LU01_Castro de Rei_\",\"LU02_Monforte de Lemos_\"]\n",
    "stations=[\"C01_A Capela_\"]\n",
    "station_data = {station: pd.DataFrame() for station in stations}\n",
    "\n",
    "dataset_all = pd.DataFrame()\n",
    "\n",
    "#Iteramos por todos los años que tenemos disponibles de datos meteorologicos\n",
    "for year in range(2009,2019):\n",
    "    #Actualizamos el data path\n",
    "    data_path=f\"data/{year}_{year+1}/\"\n",
    "    #Por cada estacion lo abrimos y lo juntamos\n",
    "    for station in stations:\n",
    "        try:\n",
    "            station_path=data_path+f\"{station}01_01_{year}_01_01_{year+1}.csv\"\n",
    "            # if year in [2005, 2006, 2007, 2008]:\n",
    "            #     with open(station_path, 'r', encoding='utf-8') as file:\n",
    "            #         headers = file.readline().strip().split(',')\n",
    "            #         normalized_headers = [normalize_header(header) for header in headers]\n",
    "            aux = pd.read_csv(station_path, encoding=\"utf-16\")\n",
    "            aux.columns = [unidecode(col) for col in aux.columns]\n",
    "            # aux = aux[[\"Fecha\", \"Temp Media (ºC)\", \"Temp Max (ºC)\", \"Temp Mínima (ºC)\" , \"Humedad Media (%)\", \"Humedad Max (%)\", \"Humedad Min (%)\", \"Velviento (m/s)\",\"DirViento (º)\", \"VelVientoMax (m/s)\", \"Radiación (MJ/m2)\", \"Precipitación (mm)\"]]\n",
    "\n",
    "            dataset_all = pd.concat([dataset_all, aux], ignore_index=True)\n",
    "\n",
    "            #Guardamos en station data\n",
    "            station_data[station]=pd.concat([station_data[station],aux],ignore_index=True)\n",
    "            \n",
    "        except pd.errors.ParserError as parse_error:\n",
    "            print(f\"Parser error when reading {station_path}: {parse_error}\")\n",
    "        except FileNotFoundError as file_error:\n",
    "            print(f\"File not found: {station_path}\")\n",
    "        except Exception as general_error:\n",
    "            print(f\"General error occurred while reading the file: {general_error}\")\n",
    "    print(f\"Datos cargados para del año {year}\")\n",
    "\n"
   ]
  },
  {
   "cell_type": "code",
   "execution_count": 58,
   "id": "f27962ad",
   "metadata": {},
   "outputs": [],
   "source": [
    "dataset_all.to_csv(\"archivo_exportado.csv\", index=False)"
   ]
  },
  {
   "cell_type": "code",
   "execution_count": 40,
   "metadata": {},
   "outputs": [
    {
     "name": "stdout",
     "output_type": "stream",
     "text": [
      "<class 'pandas.core.frame.DataFrame'>\n",
      "RangeIndex: 3643 entries, 0 to 3642\n",
      "Data columns (total 24 columns):\n",
      " #   Column                  Non-Null Count  Dtype  \n",
      "---  ------                  --------------  -----  \n",
      " 0   IdProvincia             3643 non-null   int64  \n",
      " 1   IdEstacion              3643 non-null   int64  \n",
      " 2   Fecha                   3643 non-null   object \n",
      " 3   Ano                     3643 non-null   int64  \n",
      " 4   Dia                     3643 non-null   int64  \n",
      " 5   Temp Media (oC)         3638 non-null   float64\n",
      " 6   Temp Max (oC)           3634 non-null   float64\n",
      " 7   Hora Temp Max           3635 non-null   object \n",
      " 8   Temp Minima (oC)        3631 non-null   float64\n",
      " 9   Hora Temp Min           3635 non-null   object \n",
      " 10  Humedad Media (%)       3627 non-null   float64\n",
      " 11  Humedad Max (%)         3623 non-null   float64\n",
      " 12  Hora Hum Max            3626 non-null   object \n",
      " 13  Humedad Min (%)         3619 non-null   float64\n",
      " 14  Hora Hum Min            3626 non-null   object \n",
      " 15  Velviento (m/s)         3639 non-null   float64\n",
      " 16  DirViento (o)           3639 non-null   float64\n",
      " 17  VelVientoMax (m/s)      3639 non-null   float64\n",
      " 18  Hora VelMax             3639 non-null   object \n",
      " 19  Dir viento Vel Max (o)  3639 non-null   float64\n",
      " 20  Radiacion (MJ/m2)       3638 non-null   float64\n",
      " 21  Precipitacion (mm)      3639 non-null   float64\n",
      " 22  PePMon                  3630 non-null   float64\n",
      " 23  EtPMon                  3629 non-null   float64\n",
      "dtypes: float64(14), int64(4), object(6)\n",
      "memory usage: 683.2+ KB\n"
     ]
    }
   ],
   "source": [
    "station_data[\"C01_A Capela_\"].info()"
   ]
  },
  {
   "cell_type": "code",
   "execution_count": null,
   "id": "77b89df6",
   "metadata": {},
   "outputs": [
    {
     "name": "stdout",
     "output_type": "stream",
     "text": [
      "Archivo guardado para C01_A Capela_: data/estaciones/C01_A Capela_01_01_2005_01_01_2019.csv\n",
      "Archivo guardado para C02_Boimorto_: data/estaciones/C02_Boimorto_01_01_2005_01_01_2019.csv\n",
      "Archivo guardado para LU01_Castro de Rei_: data/estaciones/LU01_Castro de Rei_01_01_2005_01_01_2019.csv\n",
      "Archivo guardado para LU02_Monforte de Lemos_: data/estaciones/LU02_Monforte de Lemos_01_01_2005_01_01_2019.csv\n"
     ]
    }
   ],
   "source": [
    "\n",
    "# Ahora, para cada estación, concatenamos todos los DataFrames y los guardamos en un archivo CSV único\n",
    "for station, dataframes in station_data.items():\n",
    "    try:\n",
    "        # Concatenar todos los DataFrames de la estación\n",
    "        compiled_df = pd.concat(dataframes, ignore_index=True)\n",
    "        \n",
    "        # Guardar el archivo final concatenado para la estación\n",
    "        output_filename = f\"data/estaciones/{station}01_01_2005_01_01_2019.csv\"\n",
    "        compiled_df.to_csv(output_filename, index=False)\n",
    "        print(f\"Archivo guardado para {station}: {output_filename}\")\n",
    "    \n",
    "    except Exception as error:\n",
    "        print(f\"Error al guardar los datos para {station}: {error}\")"
   ]
  },
  {
   "cell_type": "code",
   "execution_count": null,
   "id": "b5232535",
   "metadata": {},
   "outputs": [
    {
     "data": {
      "text/plain": [
       "superficie     0\n",
       "fecha          0\n",
       "lat            0\n",
       "lng            0\n",
       "idprovincia    0\n",
       "idmunicipio    0\n",
       "municipio      5\n",
       "dtype: int64"
      ]
     },
     "execution_count": 47,
     "metadata": {},
     "output_type": "execute_result"
    }
   ],
   "source": [
    "fires.isna().sum()"
   ]
  },
  {
   "cell_type": "code",
   "execution_count": null,
   "id": "b599bf58",
   "metadata": {},
   "outputs": [
    {
     "name": "stdout",
     "output_type": "stream",
     "text": [
      "<class 'pandas.core.frame.DataFrame'>\n",
      "Index: 15085 entries, 221698 to 281994\n",
      "Data columns (total 7 columns):\n",
      " #   Column       Non-Null Count  Dtype         \n",
      "---  ------       --------------  -----         \n",
      " 0   superficie   15085 non-null  float64       \n",
      " 1   fecha        15085 non-null  datetime64[ns]\n",
      " 2   lat          15085 non-null  float64       \n",
      " 3   lng          15085 non-null  float64       \n",
      " 4   idprovincia  15085 non-null  int64         \n",
      " 5   idmunicipio  15085 non-null  int64         \n",
      " 6   municipio    15080 non-null  object        \n",
      "dtypes: datetime64[ns](1), float64(3), int64(2), object(1)\n",
      "memory usage: 942.8+ KB\n"
     ]
    }
   ],
   "source": [
    "fires.info()"
   ]
  },
  {
   "cell_type": "code",
   "execution_count": null,
   "id": "2bcd36ab",
   "metadata": {},
   "outputs": [],
   "source": [
    "#We save the data with the weather\n",
    "data_path=\"data/fires-weather.xlsx\"\n",
    "try:\n",
    "    fires.to_excel(data_path,index=False)\n",
    "except Exception as error:\n",
    "    print(f\"ERror while exporting the data to the excel file: {error}\")"
   ]
  },
  {
   "cell_type": "code",
   "execution_count": null,
   "id": "03fa27c7",
   "metadata": {},
   "outputs": [
    {
     "data": {
      "text/html": [
       "<div>\n",
       "<style scoped>\n",
       "    .dataframe tbody tr th:only-of-type {\n",
       "        vertical-align: middle;\n",
       "    }\n",
       "\n",
       "    .dataframe tbody tr th {\n",
       "        vertical-align: top;\n",
       "    }\n",
       "\n",
       "    .dataframe thead th {\n",
       "        text-align: right;\n",
       "    }\n",
       "</style>\n",
       "<table border=\"1\" class=\"dataframe\">\n",
       "  <thead>\n",
       "    <tr style=\"text-align: right;\">\n",
       "      <th></th>\n",
       "      <th>superficie</th>\n",
       "      <th>fecha</th>\n",
       "      <th>lat</th>\n",
       "      <th>lng</th>\n",
       "      <th>idprovincia</th>\n",
       "      <th>idmunicipio</th>\n",
       "      <th>municipio</th>\n",
       "    </tr>\n",
       "  </thead>\n",
       "  <tbody>\n",
       "    <tr>\n",
       "      <th>0</th>\n",
       "      <td>5.0</td>\n",
       "      <td>2005-01-06</td>\n",
       "      <td>42.011805</td>\n",
       "      <td>-8.026783</td>\n",
       "      <td>32</td>\n",
       "      <td>41</td>\n",
       "      <td>LOBEIRA</td>\n",
       "    </tr>\n",
       "    <tr>\n",
       "      <th>1</th>\n",
       "      <td>1.0</td>\n",
       "      <td>2005-01-06</td>\n",
       "      <td>42.525157</td>\n",
       "      <td>-8.123135</td>\n",
       "      <td>32</td>\n",
       "      <td>35</td>\n",
       "      <td>IRIXO, O</td>\n",
       "    </tr>\n",
       "    <tr>\n",
       "      <th>2</th>\n",
       "      <td>1.0</td>\n",
       "      <td>2005-01-06</td>\n",
       "      <td>42.338530</td>\n",
       "      <td>-6.787814</td>\n",
       "      <td>32</td>\n",
       "      <td>17</td>\n",
       "      <td>CARBALLEDA DE VALDEORRAS</td>\n",
       "    </tr>\n",
       "    <tr>\n",
       "      <th>3</th>\n",
       "      <td>1.2</td>\n",
       "      <td>2005-01-07</td>\n",
       "      <td>42.113543</td>\n",
       "      <td>-8.180216</td>\n",
       "      <td>32</td>\n",
       "      <td>56</td>\n",
       "      <td>PADRENDA</td>\n",
       "    </tr>\n",
       "    <tr>\n",
       "      <th>4</th>\n",
       "      <td>1.5</td>\n",
       "      <td>2005-01-07</td>\n",
       "      <td>42.304143</td>\n",
       "      <td>-8.241844</td>\n",
       "      <td>32</td>\n",
       "      <td>46</td>\n",
       "      <td>MELÓN</td>\n",
       "    </tr>\n",
       "  </tbody>\n",
       "</table>\n",
       "</div>"
      ],
      "text/plain": [
       "   superficie      fecha        lat       lng  idprovincia  idmunicipio  \\\n",
       "0         5.0 2005-01-06  42.011805 -8.026783           32           41   \n",
       "1         1.0 2005-01-06  42.525157 -8.123135           32           35   \n",
       "2         1.0 2005-01-06  42.338530 -6.787814           32           17   \n",
       "3         1.2 2005-01-07  42.113543 -8.180216           32           56   \n",
       "4         1.5 2005-01-07  42.304143 -8.241844           32           46   \n",
       "\n",
       "                  municipio  \n",
       "0                   LOBEIRA  \n",
       "1                  IRIXO, O  \n",
       "2  CARBALLEDA DE VALDEORRAS  \n",
       "3                  PADRENDA  \n",
       "4                     MELÓN  "
      ]
     },
     "execution_count": 50,
     "metadata": {},
     "output_type": "execute_result"
    }
   ],
   "source": [
    "#This si done to avoid repeating teh fetching of weather that is an intensive task\n",
    "data_path=\"data/fires-weather.xlsx\"\n",
    "try:\n",
    "    fires=pd.read_excel(data_path)\n",
    "except Exception as error:\n",
    "    print(f\"Error while importing the excel file: {error}\")\n",
    "fires.head()"
   ]
  },
  {
   "cell_type": "markdown",
   "id": "cb3db8c4",
   "metadata": {},
   "source": [
    "### Group by weeks"
   ]
  },
  {
   "cell_type": "code",
   "execution_count": null,
   "id": "56e11eec",
   "metadata": {},
   "outputs": [],
   "source": [
    "#TODO "
   ]
  },
  {
   "cell_type": "markdown",
   "id": "57e04996",
   "metadata": {},
   "source": [
    "### Split train and test data"
   ]
  },
  {
   "cell_type": "code",
   "execution_count": null,
   "id": "dcb7131e",
   "metadata": {},
   "outputs": [],
   "source": [
    "#We split 80% of the data for training the model\n",
    "train_split=80\n"
   ]
  },
  {
   "cell_type": "markdown",
   "id": "d9362f0c",
   "metadata": {},
   "source": [
    "## Train models"
   ]
  },
  {
   "cell_type": "markdown",
   "id": "a65ac8e1",
   "metadata": {},
   "source": [
    "### Analyze train data set"
   ]
  },
  {
   "cell_type": "code",
   "execution_count": null,
   "id": "72aa6b51",
   "metadata": {},
   "outputs": [],
   "source": [
    "#TODO"
   ]
  },
  {
   "cell_type": "markdown",
   "id": "14a09937",
   "metadata": {},
   "source": [
    "### Time series"
   ]
  },
  {
   "cell_type": "code",
   "execution_count": null,
   "id": "82ee1d5c",
   "metadata": {},
   "outputs": [],
   "source": [
    "#TODO"
   ]
  },
  {
   "cell_type": "markdown",
   "id": "3f7ecfa1",
   "metadata": {},
   "source": [
    "### Con variables exogenas"
   ]
  },
  {
   "cell_type": "code",
   "execution_count": null,
   "id": "b3743097",
   "metadata": {},
   "outputs": [],
   "source": [
    "#TODO"
   ]
  },
  {
   "cell_type": "markdown",
   "id": "883c9640",
   "metadata": {},
   "source": [
    "## Performances"
   ]
  },
  {
   "cell_type": "code",
   "execution_count": null,
   "id": "fb0f488a",
   "metadata": {},
   "outputs": [],
   "source": [
    "#TODO"
   ]
  },
  {
   "cell_type": "markdown",
   "id": "bb6dcd49",
   "metadata": {},
   "source": []
  },
  {
   "cell_type": "markdown",
   "id": "cc88c4df",
   "metadata": {},
   "source": [
    "## Test Model\n"
   ]
  },
  {
   "cell_type": "code",
   "execution_count": null,
   "id": "1e0aa303",
   "metadata": {},
   "outputs": [],
   "source": [
    "#TODO"
   ]
  }
 ],
 "metadata": {
  "kernelspec": {
   "display_name": "Python 3",
   "language": "python",
   "name": "python3"
  },
  "language_info": {
   "codemirror_mode": {
    "name": "ipython",
    "version": 3
   },
   "file_extension": ".py",
   "mimetype": "text/x-python",
   "name": "python",
   "nbconvert_exporter": "python",
   "pygments_lexer": "ipython3",
   "version": "3.12.7"
  }
 },
 "nbformat": 4,
 "nbformat_minor": 5
}
