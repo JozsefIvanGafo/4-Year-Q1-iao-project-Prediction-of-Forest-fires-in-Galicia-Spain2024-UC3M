{
 "cells": [
  {
   "cell_type": "markdown",
   "id": "3b417960",
   "metadata": {},
   "source": [
    "## Data cleaning"
   ]
  },
  {
   "cell_type": "markdown",
   "id": "dd26649a",
   "metadata": {},
   "source": [
    "### Set up"
   ]
  },
  {
   "cell_type": "markdown",
   "id": "3481befd",
   "metadata": {},
   "source": [
    "We first import the different libraries that we will be using for this project"
   ]
  },
  {
   "cell_type": "code",
   "execution_count": 23,
   "id": "41070f99",
   "metadata": {},
   "outputs": [],
   "source": [
    "import pandas as pd\n",
    "from datetime import datetime \n",
    "from meteostat import Point, Daily"
   ]
  },
  {
   "cell_type": "markdown",
   "id": "fae4ad70",
   "metadata": {},
   "source": [
    "We import our dataset"
   ]
  },
  {
   "cell_type": "code",
   "execution_count": 24,
   "id": "e13d1dc7",
   "metadata": {},
   "outputs": [
    {
     "data": {
      "text/html": [
       "<div>\n",
       "<style scoped>\n",
       "    .dataframe tbody tr th:only-of-type {\n",
       "        vertical-align: middle;\n",
       "    }\n",
       "\n",
       "    .dataframe tbody tr th {\n",
       "        vertical-align: top;\n",
       "    }\n",
       "\n",
       "    .dataframe thead th {\n",
       "        text-align: right;\n",
       "    }\n",
       "</style>\n",
       "<table border=\"1\" class=\"dataframe\">\n",
       "  <thead>\n",
       "    <tr style=\"text-align: right;\">\n",
       "      <th></th>\n",
       "      <th>id</th>\n",
       "      <th>superficie</th>\n",
       "      <th>fecha</th>\n",
       "      <th>lat</th>\n",
       "      <th>lng</th>\n",
       "      <th>latlng_explicit</th>\n",
       "      <th>idcomunidad</th>\n",
       "      <th>idprovincia</th>\n",
       "      <th>idmunicipio</th>\n",
       "      <th>municipio</th>\n",
       "      <th>...</th>\n",
       "      <th>causa_supuesta</th>\n",
       "      <th>causa_desc</th>\n",
       "      <th>muertos</th>\n",
       "      <th>heridos</th>\n",
       "      <th>time_ctrl</th>\n",
       "      <th>time_ext</th>\n",
       "      <th>personal</th>\n",
       "      <th>medios</th>\n",
       "      <th>gastos</th>\n",
       "      <th>perdidas</th>\n",
       "    </tr>\n",
       "  </thead>\n",
       "  <tbody>\n",
       "    <tr>\n",
       "      <th>0</th>\n",
       "      <td>1968290001</td>\n",
       "      <td>14.0</td>\n",
       "      <td>1968-01-01</td>\n",
       "      <td>NaN</td>\n",
       "      <td>NaN</td>\n",
       "      <td>0</td>\n",
       "      <td>4</td>\n",
       "      <td>29</td>\n",
       "      <td>0</td>\n",
       "      <td>INDETERMINADO</td>\n",
       "      <td>...</td>\n",
       "      <td>1</td>\n",
       "      <td>40</td>\n",
       "      <td>0</td>\n",
       "      <td>0</td>\n",
       "      <td>0</td>\n",
       "      <td>360</td>\n",
       "      <td>0</td>\n",
       "      <td>0</td>\n",
       "      <td>0</td>\n",
       "      <td>0</td>\n",
       "    </tr>\n",
       "    <tr>\n",
       "      <th>1</th>\n",
       "      <td>1968430003</td>\n",
       "      <td>3.0</td>\n",
       "      <td>1968-01-03</td>\n",
       "      <td>NaN</td>\n",
       "      <td>NaN</td>\n",
       "      <td>0</td>\n",
       "      <td>2</td>\n",
       "      <td>43</td>\n",
       "      <td>0</td>\n",
       "      <td>INDETERMINADO</td>\n",
       "      <td>...</td>\n",
       "      <td>1</td>\n",
       "      <td>0</td>\n",
       "      <td>0</td>\n",
       "      <td>0</td>\n",
       "      <td>0</td>\n",
       "      <td>60</td>\n",
       "      <td>0</td>\n",
       "      <td>0</td>\n",
       "      <td>0</td>\n",
       "      <td>0</td>\n",
       "    </tr>\n",
       "    <tr>\n",
       "      <th>2</th>\n",
       "      <td>1968290006</td>\n",
       "      <td>2.0</td>\n",
       "      <td>1968-01-06</td>\n",
       "      <td>NaN</td>\n",
       "      <td>NaN</td>\n",
       "      <td>0</td>\n",
       "      <td>4</td>\n",
       "      <td>29</td>\n",
       "      <td>0</td>\n",
       "      <td>INDETERMINADO</td>\n",
       "      <td>...</td>\n",
       "      <td>1</td>\n",
       "      <td>0</td>\n",
       "      <td>0</td>\n",
       "      <td>0</td>\n",
       "      <td>0</td>\n",
       "      <td>120</td>\n",
       "      <td>0</td>\n",
       "      <td>0</td>\n",
       "      <td>0</td>\n",
       "      <td>0</td>\n",
       "    </tr>\n",
       "    <tr>\n",
       "      <th>3</th>\n",
       "      <td>1968430016</td>\n",
       "      <td>600.0</td>\n",
       "      <td>1968-01-07</td>\n",
       "      <td>NaN</td>\n",
       "      <td>NaN</td>\n",
       "      <td>0</td>\n",
       "      <td>2</td>\n",
       "      <td>43</td>\n",
       "      <td>0</td>\n",
       "      <td>INDETERMINADO</td>\n",
       "      <td>...</td>\n",
       "      <td>1</td>\n",
       "      <td>20</td>\n",
       "      <td>0</td>\n",
       "      <td>0</td>\n",
       "      <td>0</td>\n",
       "      <td>1440</td>\n",
       "      <td>35</td>\n",
       "      <td>1</td>\n",
       "      <td>0</td>\n",
       "      <td>0</td>\n",
       "    </tr>\n",
       "    <tr>\n",
       "      <th>4</th>\n",
       "      <td>1968120007</td>\n",
       "      <td>8.2</td>\n",
       "      <td>1968-01-07</td>\n",
       "      <td>NaN</td>\n",
       "      <td>NaN</td>\n",
       "      <td>0</td>\n",
       "      <td>9</td>\n",
       "      <td>12</td>\n",
       "      <td>0</td>\n",
       "      <td>INDETERMINADO</td>\n",
       "      <td>...</td>\n",
       "      <td>1</td>\n",
       "      <td>20</td>\n",
       "      <td>0</td>\n",
       "      <td>0</td>\n",
       "      <td>0</td>\n",
       "      <td>120</td>\n",
       "      <td>0</td>\n",
       "      <td>0</td>\n",
       "      <td>0</td>\n",
       "      <td>0</td>\n",
       "    </tr>\n",
       "  </tbody>\n",
       "</table>\n",
       "<p>5 rows × 21 columns</p>\n",
       "</div>"
      ],
      "text/plain": [
       "           id  superficie       fecha  lat  lng  latlng_explicit  idcomunidad  \\\n",
       "0  1968290001        14.0  1968-01-01  NaN  NaN                0            4   \n",
       "1  1968430003         3.0  1968-01-03  NaN  NaN                0            2   \n",
       "2  1968290006         2.0  1968-01-06  NaN  NaN                0            4   \n",
       "3  1968430016       600.0  1968-01-07  NaN  NaN                0            2   \n",
       "4  1968120007         8.2  1968-01-07  NaN  NaN                0            9   \n",
       "\n",
       "   idprovincia  idmunicipio      municipio  ...  causa_supuesta  causa_desc  \\\n",
       "0           29            0  INDETERMINADO  ...               1          40   \n",
       "1           43            0  INDETERMINADO  ...               1           0   \n",
       "2           29            0  INDETERMINADO  ...               1           0   \n",
       "3           43            0  INDETERMINADO  ...               1          20   \n",
       "4           12            0  INDETERMINADO  ...               1          20   \n",
       "\n",
       "   muertos  heridos  time_ctrl  time_ext  personal  medios  gastos  perdidas  \n",
       "0        0        0          0       360         0       0       0         0  \n",
       "1        0        0          0        60         0       0       0         0  \n",
       "2        0        0          0       120         0       0       0         0  \n",
       "3        0        0          0      1440        35       1       0         0  \n",
       "4        0        0          0       120         0       0       0         0  \n",
       "\n",
       "[5 rows x 21 columns]"
      ]
     },
     "execution_count": 24,
     "metadata": {},
     "output_type": "execute_result"
    }
   ],
   "source": [
    "data_path=\"data/fires-all.csv\"\n",
    "try:\n",
    "    fires=pd.read_csv(data_path)\n",
    "except Exception as error:\n",
    "    print(f\"Error while importing the excel file: {error}\")\n",
    "fires.head()"
   ]
  },
  {
   "cell_type": "markdown",
   "id": "1719a509",
   "metadata": {},
   "source": [
    "We analyze the data and observe the type of data on each column and how many nulls values we have"
   ]
  },
  {
   "cell_type": "code",
   "execution_count": 25,
   "id": "d7eb79af",
   "metadata": {},
   "outputs": [
    {
     "name": "stdout",
     "output_type": "stream",
     "text": [
      "<class 'pandas.core.frame.DataFrame'>\n",
      "RangeIndex: 284589 entries, 0 to 284588\n",
      "Data columns (total 21 columns):\n",
      " #   Column           Non-Null Count   Dtype  \n",
      "---  ------           --------------   -----  \n",
      " 0   id               284589 non-null  int64  \n",
      " 1   superficie       284589 non-null  float64\n",
      " 2   fecha            284589 non-null  object \n",
      " 3   lat              230154 non-null  float64\n",
      " 4   lng              230154 non-null  float64\n",
      " 5   latlng_explicit  284589 non-null  int64  \n",
      " 6   idcomunidad      284589 non-null  int64  \n",
      " 7   idprovincia      284589 non-null  int64  \n",
      " 8   idmunicipio      284589 non-null  int64  \n",
      " 9   municipio        284576 non-null  object \n",
      " 10  causa            284589 non-null  int64  \n",
      " 11  causa_supuesta   284589 non-null  int64  \n",
      " 12  causa_desc       284589 non-null  int64  \n",
      " 13  muertos          284589 non-null  int64  \n",
      " 14  heridos          284589 non-null  int64  \n",
      " 15  time_ctrl        284589 non-null  int64  \n",
      " 16  time_ext         284589 non-null  int64  \n",
      " 17  personal         284589 non-null  int64  \n",
      " 18  medios           284589 non-null  int64  \n",
      " 19  gastos           284589 non-null  int64  \n",
      " 20  perdidas         284589 non-null  int64  \n",
      "dtypes: float64(3), int64(16), object(2)\n",
      "memory usage: 45.6+ MB\n"
     ]
    }
   ],
   "source": [
    "fires.info()"
   ]
  },
  {
   "cell_type": "markdown",
   "id": "0dae4e65",
   "metadata": {},
   "source": [
    "### Remove unnecesary columns"
   ]
  },
  {
   "cell_type": "code",
   "execution_count": 26,
   "id": "70d37d12",
   "metadata": {},
   "outputs": [
    {
     "data": {
      "text/html": [
       "<div>\n",
       "<style scoped>\n",
       "    .dataframe tbody tr th:only-of-type {\n",
       "        vertical-align: middle;\n",
       "    }\n",
       "\n",
       "    .dataframe tbody tr th {\n",
       "        vertical-align: top;\n",
       "    }\n",
       "\n",
       "    .dataframe thead th {\n",
       "        text-align: right;\n",
       "    }\n",
       "</style>\n",
       "<table border=\"1\" class=\"dataframe\">\n",
       "  <thead>\n",
       "    <tr style=\"text-align: right;\">\n",
       "      <th></th>\n",
       "      <th>superficie</th>\n",
       "      <th>fecha</th>\n",
       "      <th>lat</th>\n",
       "      <th>lng</th>\n",
       "      <th>idcomunidad</th>\n",
       "      <th>idprovincia</th>\n",
       "      <th>idmunicipio</th>\n",
       "      <th>municipio</th>\n",
       "    </tr>\n",
       "  </thead>\n",
       "  <tbody>\n",
       "    <tr>\n",
       "      <th>0</th>\n",
       "      <td>14.0</td>\n",
       "      <td>1968-01-01</td>\n",
       "      <td>NaN</td>\n",
       "      <td>NaN</td>\n",
       "      <td>4</td>\n",
       "      <td>29</td>\n",
       "      <td>0</td>\n",
       "      <td>INDETERMINADO</td>\n",
       "    </tr>\n",
       "    <tr>\n",
       "      <th>1</th>\n",
       "      <td>3.0</td>\n",
       "      <td>1968-01-03</td>\n",
       "      <td>NaN</td>\n",
       "      <td>NaN</td>\n",
       "      <td>2</td>\n",
       "      <td>43</td>\n",
       "      <td>0</td>\n",
       "      <td>INDETERMINADO</td>\n",
       "    </tr>\n",
       "    <tr>\n",
       "      <th>2</th>\n",
       "      <td>2.0</td>\n",
       "      <td>1968-01-06</td>\n",
       "      <td>NaN</td>\n",
       "      <td>NaN</td>\n",
       "      <td>4</td>\n",
       "      <td>29</td>\n",
       "      <td>0</td>\n",
       "      <td>INDETERMINADO</td>\n",
       "    </tr>\n",
       "    <tr>\n",
       "      <th>3</th>\n",
       "      <td>600.0</td>\n",
       "      <td>1968-01-07</td>\n",
       "      <td>NaN</td>\n",
       "      <td>NaN</td>\n",
       "      <td>2</td>\n",
       "      <td>43</td>\n",
       "      <td>0</td>\n",
       "      <td>INDETERMINADO</td>\n",
       "    </tr>\n",
       "    <tr>\n",
       "      <th>4</th>\n",
       "      <td>8.2</td>\n",
       "      <td>1968-01-07</td>\n",
       "      <td>NaN</td>\n",
       "      <td>NaN</td>\n",
       "      <td>9</td>\n",
       "      <td>12</td>\n",
       "      <td>0</td>\n",
       "      <td>INDETERMINADO</td>\n",
       "    </tr>\n",
       "  </tbody>\n",
       "</table>\n",
       "</div>"
      ],
      "text/plain": [
       "   superficie       fecha  lat  lng  idcomunidad  idprovincia  idmunicipio  \\\n",
       "0        14.0  1968-01-01  NaN  NaN            4           29            0   \n",
       "1         3.0  1968-01-03  NaN  NaN            2           43            0   \n",
       "2         2.0  1968-01-06  NaN  NaN            4           29            0   \n",
       "3       600.0  1968-01-07  NaN  NaN            2           43            0   \n",
       "4         8.2  1968-01-07  NaN  NaN            9           12            0   \n",
       "\n",
       "       municipio  \n",
       "0  INDETERMINADO  \n",
       "1  INDETERMINADO  \n",
       "2  INDETERMINADO  \n",
       "3  INDETERMINADO  \n",
       "4  INDETERMINADO  "
      ]
     },
     "execution_count": 26,
     "metadata": {},
     "output_type": "execute_result"
    }
   ],
   "source": [
    "#drop\n",
    "try:\n",
    "    fires.drop([\"id\",\"causa\",\"causa_supuesta\",\"causa_desc\",\n",
    "                \"muertos\",\"heridos\",\"time_ctrl\",\"time_ext\",\n",
    "                \"personal\",\"medios\",\"gastos\",\"perdidas\",\n",
    "                \"latlng_explicit\"],axis=1, inplace=True)\n",
    "except Exception as error:\n",
    "    print(f\"ERROR while droping the columns {error}\")\n",
    "fires.head()"
   ]
  },
  {
   "cell_type": "markdown",
   "id": "b1ac7bfc",
   "metadata": {},
   "source": [
    "### Remove unnecesary rows"
   ]
  },
  {
   "cell_type": "code",
   "execution_count": 27,
   "id": "322dc45d",
   "metadata": {},
   "outputs": [
    {
     "data": {
      "text/plain": [
       "(superficie     0\n",
       " fecha          0\n",
       " lat            0\n",
       " lng            0\n",
       " idprovincia    0\n",
       " idmunicipio    0\n",
       " municipio      5\n",
       " dtype: int64,)"
      ]
     },
     "execution_count": 27,
     "metadata": {},
     "output_type": "execute_result"
    }
   ],
   "source": [
    "#We only want the fires of the comunidad 3 (Galicia)\n",
    "fires=fires[fires[\"idcomunidad\"]==3]\n",
    "#We drop null values on lat and lng, beacsue we cannot find where the fire happend,\n",
    "#  and it is older data from  1968\n",
    "fires=fires.dropna(subset=[\"lat\",\"lng\"])\n",
    "#We remove the column idcomunidad as it is no longer need it\n",
    "fires.drop([\"idcomunidad\"],axis=1,inplace=True)\n",
    "#print how many null values are for each column\n",
    "fires.isna().sum(),\n",
    "#TODO: from the coordinates lat and lng obtain the blanks municipio"
   ]
  },
  {
   "cell_type": "code",
   "execution_count": 28,
   "id": "68a9e910",
   "metadata": {},
   "outputs": [
    {
     "data": {
      "text/html": [
       "<div>\n",
       "<style scoped>\n",
       "    .dataframe tbody tr th:only-of-type {\n",
       "        vertical-align: middle;\n",
       "    }\n",
       "\n",
       "    .dataframe tbody tr th {\n",
       "        vertical-align: top;\n",
       "    }\n",
       "\n",
       "    .dataframe thead th {\n",
       "        text-align: right;\n",
       "    }\n",
       "</style>\n",
       "<table border=\"1\" class=\"dataframe\">\n",
       "  <thead>\n",
       "    <tr style=\"text-align: right;\">\n",
       "      <th></th>\n",
       "      <th>superficie</th>\n",
       "      <th>fecha</th>\n",
       "      <th>lat</th>\n",
       "      <th>lng</th>\n",
       "      <th>idprovincia</th>\n",
       "      <th>idmunicipio</th>\n",
       "      <th>municipio</th>\n",
       "    </tr>\n",
       "  </thead>\n",
       "  <tbody>\n",
       "    <tr>\n",
       "      <th>39703</th>\n",
       "      <td>20.0</td>\n",
       "      <td>1980-09-18</td>\n",
       "      <td>42.428281</td>\n",
       "      <td>-6.914337</td>\n",
       "      <td>32</td>\n",
       "      <td>9</td>\n",
       "      <td>BARCO DE VALDEORRAS, O</td>\n",
       "    </tr>\n",
       "    <tr>\n",
       "      <th>54407</th>\n",
       "      <td>2.0</td>\n",
       "      <td>1983-01-16</td>\n",
       "      <td>42.542185</td>\n",
       "      <td>-8.449205</td>\n",
       "      <td>36</td>\n",
       "      <td>12</td>\n",
       "      <td>COTOBADE</td>\n",
       "    </tr>\n",
       "    <tr>\n",
       "      <th>54410</th>\n",
       "      <td>6.0</td>\n",
       "      <td>1983-01-16</td>\n",
       "      <td>42.102572</td>\n",
       "      <td>-8.415920</td>\n",
       "      <td>36</td>\n",
       "      <td>34</td>\n",
       "      <td>NEVES, AS</td>\n",
       "    </tr>\n",
       "    <tr>\n",
       "      <th>54415</th>\n",
       "      <td>3.0</td>\n",
       "      <td>1983-01-17</td>\n",
       "      <td>43.629834</td>\n",
       "      <td>-7.367642</td>\n",
       "      <td>27</td>\n",
       "      <td>19</td>\n",
       "      <td>FOZ</td>\n",
       "    </tr>\n",
       "    <tr>\n",
       "      <th>54417</th>\n",
       "      <td>40.0</td>\n",
       "      <td>1983-01-18</td>\n",
       "      <td>43.018968</td>\n",
       "      <td>-7.408954</td>\n",
       "      <td>27</td>\n",
       "      <td>11</td>\n",
       "      <td>CASTROVERDE</td>\n",
       "    </tr>\n",
       "  </tbody>\n",
       "</table>\n",
       "</div>"
      ],
      "text/plain": [
       "       superficie       fecha        lat       lng  idprovincia  idmunicipio  \\\n",
       "39703        20.0  1980-09-18  42.428281 -6.914337           32            9   \n",
       "54407         2.0  1983-01-16  42.542185 -8.449205           36           12   \n",
       "54410         6.0  1983-01-16  42.102572 -8.415920           36           34   \n",
       "54415         3.0  1983-01-17  43.629834 -7.367642           27           19   \n",
       "54417        40.0  1983-01-18  43.018968 -7.408954           27           11   \n",
       "\n",
       "                    municipio  \n",
       "39703  BARCO DE VALDEORRAS, O  \n",
       "54407                COTOBADE  \n",
       "54410               NEVES, AS  \n",
       "54415                     FOZ  \n",
       "54417             CASTROVERDE  "
      ]
     },
     "execution_count": 28,
     "metadata": {},
     "output_type": "execute_result"
    }
   ],
   "source": [
    "fires.head()"
   ]
  },
  {
   "cell_type": "markdown",
   "id": "175fe2aa",
   "metadata": {},
   "source": [
    "### Add weather data"
   ]
  },
  {
   "cell_type": "code",
   "execution_count": 29,
   "id": "58c42990",
   "metadata": {},
   "outputs": [],
   "source": [
    "# Documentation (https://dev.meteostat.net/python/daily.html#example)\n",
    "# We initialize the columns for the data\n",
    "fires['wind_speed'] = None\n",
    "fires['wind_gust'] = None\n",
    "fires['wind_direction'] = None\n",
    "fires['temperature'] = None\n",
    "fires['pressure'] = None\n",
    "fires['precipitation'] = None\n",
    "#We convert the date fecha into datetime, to avoid warnings from pandas\n",
    "fires['fecha'] = pd.to_datetime(fires['fecha'], errors='coerce')"
   ]
  },
  {
   "cell_type": "code",
   "execution_count": null,
   "id": "382874a8",
   "metadata": {},
   "outputs": [
    {
     "ename": "SyntaxError",
     "evalue": "invalid syntax (4088417403.py, line 8)",
     "output_type": "error",
     "traceback": [
      "\u001b[1;36m  Cell \u001b[1;32mIn[30], line 8\u001b[1;36m\u001b[0m\n\u001b[1;33m    break)\u001b[0m\n\u001b[1;37m    ^\u001b[0m\n\u001b[1;31mSyntaxError\u001b[0m\u001b[1;31m:\u001b[0m invalid syntax\n"
     ]
    }
   ],
   "source": [
    "from tqdm import tqdm\n",
    "#It iterates each row, but it also adds a progress bar to know in what percentage we are\n",
    "for i, row in tqdm(fires.iterrows(), total=fires.shape[0], desc=\"Fetching weather data\", unit=\"row\"):\n",
    "#for i, row in fires.iterrows():\n",
    "    # Set up the location (lat, lng) and date based on each row's data\n",
    "    location = Point(row['lat'], row['lng'])\n",
    "    print(location)\n",
    "    break\n",
    "    date = row['fecha'] \n",
    "    \n",
    "    # Get daily weather data for the specific date and location\n",
    "    weather_data = Daily(location, date, date)\n",
    "    weather_data = weather_data.fetch()\n",
    "    \n",
    "    # Check if weather data is available for the date and location\n",
    "    if not weather_data.empty:\n",
    "        # Populate the row with weather data (using iloc[0] to get the first row of the result)\n",
    "        fires.at[i, 'wind_speed'] = weather_data['wspd'].iloc[0]\n",
    "        fires.at[i, 'wind_gust'] = weather_data['wpgt'].iloc[0] if 'wpgt' in weather_data else None\n",
    "        fires.at[i, 'wind_direction'] = weather_data['wdir'].iloc[0]\n",
    "        fires.at[i, 'temperature'] = weather_data['tavg'].iloc[0]\n",
    "        fires.at[i, 'pressure'] = weather_data['pres'].iloc[0]\n",
    "        fires.at[i, 'precipitation'] = weather_data['prcp'].iloc[0]\n",
    "\n",
    "# Display the DataFrame with added weather columns\n",
    "fires.head()\n"
   ]
  },
  {
   "cell_type": "code",
   "execution_count": null,
   "id": "b5232535",
   "metadata": {},
   "outputs": [
    {
     "data": {
      "text/plain": [
       "superficie            0\n",
       "fecha                 0\n",
       "lat                   0\n",
       "lng                   0\n",
       "idprovincia           0\n",
       "idmunicipio           0\n",
       "municipio             5\n",
       "wind_speed        70338\n",
       "wind_gust         81050\n",
       "wind_direction    76461\n",
       "temperature       42334\n",
       "pressure          77094\n",
       "precipitation     35046\n",
       "dtype: int64"
      ]
     },
     "execution_count": 9,
     "metadata": {},
     "output_type": "execute_result"
    }
   ],
   "source": [
    "fires.isna().sum()"
   ]
  },
  {
   "cell_type": "code",
   "execution_count": null,
   "id": "b599bf58",
   "metadata": {},
   "outputs": [
    {
     "name": "stdout",
     "output_type": "stream",
     "text": [
      "<class 'pandas.core.frame.DataFrame'>\n",
      "Index: 81082 entries, 39703 to 281994\n",
      "Data columns (total 13 columns):\n",
      " #   Column          Non-Null Count  Dtype         \n",
      "---  ------          --------------  -----         \n",
      " 0   superficie      81082 non-null  float64       \n",
      " 1   fecha           81082 non-null  datetime64[ns]\n",
      " 2   lat             81082 non-null  float64       \n",
      " 3   lng             81082 non-null  float64       \n",
      " 4   idprovincia     81082 non-null  int64         \n",
      " 5   idmunicipio     81082 non-null  int64         \n",
      " 6   municipio       81077 non-null  object        \n",
      " 7   wind_speed      10744 non-null  object        \n",
      " 8   wind_gust       32 non-null     object        \n",
      " 9   wind_direction  4621 non-null   object        \n",
      " 10  temperature     38748 non-null  object        \n",
      " 11  pressure        3988 non-null   object        \n",
      " 12  precipitation   46036 non-null  object        \n",
      "dtypes: datetime64[ns](1), float64(3), int64(2), object(7)\n",
      "memory usage: 10.7+ MB\n"
     ]
    }
   ],
   "source": [
    "fires.info()"
   ]
  },
  {
   "cell_type": "code",
   "execution_count": null,
   "id": "2bcd36ab",
   "metadata": {},
   "outputs": [],
   "source": [
    "#We save the data with the weather\n",
    "data_path=\"data/fires-weather.xlsx\"\n",
    "try:\n",
    "    fires.to_excel(data_path,index=False)\n",
    "except Exception as error:\n",
    "    print(f\"ERror while exporting the data to the excel file: {error}\")"
   ]
  },
  {
   "cell_type": "code",
   "execution_count": null,
   "id": "03fa27c7",
   "metadata": {},
   "outputs": [
    {
     "data": {
      "text/html": [
       "<div>\n",
       "<style scoped>\n",
       "    .dataframe tbody tr th:only-of-type {\n",
       "        vertical-align: middle;\n",
       "    }\n",
       "\n",
       "    .dataframe tbody tr th {\n",
       "        vertical-align: top;\n",
       "    }\n",
       "\n",
       "    .dataframe thead th {\n",
       "        text-align: right;\n",
       "    }\n",
       "</style>\n",
       "<table border=\"1\" class=\"dataframe\">\n",
       "  <thead>\n",
       "    <tr style=\"text-align: right;\">\n",
       "      <th></th>\n",
       "      <th>superficie</th>\n",
       "      <th>fecha</th>\n",
       "      <th>lat</th>\n",
       "      <th>lng</th>\n",
       "      <th>idprovincia</th>\n",
       "      <th>idmunicipio</th>\n",
       "      <th>municipio</th>\n",
       "      <th>wind_speed</th>\n",
       "      <th>wind_gust</th>\n",
       "      <th>wind_direction</th>\n",
       "      <th>temperature</th>\n",
       "      <th>pressure</th>\n",
       "      <th>precipitation</th>\n",
       "    </tr>\n",
       "  </thead>\n",
       "  <tbody>\n",
       "    <tr>\n",
       "      <th>0</th>\n",
       "      <td>20.0</td>\n",
       "      <td>1980-09-18</td>\n",
       "      <td>42.428281</td>\n",
       "      <td>-6.914337</td>\n",
       "      <td>32</td>\n",
       "      <td>9</td>\n",
       "      <td>BARCO DE VALDEORRAS, O</td>\n",
       "      <td>NaN</td>\n",
       "      <td>NaN</td>\n",
       "      <td>NaN</td>\n",
       "      <td>19.6</td>\n",
       "      <td>NaN</td>\n",
       "      <td>0.0</td>\n",
       "    </tr>\n",
       "    <tr>\n",
       "      <th>1</th>\n",
       "      <td>2.0</td>\n",
       "      <td>1983-01-16</td>\n",
       "      <td>42.542185</td>\n",
       "      <td>-8.449205</td>\n",
       "      <td>36</td>\n",
       "      <td>12</td>\n",
       "      <td>COTOBADE</td>\n",
       "      <td>NaN</td>\n",
       "      <td>NaN</td>\n",
       "      <td>NaN</td>\n",
       "      <td>12.1</td>\n",
       "      <td>NaN</td>\n",
       "      <td>NaN</td>\n",
       "    </tr>\n",
       "    <tr>\n",
       "      <th>2</th>\n",
       "      <td>6.0</td>\n",
       "      <td>1983-01-16</td>\n",
       "      <td>42.102572</td>\n",
       "      <td>-8.415920</td>\n",
       "      <td>36</td>\n",
       "      <td>34</td>\n",
       "      <td>NEVES, AS</td>\n",
       "      <td>NaN</td>\n",
       "      <td>NaN</td>\n",
       "      <td>NaN</td>\n",
       "      <td>9.1</td>\n",
       "      <td>NaN</td>\n",
       "      <td>0.0</td>\n",
       "    </tr>\n",
       "    <tr>\n",
       "      <th>3</th>\n",
       "      <td>3.0</td>\n",
       "      <td>1983-01-17</td>\n",
       "      <td>43.629834</td>\n",
       "      <td>-7.367642</td>\n",
       "      <td>27</td>\n",
       "      <td>19</td>\n",
       "      <td>FOZ</td>\n",
       "      <td>NaN</td>\n",
       "      <td>NaN</td>\n",
       "      <td>NaN</td>\n",
       "      <td>NaN</td>\n",
       "      <td>NaN</td>\n",
       "      <td>NaN</td>\n",
       "    </tr>\n",
       "    <tr>\n",
       "      <th>4</th>\n",
       "      <td>40.0</td>\n",
       "      <td>1983-01-18</td>\n",
       "      <td>43.018968</td>\n",
       "      <td>-7.408954</td>\n",
       "      <td>27</td>\n",
       "      <td>11</td>\n",
       "      <td>CASTROVERDE</td>\n",
       "      <td>NaN</td>\n",
       "      <td>NaN</td>\n",
       "      <td>NaN</td>\n",
       "      <td>4.2</td>\n",
       "      <td>NaN</td>\n",
       "      <td>0.0</td>\n",
       "    </tr>\n",
       "  </tbody>\n",
       "</table>\n",
       "</div>"
      ],
      "text/plain": [
       "   superficie      fecha        lat       lng  idprovincia  idmunicipio  \\\n",
       "0        20.0 1980-09-18  42.428281 -6.914337           32            9   \n",
       "1         2.0 1983-01-16  42.542185 -8.449205           36           12   \n",
       "2         6.0 1983-01-16  42.102572 -8.415920           36           34   \n",
       "3         3.0 1983-01-17  43.629834 -7.367642           27           19   \n",
       "4        40.0 1983-01-18  43.018968 -7.408954           27           11   \n",
       "\n",
       "                municipio  wind_speed  wind_gust  wind_direction  temperature  \\\n",
       "0  BARCO DE VALDEORRAS, O         NaN        NaN             NaN         19.6   \n",
       "1                COTOBADE         NaN        NaN             NaN         12.1   \n",
       "2               NEVES, AS         NaN        NaN             NaN          9.1   \n",
       "3                     FOZ         NaN        NaN             NaN          NaN   \n",
       "4             CASTROVERDE         NaN        NaN             NaN          4.2   \n",
       "\n",
       "   pressure  precipitation  \n",
       "0       NaN            0.0  \n",
       "1       NaN            NaN  \n",
       "2       NaN            0.0  \n",
       "3       NaN            NaN  \n",
       "4       NaN            0.0  "
      ]
     },
     "execution_count": 21,
     "metadata": {},
     "output_type": "execute_result"
    }
   ],
   "source": [
    "#This si done to avoid repeating teh fetching of weather that is an intensive task\n",
    "data_path=\"data/fires-weather.xlsx\"\n",
    "try:\n",
    "    fires=pd.read_excel(data_path)\n",
    "except Exception as error:\n",
    "    print(f\"Error while importing the excel file: {error}\")\n",
    "fires.head()"
   ]
  },
  {
   "cell_type": "markdown",
   "id": "cb3db8c4",
   "metadata": {},
   "source": [
    "### Group by weeks"
   ]
  },
  {
   "cell_type": "code",
   "execution_count": null,
   "id": "56e11eec",
   "metadata": {},
   "outputs": [],
   "source": [
    "#TODO "
   ]
  },
  {
   "cell_type": "markdown",
   "id": "57e04996",
   "metadata": {},
   "source": [
    "### Split train and test data"
   ]
  },
  {
   "cell_type": "code",
   "execution_count": null,
   "id": "dcb7131e",
   "metadata": {},
   "outputs": [],
   "source": [
    "#We split 80% of the data for training the model\n",
    "train_split=80\n"
   ]
  },
  {
   "cell_type": "markdown",
   "id": "ed5b2c85",
   "metadata": {},
   "source": [
    "## Analyze data"
   ]
  },
  {
   "cell_type": "code",
   "execution_count": null,
   "id": "4ea9276a",
   "metadata": {},
   "outputs": [],
   "source": [
    "#TODO"
   ]
  },
  {
   "cell_type": "markdown",
   "id": "744a99a9",
   "metadata": {},
   "source": []
  },
  {
   "cell_type": "markdown",
   "id": "d9362f0c",
   "metadata": {},
   "source": [
    "## Train models"
   ]
  },
  {
   "cell_type": "code",
   "execution_count": null,
   "id": "82ee1d5c",
   "metadata": {},
   "outputs": [],
   "source": [
    "#TODO"
   ]
  },
  {
   "cell_type": "markdown",
   "id": "3f7ecfa1",
   "metadata": {},
   "source": []
  },
  {
   "cell_type": "markdown",
   "id": "883c9640",
   "metadata": {},
   "source": [
    "## Performances"
   ]
  },
  {
   "cell_type": "code",
   "execution_count": null,
   "id": "fb0f488a",
   "metadata": {},
   "outputs": [],
   "source": [
    "#TODO"
   ]
  },
  {
   "cell_type": "markdown",
   "id": "bb6dcd49",
   "metadata": {},
   "source": []
  },
  {
   "cell_type": "markdown",
   "id": "cc88c4df",
   "metadata": {},
   "source": [
    "## Test Model\n"
   ]
  },
  {
   "cell_type": "code",
   "execution_count": null,
   "id": "1e0aa303",
   "metadata": {},
   "outputs": [],
   "source": [
    "#TODO"
   ]
  }
 ],
 "metadata": {
  "kernelspec": {
   "display_name": "env",
   "language": "python",
   "name": "python3"
  },
  "language_info": {
   "codemirror_mode": {
    "name": "ipython",
    "version": 3
   },
   "file_extension": ".py",
   "mimetype": "text/x-python",
   "name": "python",
   "nbconvert_exporter": "python",
   "pygments_lexer": "ipython3",
   "version": "3.11.9"
  }
 },
 "nbformat": 4,
 "nbformat_minor": 5
}
