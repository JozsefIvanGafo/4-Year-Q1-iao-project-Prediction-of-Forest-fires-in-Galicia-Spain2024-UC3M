{
 "cells": [
  {
   "cell_type": "markdown",
   "id": "3b417960",
   "metadata": {},
   "source": [
    "## Data cleaning"
   ]
  },
  {
   "cell_type": "markdown",
   "id": "dd26649a",
   "metadata": {},
   "source": [
    "### Set up"
   ]
  },
  {
   "cell_type": "markdown",
   "id": "3481befd",
   "metadata": {},
   "source": [
    "We first import the different libraries that we will be using for this project"
   ]
  },
  {
   "cell_type": "code",
   "execution_count": null,
   "id": "41070f99",
   "metadata": {},
   "outputs": [],
   "source": [
    "import pandas as pd\n",
    "from datetime import datetime \n",
    "from unidecode import unidecode\n"
   ]
  },
  {
   "cell_type": "markdown",
   "id": "fae4ad70",
   "metadata": {},
   "source": [
    "We import our dataset"
   ]
  },
  {
   "cell_type": "code",
   "execution_count": null,
   "id": "e13d1dc7",
   "metadata": {},
   "outputs": [],
   "source": [
    "data_path=\"data/fires-weather.csv\"\n",
    "try:\n",
    "    weather_fires=pd.read_csv(data_path)\n",
    "except Exception as error:\n",
    "    print(f\"Error while importing the excel file: {error}\")\n",
    "weather_fires.head()"
   ]
  },
  {
   "cell_type": "markdown",
   "id": "57e04996",
   "metadata": {},
   "source": [
    "### Split train and test data"
   ]
  },
  {
   "cell_type": "code",
   "execution_count": null,
   "id": "dcb7131e",
   "metadata": {},
   "outputs": [],
   "source": [
    "# Dividir los datos en train y test\n",
    "df_train = weather_fires[weather_fires['Anno'] <= 2015].reset_index(drop=True) #Modificados\n",
    "df_test = weather_fires[weather_fires['Anno'] >= 2016].reset_index(drop=True)\n",
    "\n",
    "df_train = pd.DataFrame(df_train)\n",
    "df_test = pd.DataFrame(df_test)\n",
    "\n",
    "\n",
    "# Calcular tamaños de train y test\n",
    "train_size = len(df_train)\n",
    "test_size = len(df_test)\n",
    "total_size = len(weather_fires)\n",
    "\n",
    "# Calcular porcentajes\n",
    "train_percentage = (train_size / total_size) * 100\n",
    "test_percentage = (test_size / total_size) * 100\n",
    "\n",
    "# Mostrar resultados\n",
    "print(f\"\\nTamaño total: {total_size}\")\n",
    "print(f\"Train: {train_size} filas ({train_percentage:.2f}%)\")\n",
    "print(f\"Test: {test_size} filas ({test_percentage:.2f}%)\")\n",
    "\n",
    "# Verificar los resultados\n",
    "print(\"Train:\")\n",
    "print(df_train.head(), \"\\n--------------\\n\", df_train.tail())\n",
    "print(\"\\nTest:\")\n",
    "print(df_test.head(), \"\\n--------------\\n\", df_test.tail()) # No se usará hasta el final\n",
    "\n",
    "x_train = df_train.drop(columns=['superficie', 'numero_incendios'])\n",
    "y_train = df_train['superficie']\n",
    "\n",
    "x_test = df_test.drop(columns=['superficie', 'numero_incendios'])\n",
    "y_test = df_test['superficie']\n",
    "\n",
    "x_train.head()"
   ]
  },
  {
   "cell_type": "markdown",
   "id": "d9362f0c",
   "metadata": {},
   "source": [
    "## Train models"
   ]
  },
  {
   "cell_type": "code",
   "execution_count": null,
   "id": "9ede3f47",
   "metadata": {},
   "outputs": [],
   "source": [
    "\n",
    "!pip install scikit-learn"
   ]
  },
  {
   "cell_type": "markdown",
   "id": "a65ac8e1",
   "metadata": {},
   "source": [
    "### Analyze train data set"
   ]
  },
  {
   "cell_type": "code",
   "execution_count": null,
   "id": "72aa6b51",
   "metadata": {},
   "outputs": [],
   "source": [
    "\n",
    "from sklearn.neighbors import KNeighborsRegressor\n",
    "from sklearn.preprocessing import StandardScaler, RobustScaler, MinMaxScaler\n",
    "from sklearn.model_selection import GridSearchCV, cross_val_score, KFold, TimeSeriesSplit\n",
    "from sklearn.pipeline import Pipeline\n",
    "from sklearn import metrics\n",
    "\n",
    "x_train = x_train.dropna()\n",
    "y_train = y_train[x_train.index]\n",
    "\n",
    "x_test = x_test.dropna()\n",
    "y_test = y_test[x_test.index]\n",
    "# Data split\n",
    "inner_cv = TimeSeriesSplit(n_splits=7)"
   ]
  },
  {
   "cell_type": "code",
   "execution_count": null,
   "id": "542beaa7",
   "metadata": {},
   "outputs": [],
   "source": [
    "import time\n",
    "knn_pipe = Pipeline([\n",
    "    ('scaler', MinMaxScaler()),\n",
    "    ('knn', KNeighborsRegressor())]\n",
    ")\n",
    "\n",
    "# KNN con ajuste de hiperparámetros ---------------------------------------\n",
    "param_grid = {\n",
    "    'knn__n_neighbors': [3,5,7,11,15,19,23,25],\n",
    "    'knn__weights': ['uniform', 'distance'],\n",
    "    'knn__metric': ['minkowski', 'euclidean', 'manhattan'] \n",
    "}\n",
    "\n",
    "knn_hpo = GridSearchCV(knn_pipe, param_grid, scoring='neg_mean_absolute_error', cv=inner_cv, n_jobs=-1, verbose=1)\n",
    "knn_hpo.fit(x_train, y_train)\n",
    "\n",
    "\n",
    "\n",
    "print(f\"Mejor puntuación MAE: \", -knn_hpo.best_score_)\n",
    "print(\"Mejores hiperparámetros:\", knn_hpo.best_params_)"
   ]
  },
  {
   "cell_type": "code",
   "execution_count": null,
   "id": "4c4e9445",
   "metadata": {},
   "outputs": [],
   "source": [
    "import matplotlib.pyplot as plt\n",
    "# Escalar los datos de prueba\n",
    "\n",
    "# Predecir usando el mejor modelo encontrado\n",
    "y_pred = knn_hpo.best_estimator_.predict(x_test)\n",
    "\n",
    "# Graficar valores reales vs. predichos\n",
    "plt.figure(figsize=(10, 6))\n",
    "plt.plot(y_test, label='Valores Reales', marker='o')\n",
    "plt.plot(y_pred, label='Valores Predichos', marker='x')\n",
    "plt.title('Comparación de Valores Reales vs. Predichos')\n",
    "plt.xlabel('Índice')\n",
    "plt.ylabel('Valor')\n",
    "plt.legend()\n",
    "plt.grid()\n",
    "plt.show()\n",
    "\n",
    "from sklearn.metrics import mean_absolute_error\n",
    "mae = mean_absolute_error(y_test, y_pred)\n",
    "\n",
    "# Mostrar el MAE\n",
    "print(f\"Error Absoluto Medio (MAE) test: {mae}\")"
   ]
  },
  {
   "cell_type": "code",
   "execution_count": null,
   "id": "c82e86a9",
   "metadata": {},
   "outputs": [],
   "source": [
    "from sklearn.tree import DecisionTreeRegressor\n",
    "\n",
    "tree_pipe = Pipeline([\n",
    "    ('tree', DecisionTreeRegressor(random_state=100472313))\n",
    "])\n",
    "\n",
    "#Árboles de regresión con HPO -----------------------------\n",
    "\n",
    "param_grid = {\n",
    "    'tree__criterion':['squared_error', 'friedman_mse', 'absolute_error'],\n",
    "    'tree__max_depth': [5,7,9,11],\n",
    "    'tree__min_samples_split': [40 ,50, 70, 90, 110, 130, 150],\n",
    "}\n",
    "\n",
    "\n",
    "tree_hpo = GridSearchCV(tree_pipe, param_grid, scoring='neg_mean_absolute_error', cv=inner_cv, n_jobs=-1, verbose=1)\n",
    "tree_hpo.fit(x_train, y_train)\n",
    "\n",
    "\n",
    "print(f\"Mejor puntuación MAE: \", -tree_hpo.best_score_)\n",
    "print(\"Mejores hiperparámetros:\", tree_hpo.best_params_)\n"
   ]
  },
  {
   "cell_type": "code",
   "execution_count": null,
   "id": "8aba69ea",
   "metadata": {},
   "outputs": [],
   "source": [
    "y_pred = tree_hpo.best_estimator_.predict(x_test)\n",
    "\n",
    "# Graficar valores reales vs. predichos\n",
    "plt.figure(figsize=(10, 6))\n",
    "plt.plot(y_test, label='Valores Reales', marker='o', linestyle='-', linewidth=2)\n",
    "plt.plot(y_pred, label='Valores Predichos', marker='x', linestyle='--', linewidth=2)\n",
    "plt.title('Comparación de Valores Reales vs. Predichos (Árbol de Decisión)')\n",
    "plt.xlabel('Índice')\n",
    "plt.ylabel('Valor')\n",
    "plt.legend()\n",
    "plt.grid(True)\n",
    "plt.show()\n",
    "\n",
    "mae = mean_absolute_error(y_test, y_pred)\n",
    "\n",
    "# Mostrar el MAE\n",
    "print(f\"Error Absoluto Medio (MAE) test: {mae}\")"
   ]
  },
  {
   "cell_type": "code",
   "execution_count": null,
   "id": "f3e23c4a",
   "metadata": {},
   "outputs": [],
   "source": [
    "from sklearn.ensemble import RandomForestRegressor\n",
    "from sklearn.pipeline import Pipeline\n",
    "from sklearn.model_selection import GridSearchCV, cross_val_score\n",
    "import time\n",
    "\n",
    "# Define the Random Forest pipeline\n",
    "rf_pipe = Pipeline([\n",
    "    ('rf', RandomForestRegressor(random_state=100472313))\n",
    "])\n",
    "\n",
    "# Random Forest Regression with Hyperparameter Optimization (HPO)\n",
    "param_grid = {\n",
    "    'rf__n_estimators': [50, 100, 150, 200],  # Number of trees\n",
    "    'rf__max_depth': [5, 10, 15, 20, None],  # Maximum depth of trees\n",
    "    'rf__min_samples_split': [2, 5, 10],  # Minimum samples required to split a node\n",
    "    'rf__min_samples_leaf': [1, 2, 4],  # Minimum samples required at each leaf\n",
    "    'rf__max_features': ['sqrt', 'log2']  # Number of features considered for splitting\n",
    "}\n",
    "\n",
    "\n",
    "rf_hpo = GridSearchCV(rf_pipe, param_grid, scoring='neg_mean_absolute_error', cv=inner_cv, n_jobs=-1, verbose=1)\n",
    "rf_hpo.fit(x_train, y_train)\n",
    "\n",
    "\n",
    "print(f\"Best MAE score: {-rf_hpo.best_score_:.2f}\")\n",
    "print(\"Best hyperparameters:\", rf_hpo.best_params_)\n"
   ]
  },
  {
   "cell_type": "code",
   "execution_count": null,
   "id": "cfacc94f",
   "metadata": {},
   "outputs": [],
   "source": [
    "# Predict using the best model found during HPO\n",
    "y_pred_rf = rf_hpo.best_estimator_.predict(x_test)\n",
    "\n",
    "# Calculate MAE for Random Forest\n",
    "mae_rf = mean_absolute_error(y_test, y_pred_rf)\n",
    "\n",
    "# Print the MAE\n",
    "print(f\"Random Forest - Error Absoluto Medio (MAE): {mae_rf:.2f}\")\n",
    "\n",
    "# Plot real vs predicted values for Random Forest\n",
    "plt.figure(figsize=(10, 6))\n",
    "plt.plot(y_test, label='Valores Reales', marker='o', linestyle='-', alpha=0.8)\n",
    "plt.plot(y_pred_rf, label='Valores Predichos (Random Forest)', marker='x', linestyle='--', alpha=0.8)\n",
    "plt.title('Random Forest: Comparación de Valores Reales vs. Predichos')\n",
    "plt.xlabel('Índice')\n",
    "plt.ylabel('Valor')\n",
    "plt.legend()\n",
    "plt.grid()\n",
    "plt.show()"
   ]
  },
  {
   "cell_type": "code",
   "execution_count": null,
   "id": "4cc8ac16",
   "metadata": {},
   "outputs": [],
   "source": [
    "from sklearn.svm import SVR\n",
    "\n",
    "svm_pipe = Pipeline([\n",
    "    ('scaler', StandardScaler()),\n",
    "    ('svm', SVR())\n",
    "])\n",
    "\n",
    "#SVM hpo -------------------\n",
    "\n",
    "param_grid = {\n",
    "    'svm__kernel': ['rbf', 'poly'],\n",
    "    'svm__C': [1, 100, 1000, 1100],\n",
    "    'svm__degree': [1, 2, 3],\n",
    "    'svm__gamma': ['scale' , 0.001, 0.1]\n",
    "}\n",
    "\n",
    "\n",
    "svm_hpo = GridSearchCV(svm_pipe, param_grid, scoring='neg_mean_absolute_error', cv=inner_cv, n_jobs=-1, verbose=1)\n",
    "svm_hpo.fit(x_train, y_train)\n",
    "\n",
    "\n",
    "print(f\"Mejor puntuación MAE: \", -svm_hpo.best_score_)\n",
    "print(\"Mejores hiperparámetros:\", svm_hpo.best_params_)"
   ]
  },
  {
   "cell_type": "code",
   "execution_count": null,
   "id": "3258c2ff",
   "metadata": {},
   "outputs": [],
   "source": [
    "# Predict using the best model found during HPO\n",
    "y_pred_svm = svm_hpo.best_estimator_.predict(x_test)\n",
    "\n",
    "# Calculate MAE for SVM\n",
    "mae_svm = mean_absolute_error(y_test, y_pred_svm)\n",
    "\n",
    "# Print the MAE\n",
    "print(f\"SVM - Error Absoluto Medio (MAE): {mae_svm:.2f}\")\n",
    "\n",
    "# Plot real vs predicted values for SVM\n",
    "plt.figure(figsize=(10, 6))\n",
    "plt.plot(y_test, label='Valores Reales', marker='o', linestyle='-', alpha=0.8)\n",
    "plt.plot(y_pred_svm, label='Valores Predichos (SVM)', marker='x', linestyle='--', alpha=0.8)\n",
    "plt.title('SVM: Comparación de Valores Reales vs. Predichos')\n",
    "plt.xlabel('Índice')\n",
    "plt.ylabel('Valor')\n",
    "plt.legend()\n",
    "plt.grid()\n",
    "plt.show()"
   ]
  },
  {
   "cell_type": "code",
   "execution_count": null,
   "id": "17ba2661",
   "metadata": {},
   "outputs": [],
   "source": [
    "from sklearn.neural_network import MLPRegressor\n",
    "from sklearn.pipeline import Pipeline\n",
    "from sklearn.model_selection import GridSearchCV, cross_val_score\n",
    "import time\n",
    "\n",
    "# Pipeline con MLPRegressor\n",
    "mlp_pipe = Pipeline([\n",
    "    ('mlp', MLPRegressor(random_state=100472313, max_iter=1000))\n",
    "])\n",
    "\n",
    "# Red neuronal con optimización de hiperparámetros -----------\n",
    "\n",
    "param_grid = {\n",
    "    'mlp__hidden_layer_sizes': [(50,), (100,), (100, 50), (50, 25)],  # Tamaños de las capas ocultas\n",
    "    'mlp__activation': ['relu', 'tanh'],  # Función de activación\n",
    "    'mlp__solver': ['adam', 'sgd'],  # Algoritmo de optimización\n",
    "    'mlp__alpha': [0.0001, 0.001, 0.01],  # Tasa de regularización\n",
    "    'mlp__learning_rate': ['constant', 'adaptive']  # Estrategia de tasa de aprendizaje\n",
    "}\n",
    "\n",
    "mlp_hpo = GridSearchCV(mlp_pipe, param_grid, scoring='neg_mean_absolute_error', cv=inner_cv, n_jobs=-1, verbose=1)\n",
    "mlp_hpo.fit(x_train, y_train)\n",
    "\n",
    "print(f\"Mejor puntuación MAE: {-mlp_hpo.best_score_:.2f}\")\n",
    "print(\"Mejores hiperparámetros:\", mlp_hpo.best_params_)\n"
   ]
  },
  {
   "cell_type": "code",
   "execution_count": null,
   "id": "fabfb5b8",
   "metadata": {},
   "outputs": [],
   "source": [
    "\n",
    "\n",
    "y_pred_mlp = mlp_hpo.best_estimator_.predict(x_test)\n",
    "\n",
    "# Calculate MAE for MLP\n",
    "mae_mlp = mean_absolute_error(y_test, y_pred_mlp)\n",
    "\n",
    "# Print the MAE\n",
    "print(f\"MLP Regressor - Error Absoluto Medio (MAE): {mae_mlp:.2f}\")\n",
    "\n",
    "# Plot real vs predicted values for MLP\n",
    "plt.figure(figsize=(10, 6))\n",
    "plt.plot(y_test, label='Valores Reales', marker='o', linestyle='-', alpha=0.8)\n",
    "plt.plot(y_pred_mlp, label='Valores Predichos (MLP)', marker='x', linestyle='--', alpha=0.8)\n",
    "plt.title('MLP Regressor: Comparación de Valores Reales vs. Predichos')\n",
    "plt.xlabel('Índice')\n",
    "plt.ylabel('Valor')\n",
    "plt.legend()\n",
    "plt.grid()\n",
    "plt.show()"
   ]
  },
  {
   "cell_type": "code",
   "execution_count": 63,
   "id": "ce1a5cc2",
   "metadata": {},
   "outputs": [
    {
     "name": "stdout",
     "output_type": "stream",
     "text": [
      "Fitting 3 folds for each of 108 candidates, totalling 324 fits\n",
      "Mejor puntuación MAE: 260.23\n",
      "Mejores hiperparámetros: {'colsample_bytree': 0.7, 'learning_rate': 0.01, 'max_depth': 6, 'n_estimators': 200, 'subsample': 0.7}\n",
      "MAE en el conjunto de test final: 340.04\n"
     ]
    },
    {
     "data": {
      "image/png": "[encoded data removed]",
      "text/plain": [
       "<Figure size 640x480 with 1 Axes>"
      ]
     },
     "metadata": {},
     "output_type": "display_data"
    }
   ],
   "source": [
    "import xgboost as xgb\n",
    "from sklearn.model_selection import GridSearchCV\n",
    "import time\n",
    "import matplotlib.pyplot as plt\n",
    "\n",
    "xg_reg = xgb.XGBRegressor(objective='reg:squarederror', eval_metric='mae')\n",
    "\n",
    "# Definir el GridSearchCV para la búsqueda de hiperparámetros\n",
    "param_grid = {\n",
    "    'n_estimators': [50, 100, 200],\n",
    "    'max_depth': [3, 6, 10],\n",
    "    'learning_rate': [0.01, 0.05, 0.1],\n",
    "    'subsample': [0.7, 1.0],\n",
    "    'colsample_bytree': [0.7, 1.0]\n",
    "}\n",
    "\n",
    "\n",
    "grid_search = GridSearchCV(estimator=xg_reg, param_grid=param_grid, scoring='neg_mean_absolute_error', cv=3, verbose=1, n_jobs=-1)\n",
    "grid_search.fit(x_train, y_train)\n",
    "\n",
    "\n",
    "print(f\"Mejor puntuación MAE: {-grid_search.best_score_:.2f}\")\n",
    "print(\"Mejores hiperparámetros:\", grid_search.best_params_)\n",
    "\n",
    "# Usar el mejor modelo encontrado para hacer predicciones\n",
    "best_model = grid_search.best_estimator_\n",
    "\n",
    "# Hacer predicciones\n",
    "y_pred = best_model.predict(x_test)\n",
    "\n",
    "# Calcular el error medio absoluto (MAE)\n",
    "mae = mean_absolute_error(y_test, y_pred)\n",
    "print(f\"MAE en el conjunto de test final: {mae:.2f}\")\n",
    "\n",
    "# Mostrar la comparación entre las predicciones y los valores reales\n",
    "plt.plot(y_test.values, label=\"Valor Real\")\n",
    "plt.plot(y_pred, label=\"Predicción\")\n",
    "plt.legend()\n",
    "plt.xlabel(\"Índice\")\n",
    "plt.ylabel(\"Superficie\")\n",
    "plt.title(\"Comparación de Predicciones con XGBoost\")\n",
    "plt.show()"
   ]
  },
  {
   "cell_type": "code",
   "execution_count": 75,
   "id": "49593327",
   "metadata": {},
   "outputs": [
    {
     "name": "stdout",
     "output_type": "stream",
     "text": [
      "Mean Absolute Error (MAE): 356.50\n"
     ]
    },
    {
     "data": {
      "image/png": "[encoded data removed]",
      "text/plain": [
       "<Figure size 640x480 with 1 Axes>"
      ]
     },
     "metadata": {},
     "output_type": "display_data"
    }
   ],
   "source": [
    "from sklearn.ensemble import AdaBoostRegressor\n",
    "from sklearn.tree import DecisionTreeRegressor\n",
    "from sklearn.model_selection import train_test_split\n",
    "from sklearn.metrics import mean_absolute_error\n",
    "import matplotlib.pyplot as plt\n",
    "\n",
    "\n",
    "# Split data for validation (optional, if you want to check cross-validation)\n",
    "# For simplicity, we will use the training set and test set defined above.\n",
    "# Initialize the AdaBoost Regressor with default DecisionTreeRegressor as base model\n",
    "ada_boost = AdaBoostRegressor(n_estimators=50, learning_rate=1.0)\n",
    "\n",
    "# Train the AdaBoost model\n",
    "ada_boost.fit(x_train, y_train)\n",
    "\n",
    "# Predict on the test set\n",
    "y_pred = ada_boost.predict(x_test)\n",
    "\n",
    "# Evaluate the model using Mean Absolute Error (MAE)\n",
    "mae = mean_absolute_error(y_test, y_pred)\n",
    "print(f'Mean Absolute Error (MAE): {mae:.2f}')\n",
    "\n",
    "# Plot actual vs predicted values\n",
    "plt.plot(y_test.values, label='Actual')\n",
    "plt.plot(y_pred, label='Predicted')\n",
    "plt.legend()\n",
    "plt.xlabel(\"Test Samples\")\n",
    "plt.ylabel(\"Superficie\")\n",
    "plt.title(\"Actual vs Predicted (AdaBoost)\")\n",
    "plt.show()"
   ]
  },
  {
   "cell_type": "markdown",
   "id": "14a09937",
   "metadata": {},
   "source": [
    "### Time series"
   ]
  },
  {
   "cell_type": "code",
   "execution_count": null,
   "id": "82ee1d5c",
   "metadata": {},
   "outputs": [],
   "source": [
    "#TODO"
   ]
  },
  {
   "cell_type": "markdown",
   "id": "3f7ecfa1",
   "metadata": {},
   "source": [
    "### Con variables exogenas"
   ]
  },
  {
   "cell_type": "code",
   "execution_count": null,
   "id": "b3743097",
   "metadata": {},
   "outputs": [],
   "source": [
    "#TODO"
   ]
  },
  {
   "cell_type": "markdown",
   "id": "883c9640",
   "metadata": {},
   "source": [
    "## Performances"
   ]
  },
  {
   "cell_type": "code",
   "execution_count": null,
   "id": "fb0f488a",
   "metadata": {},
   "outputs": [],
   "source": [
    "#TODO"
   ]
  },
  {
   "cell_type": "markdown",
   "id": "bb6dcd49",
   "metadata": {},
   "source": []
  },
  {
   "cell_type": "markdown",
   "id": "cc88c4df",
   "metadata": {},
   "source": [
    "## Test Model\n"
   ]
  },
  {
   "cell_type": "code",
   "execution_count": null,
   "id": "1e0aa303",
   "metadata": {},
   "outputs": [],
   "source": [
    "#TODO"
   ]
  }
 ],
 "metadata": {
  "kernelspec": {
   "display_name": "Python 3",
   "language": "python",
   "name": "python3"
  },
  "language_info": {
   "codemirror_mode": {
    "name": "ipython",
    "version": 3
   },
   "file_extension": ".py",
   "mimetype": "text/x-python",
   "name": "python",
   "nbconvert_exporter": "python",
   "pygments_lexer": "ipython3",
   "version": "3.9.9"
  }
 },
 "nbformat": 4,
 "nbformat_minor": 5
}
