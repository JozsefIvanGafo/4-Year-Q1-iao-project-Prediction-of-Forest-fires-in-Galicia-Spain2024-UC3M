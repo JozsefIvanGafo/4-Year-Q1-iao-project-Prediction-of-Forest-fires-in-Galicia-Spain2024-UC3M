{
 "cells": [
  {
   "cell_type": "code",
   "execution_count": 1,
   "id": "d8e7241b",
   "metadata": {},
   "outputs": [],
   "source": [
    "import pandas as pd\n",
    "from datetime import datetime\n",
    "import numpy as np"
   ]
  },
  {
   "cell_type": "markdown",
   "id": "fae4ad70",
   "metadata": {},
   "source": [
    "We import our dataset"
   ]
  },
  {
   "cell_type": "code",
   "execution_count": 2,
   "id": "e13d1dc7",
   "metadata": {},
   "outputs": [],
   "source": [
    "data_path=\"data/fires-all.csv\"\n",
    "try:\n",
    "    fires=pd.read_csv(data_path)\n",
    "except Exception as error:\n",
    "    print(f\"Error while importing the excel file: {error}\")\n",
    "fires.head()"
   ]
  },
  {
   "cell_type": "code",
   "execution_count": 3,
   "id": "d7eb79af",
   "metadata": {},
   "outputs": [],
   "source": [
    "fires.info()"
   ]
  },
  {
   "cell_type": "markdown",
   "id": "0dae4e65",
   "metadata": {},
   "source": [
    "### Remove unnecesary columns"
   ]
  },
  {
   "cell_type": "markdown",
   "id": "b1ac7bfc",
   "metadata": {},
   "source": [
    "### Remove unnecesary rows"
   ]
  },
  {
   "cell_type": "code",
   "execution_count": 4,
   "id": "322dc45d",
   "metadata": {},
   "outputs": [],
   "source": [
    "#We only want the fires of the comunidad 3 (Galicia)\n",
    "fires=fires[fires[\"idcomunidad\"]==3]\n",
    "#We drop null values on lat and lng, beacsue we cannot find where the fire happend,\n",
    "#  and it is older data from  1968\n",
    "fires=fires.dropna(subset=[\"lat\",\"lng\"])\n",
    "#We remove the column idcomunidad as it is no longer need it\n",
    "fires.drop([\"idcomunidad\"],axis=1,inplace=True)\n",
    "#print how many null values are for each column\n",
    "fires.isna().sum(),\n",
    "#TODO: from the coordinates lat and lng obtain the blanks municipio"
   ]
  },
  {
   "cell_type": "code",
   "execution_count": 5,
   "id": "5d571811",
   "metadata": {},
   "outputs": [],
   "source": [
    "#We save the data for the time series prediction\n",
    "data_path=\"data/fires-time-series.xlsx\"\n",
    "try:\n",
    "    fires.to_excel(data_path,index=False)\n",
    "except Exception as error:\n",
    "    print(f\"Error while exporting the data to the excel file: {error}\")"
   ]
  },
  {
   "cell_type": "code",
   "execution_count": 6,
   "id": "3360016c",
   "metadata": {},
   "outputs": [],
   "source": [
    "data_path=\"data/fires-time-series.xlsx\"\n",
    "try:\n",
    "    fires_time_series=pd.read_excel(data_path)\n",
    "except Exception as error:\n",
    "    print(f\"Error while importing the excel file: {error}\")\n",
    "fires.head()"
   ]
  },
  {
   "cell_type": "markdown",
   "id": "dd33b986",
   "metadata": {},
   "source": [
    "#### Filtramos las fechas que sean mas antiguas del 2005"
   ]
  },
  {
   "cell_type": "markdown",
   "id": "72911a7f",
   "metadata": {},
   "source": [
    "#### Juntamos todos los datos en un unico csv por estacion meteo\n"
   ]
  },
  {
   "cell_type": "code",
   "execution_count": 7,
   "id": "b38e7850",
   "metadata": {},
   "outputs": [],
   "source": [
    "\n",
    "year_data = pd.read_csv(\"data/2008_2009/C02_Boimorto_01_01_2008_01_01_2009.csv\",  encoding='utf-8', delimiter=',', decimal='.')\n",
    "year_data.head()\n"
   ]
  },
  {
   "cell_type": "code",
   "execution_count": 8,
   "id": "006cccdc",
   "metadata": {},
   "outputs": [],
   "source": [
    "#Definimos las estaciones de meteorologia\n",
    "# stations=[\"C01_A Capela_\",\"C02_Boimorto_\",\"LU01_Castro de Rei_\",\"LU02_Monforte de Lemos_\"]\n",
    "stations=[\"C01_A Capela_\"]\n",
    "station_data = {station: pd.DataFrame() for station in stations}\n",
    "\n",
    "dataset_all = pd.DataFrame()\n",
    "\n",
    "#Iteramos por todos los años que tenemos disponibles de datos meteorologicos\n",
    "for year in range(2005,2019):\n",
    "    #Actualizamos el data path\n",
    "    data_path=f\"data/{year}_{year+1}/\"\n",
    "    #Por cada estacion lo abrimos y lo juntamos\n",
    "    for station in stations:\n",
    "        try:\n",
    "            station_path=data_path+f\"{station}01_01_{year}_01_01_{year+1}.csv\"\n",
    "            \n",
    "            aux = pd.read_csv(station_path)\n",
    "\n",
    "            dataset_all = pd.concat([dataset_all, aux], ignore_index=True)\n",
    "\n",
    "            #Guardamos en station data\n",
    "            station_data[station].concat([station_data[station],aux],ignore_index=True)\n",
    "            \n",
    "        except pd.errors.ParserError as parse_error:\n",
    "            print(f\"Parser error when reading {station_path}: {parse_error}\")\n",
    "        except FileNotFoundError as file_error:\n",
    "            print(f\"File not found: {station_path}\")\n",
    "        except Exception as general_error:\n",
    "            print(f\"General error occurred while reading the file: {general_error}\")\n",
    "    print(f\"Datos cargados para del año {year}\")\n",
    "\n",
    "\n",
    "dataset_all.show()\n",
    "station_data[\"C01_A Capela_\"].show()"
   ]
  },
  {
   "cell_type": "code",
   "execution_count": null,
   "id": "b5232535",
   "metadata": {},
   "outputs": [],
   "source": [
    "fires.isna().sum()"
   ]
  },
  {
   "cell_type": "code",
   "execution_count": null,
   "id": "b599bf58",
   "metadata": {},
   "outputs": [],
   "source": [
    "fires.info()"
   ]
  },
  {
   "cell_type": "code",
   "execution_count": null,
   "id": "03fa27c7",
   "metadata": {},
   "outputs": [],
   "source": [
    "#This si done to avoid repeating teh fetching of weather that is an intensive task\n",
    "data_path=\"data/fires-weather.xlsx\"\n",
    "try:\n",
    "    fires=pd.read_excel(data_path)\n",
    "except Exception as error:\n",
    "    print(f\"Error while importing the excel file: {error}\")\n",
    "fires.head()"
   ]
  },
  {
   "cell_type": "markdown",
   "id": "cb3db8c4",
   "metadata": {},
   "source": [
    "### Group by weeks"
   ]
  },
  {
   "cell_type": "markdown",
   "id": "57e04996",
   "metadata": {},
   "source": [
    "### Split train and test data"
   ]
  },
  {
   "cell_type": "code",
   "execution_count": null,
   "id": "dcb7131e",
   "metadata": {},
   "outputs": [],
   "source": [
    "#We split 80% of the data for training the model\n",
    "train_split=80\n"
   ]
  },
  {
   "cell_type": "markdown",
   "id": "3b417960",
   "metadata": {},
   "source": [
    "## Data cleaning"
   ]
  },
  {
   "cell_type": "markdown",
   "id": "dd26649a",
   "metadata": {},
   "source": [
    "### Set up"
   ]
  },
  {
   "cell_type": "markdown",
   "id": "3481befd",
   "metadata": {},
   "source": [
    "We first import the different libraries that we will be using for this project"
   ]
  },
  {
   "cell_type": "markdown",
   "id": "fae4ad70",
   "metadata": {},
   "source": [
    "We import our dataset"
   ]
  },
  {
   "cell_type": "code",
   "execution_count": 3,
   "id": "d7eb79af",
   "metadata": {},
   "outputs": [
    {
     "name": "stdout",
     "output_type": "stream",
     "text": [
      "<class 'pandas.core.frame.DataFrame'>\n",
      "RangeIndex: 284589 entries, 0 to 284588\n",
      "Data columns (total 21 columns):\n",
      " #   Column           Non-Null Count   Dtype  \n",
      "---  ------           --------------   -----  \n",
      " 0   id               284589 non-null  int64  \n",
      " 1   superficie       284589 non-null  float64\n",
      " 2   fecha            284589 non-null  object \n",
      " 3   lat              230154 non-null  float64\n",
      " 4   lng              230154 non-null  float64\n",
      " 5   latlng_explicit  284589 non-null  int64  \n",
      " 6   idcomunidad      284589 non-null  int64  \n",
      " 7   idprovincia      284589 non-null  int64  \n",
      " 8   idmunicipio      284589 non-null  int64  \n",
      " 9   municipio        284576 non-null  object \n",
      " 10  causa            284589 non-null  int64  \n",
      " 11  causa_supuesta   284589 non-null  int64  \n",
      " 12  causa_desc       284589 non-null  int64  \n",
      " 13  muertos          284589 non-null  int64  \n",
      " 14  heridos          284589 non-null  int64  \n",
      " 15  time_ctrl        284589 non-null  int64  \n",
      " 16  time_ext         284589 non-null  int64  \n",
      " 17  personal         284589 non-null  int64  \n",
      " 18  medios           284589 non-null  int64  \n",
      " 19  gastos           284589 non-null  int64  \n",
      " 20  perdidas         284589 non-null  int64  \n",
      "dtypes: float64(3), int64(16), object(2)\n",
      "memory usage: 45.6+ MB\n"
     ]
    }
   ],
   "source": [
    "fires.info()"
   ]
  },
  {
   "cell_type": "markdown",
   "id": "b1ac7bfc",
   "metadata": {},
   "source": [
    "### Remove unnecesary rows"
   ]
  },
  {
   "cell_type": "code",
   "execution_count": 5,
   "id": "5d571811",
   "metadata": {},
   "outputs": [
    {
     "name": "stdout",
     "output_type": "stream",
     "text": [
      "Error while exporting the data to the excel file: No module named 'openpyxl'\n"
     ]
    }
   ],
   "source": [
    "#We save the data for the time series prediction\n",
    "data_path=\"data/fires-time-series.xlsx\"\n",
    "try:\n",
    "    fires.to_excel(data_path,index=False)\n",
    "except Exception as error:\n",
    "    print(f\"Error while exporting the data to the excel file: {error}\")"
   ]
  },
  {
   "cell_type": "markdown",
   "id": "dd33b986",
   "metadata": {},
   "source": [
    "#### Filtramos las fechas que sean mas antiguas del 2005"
   ]
  },
  {
   "cell_type": "code",
   "execution_count": 7,
   "id": "b38e7850",
   "metadata": {},
   "outputs": [
    {
     "data": {
      "text/html": [
       "<div>\n",
       "<style scoped>\n",
       "    .dataframe tbody tr th:only-of-type {\n",
       "        vertical-align: middle;\n",
       "    }\n",
       "\n",
       "    .dataframe tbody tr th {\n",
       "        vertical-align: top;\n",
       "    }\n",
       "\n",
       "    .dataframe thead th {\n",
       "        text-align: right;\n",
       "    }\n",
       "</style>\n",
       "<table border=\"1\" class=\"dataframe\">\n",
       "  <thead>\n",
       "    <tr style=\"text-align: right;\">\n",
       "      <th></th>\n",
       "      <th>IdProvincia</th>\n",
       "      <th>IdEstacion</th>\n",
       "      <th>Fecha</th>\n",
       "      <th>Año</th>\n",
       "      <th>Dia</th>\n",
       "      <th>Temp Media (ºC)</th>\n",
       "      <th>Temp Max (ºC)</th>\n",
       "      <th>Hora Temp Max</th>\n",
       "      <th>Temp Mínima (ºC)</th>\n",
       "      <th>Hora Temp Min</th>\n",
       "      <th>...</th>\n",
       "      <th>DirViento (º)</th>\n",
       "      <th>VelVientoMax (m/s)</th>\n",
       "      <th>Hora VelMax</th>\n",
       "      <th>Dir viento Vel Max (º)</th>\n",
       "      <th>Radiación (MJ/m2)</th>\n",
       "      <th>Precipitación (mm)</th>\n",
       "      <th>PePMon</th>\n",
       "      <th>EtPMon</th>\n",
       "      <th>Temp Suelo 10 cm (ºC)</th>\n",
       "      <th>Temp Suelo 30 cm (ºC)</th>\n",
       "    </tr>\n",
       "  </thead>\n",
       "  <tbody>\n",
       "    <tr>\n",
       "      <th>0</th>\n",
       "      <td>15</td>\n",
       "      <td>2</td>\n",
       "      <td>01/01/2008</td>\n",
       "      <td>2008</td>\n",
       "      <td>1</td>\n",
       "      <td>7.12</td>\n",
       "      <td>10.22</td>\n",
       "      <td>14:10</td>\n",
       "      <td>3.86</td>\n",
       "      <td>02:30</td>\n",
       "      <td>...</td>\n",
       "      <td>152.3</td>\n",
       "      <td>10.59</td>\n",
       "      <td>22:37</td>\n",
       "      <td>151.7</td>\n",
       "      <td>3.37</td>\n",
       "      <td>9.8</td>\n",
       "      <td>5.47</td>\n",
       "      <td>0.93</td>\n",
       "      <td>NaN</td>\n",
       "      <td>NaN</td>\n",
       "    </tr>\n",
       "    <tr>\n",
       "      <th>1</th>\n",
       "      <td>15</td>\n",
       "      <td>2</td>\n",
       "      <td>02/01/2008</td>\n",
       "      <td>2008</td>\n",
       "      <td>2</td>\n",
       "      <td>7.86</td>\n",
       "      <td>10.02</td>\n",
       "      <td>15:40</td>\n",
       "      <td>6.24</td>\n",
       "      <td>07:30</td>\n",
       "      <td>...</td>\n",
       "      <td>181.1</td>\n",
       "      <td>9.01</td>\n",
       "      <td>23:02</td>\n",
       "      <td>153.0</td>\n",
       "      <td>3.01</td>\n",
       "      <td>26.6</td>\n",
       "      <td>16.33</td>\n",
       "      <td>0.58</td>\n",
       "      <td>NaN</td>\n",
       "      <td>NaN</td>\n",
       "    </tr>\n",
       "    <tr>\n",
       "      <th>2</th>\n",
       "      <td>15</td>\n",
       "      <td>2</td>\n",
       "      <td>03/01/2008</td>\n",
       "      <td>2008</td>\n",
       "      <td>3</td>\n",
       "      <td>5.97</td>\n",
       "      <td>8.44</td>\n",
       "      <td>01:20</td>\n",
       "      <td>4.31</td>\n",
       "      <td>18:50</td>\n",
       "      <td>...</td>\n",
       "      <td>198.4</td>\n",
       "      <td>8.17</td>\n",
       "      <td>01:32</td>\n",
       "      <td>229.9</td>\n",
       "      <td>2.54</td>\n",
       "      <td>17.8</td>\n",
       "      <td>10.87</td>\n",
       "      <td>0.48</td>\n",
       "      <td>NaN</td>\n",
       "      <td>NaN</td>\n",
       "    </tr>\n",
       "    <tr>\n",
       "      <th>3</th>\n",
       "      <td>15</td>\n",
       "      <td>2</td>\n",
       "      <td>04/01/2008</td>\n",
       "      <td>2008</td>\n",
       "      <td>4</td>\n",
       "      <td>6.26</td>\n",
       "      <td>9.48</td>\n",
       "      <td>23:10</td>\n",
       "      <td>2.07</td>\n",
       "      <td>07:40</td>\n",
       "      <td>...</td>\n",
       "      <td>186.2</td>\n",
       "      <td>6.31</td>\n",
       "      <td>22:51</td>\n",
       "      <td>210.6</td>\n",
       "      <td>1.98</td>\n",
       "      <td>0.0</td>\n",
       "      <td>0.00</td>\n",
       "      <td>0.43</td>\n",
       "      <td>NaN</td>\n",
       "      <td>NaN</td>\n",
       "    </tr>\n",
       "    <tr>\n",
       "      <th>4</th>\n",
       "      <td>15</td>\n",
       "      <td>2</td>\n",
       "      <td>05/01/2008</td>\n",
       "      <td>2008</td>\n",
       "      <td>5</td>\n",
       "      <td>11.69</td>\n",
       "      <td>13.46</td>\n",
       "      <td>13:50</td>\n",
       "      <td>9.22</td>\n",
       "      <td>00:10</td>\n",
       "      <td>...</td>\n",
       "      <td>228.3</td>\n",
       "      <td>7.78</td>\n",
       "      <td>16:05</td>\n",
       "      <td>275.9</td>\n",
       "      <td>0.83</td>\n",
       "      <td>2.2</td>\n",
       "      <td>0.00</td>\n",
       "      <td>0.37</td>\n",
       "      <td>NaN</td>\n",
       "      <td>NaN</td>\n",
       "    </tr>\n",
       "  </tbody>\n",
       "</table>\n",
       "<p>5 rows × 26 columns</p>\n",
       "</div>"
      ],
      "text/plain": [
       "   IdProvincia  IdEstacion       Fecha   Año  Dia  Temp Media (ºC)  \\\n",
       "0           15           2  01/01/2008  2008    1             7.12   \n",
       "1           15           2  02/01/2008  2008    2             7.86   \n",
       "2           15           2  03/01/2008  2008    3             5.97   \n",
       "3           15           2  04/01/2008  2008    4             6.26   \n",
       "4           15           2  05/01/2008  2008    5            11.69   \n",
       "\n",
       "   Temp Max (ºC) Hora Temp Max  Temp Mínima (ºC) Hora Temp Min  ...  \\\n",
       "0          10.22         14:10              3.86         02:30  ...   \n",
       "1          10.02         15:40              6.24         07:30  ...   \n",
       "2           8.44         01:20              4.31         18:50  ...   \n",
       "3           9.48         23:10              2.07         07:40  ...   \n",
       "4          13.46         13:50              9.22         00:10  ...   \n",
       "\n",
       "   DirViento (º)  VelVientoMax (m/s) Hora VelMax  Dir viento Vel Max (º)  \\\n",
       "0          152.3               10.59       22:37                   151.7   \n",
       "1          181.1                9.01       23:02                   153.0   \n",
       "2          198.4                8.17       01:32                   229.9   \n",
       "3          186.2                6.31       22:51                   210.6   \n",
       "4          228.3                7.78       16:05                   275.9   \n",
       "\n",
       "  Radiación (MJ/m2)  Precipitación (mm)  PePMon  EtPMon Temp Suelo 10 cm (ºC)  \\\n",
       "0              3.37                 9.8    5.47    0.93                   NaN   \n",
       "1              3.01                26.6   16.33    0.58                   NaN   \n",
       "2              2.54                17.8   10.87    0.48                   NaN   \n",
       "3              1.98                 0.0    0.00    0.43                   NaN   \n",
       "4              0.83                 2.2    0.00    0.37                   NaN   \n",
       "\n",
       "   Temp Suelo 30 cm (ºC)  \n",
       "0                    NaN  \n",
       "1                    NaN  \n",
       "2                    NaN  \n",
       "3                    NaN  \n",
       "4                    NaN  \n",
       "\n",
       "[5 rows x 26 columns]"
      ]
     },
     "execution_count": 7,
     "metadata": {},
     "output_type": "execute_result"
    }
   ],
   "source": [
    "\n",
    "year_data = pd.read_csv(\"data/2008_2009/C02_Boimorto_01_01_2008_01_01_2009.csv\",  encoding='utf-8', delimiter=',', decimal='.')\n",
    "year_data.head()\n"
   ]
  },
  {
   "cell_type": "code",
   "execution_count": null,
   "id": "b5232535",
   "metadata": {},
   "outputs": [],
   "source": [
    "fires.isna().sum()"
   ]
  },
  {
   "cell_type": "code",
   "execution_count": null,
   "id": "03fa27c7",
   "metadata": {},
   "outputs": [],
   "source": [
    "#This si done to avoid repeating teh fetching of weather that is an intensive task\n",
    "data_path=\"data/fires-weather.xlsx\"\n",
    "try:\n",
    "    fires=pd.read_excel(data_path)\n",
    "except Exception as error:\n",
    "    print(f\"Error while importing the excel file: {error}\")\n",
    "fires.head()"
   ]
  },
  {
   "cell_type": "markdown",
   "id": "57e04996",
   "metadata": {},
   "source": [
    "### Split train and test data"
   ]
  },
  {
   "cell_type": "markdown",
   "id": "a65ac8e1",
   "metadata": {},
   "source": [
    "### Analyze train data set"
   ]
  },
  {
   "cell_type": "code",
   "execution_count": null,
   "id": "82ee1d5c",
   "metadata": {},
   "outputs": [],
   "source": [
    "#TODO"
   ]
  },
  {
   "cell_type": "code",
   "execution_count": null,
   "id": "b3743097",
   "metadata": {},
   "outputs": [],
   "source": [
    "#TODO"
   ]
  },
  {
   "cell_type": "code",
   "execution_count": null,
   "id": "fb0f488a",
   "metadata": {},
   "outputs": [],
   "source": [
    "#TODO"
   ]
  },
  {
   "cell_type": "markdown",
   "id": "cc88c4df",
   "metadata": {},
   "source": [
    "## Test Model\n"
   ]
  }
 ],
 "metadata": {
  "kernelspec": {
   "display_name": "Python 3",
   "language": "python",
   "name": "python3"
  },
  "language_info": {
   "codemirror_mode": {
    "name": "ipython",
    "version": 3
   },
   "file_extension": ".py",
   "mimetype": "text/x-python",
   "name": "python",
   "nbconvert_exporter": "python",
   "pygments_lexer": "ipython3",
   "version": "3.12.8"
  }
 },
 "nbformat": 4,
 "nbformat_minor": 5
}
